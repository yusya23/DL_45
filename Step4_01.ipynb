{
 "cells": [
  {
   "cell_type": "markdown",
   "metadata": {},
   "source": [
    "# Step4 演習01 Pythonのクラスを使った畳み込み層とプーリング層の作成\n",
    "---"
   ]
  },
  {
   "cell_type": "markdown",
   "metadata": {},
   "source": [
    "本演習では、numpyを使って全結合層や畳み込み層、プーリング層といったCNNの基本的な層を実装します。\n",
    "\n",
    "**はじめに**\n",
    "- for文やwhile文の利用は明示的な利用指示がない場所での使用は避けてください。\n",
    "\n",
    "**本演習の目的**\n",
    "- numpyのみを使ってCNNの基本的な層を実装し、より理解を深める\n",
    "- 全結合層、畳み込み層、プーリング層の順伝播、逆伝播を実装する"
   ]
  },
  {
   "cell_type": "markdown",
   "metadata": {},
   "source": [
    "## ライブラリのインポート\n",
    "\n",
    "まずはじめに、本演習で利用するライブラリのインポートを行います。\n",
    "\n",
    "- [numpy](http://www.numpy.org) 数値計算を行うための基本パッケージの公式ドキュメント\n",
    "- [matplotlib](http://matplotlib.org) グラフ描画ライブラリの基本パッケージの公式ドキュメント\n",
    "\n",
    "`%matplotlib inline` はnotebook上で使える[magic function](http://ipython.readthedocs.io/en/stable/interactive/magics.html)の一つで、これによりmatplotlibをインタラクティブに使うことできます。"
   ]
  },
  {
   "cell_type": "code",
   "execution_count": 1,
   "metadata": {
    "collapsed": true
   },
   "outputs": [],
   "source": [
    "import numpy as np\n",
    "import matplotlib.pyplot as plt\n",
    "%matplotlib inline"
   ]
  },
  {
   "cell_type": "markdown",
   "metadata": {},
   "source": [
    "## パラメータの初期化関数の実装"
   ]
  },
  {
   "cell_type": "markdown",
   "metadata": {},
   "source": [
    "**【課題１】**\n",
    "まずは、重みを正規分布に従って初期化する関数を作成します。`init_gaussian`には2つの引数があります。\n",
    "- `shape`: 重みの形（全結合層の場合：（入力、出力）、畳み込み層の場合（フィルタの縦、フィルタの横、入力チャンネル、出力チャンネル））\n",
    "- `std`： 正規分布の分散（`std=0.001`とすることで`std`のデフォルト値が`0.001`となります。\n",
    "\n",
    "正規分布に従って初期化するには、[np.random.normal](https://docs.scipy.org/doc/numpy-1.13.0/reference/generated/numpy.random.normal.html)を使います。"
   ]
  },
  {
   "cell_type": "code",
   "execution_count": 2,
   "metadata": {
    "collapsed": false
   },
   "outputs": [],
   "source": [
    "#Coursedele-02 Step4 QuestionNumber1 404f89a87b260009e3bc22ca87280cfc\n",
    "def init_gaussian(shape, std=0.001):\n",
    "    ###############START CODE HERE###############\n",
    "    out = np.random.normal(scale=std,size=shape)\n",
    "    ################END CODE HERE################\n",
    "    return out"
   ]
  },
  {
   "cell_type": "markdown",
   "metadata": {},
   "source": [
    "** ファイルを保存後 **、次のセルを実行（Shift+Enter）で採点を行います。"
   ]
  },
  {
   "cell_type": "code",
   "execution_count": 3,
   "metadata": {
    "collapsed": false
   },
   "outputs": [
    {
     "name": "stdout",
     "output_type": "stream",
     "text": [
      "Congratulations!\n",
      "We give you 10 points out of 10 points.\n",
      "\n"
     ]
    }
   ],
   "source": [
    "%%bash\n",
    "./validation_client.py dele-02 4 1 Step4_01.ipynb api.internal.zero2one.jp"
   ]
  },
  {
   "cell_type": "markdown",
   "metadata": {},
   "source": [
    "## 全結合層の実装"
   ]
  },
  {
   "cell_type": "markdown",
   "metadata": {},
   "source": [
    "**【課題２】**\n",
    "ニューラルネットワークの章でも全結合層（`FC`層）は実装しましたが、ここではクラスを使って実装します。この`FC`はクラスになっており、クラスの中に3つの関数（クラス内関数=メソッド）があります。このメソッドの初めには必ず`self`があり、これを使ってクラス内の変数を取得したり、別のメソッドを呼ぶことができます。\n",
    "\n",
    "**def \\_\\_init\\_\\_(self, in_size, out_size):**\n",
    "\n",
    "このメソッドはクラス`FC`をはじめに呼んだ時に実行されます。\n",
    "この関数には2つ（selfを除いて）の引数があります。\n",
    "- `in_size`: 全結合層の入力サイズ\n",
    "- `out_size`: 全結合層の出力サイズ\n",
    "\n",
    "ここでは、全結合層の重み`W`を先ほど作成した`init_gaussian`で初期化、バイアス`b`を[np.zeros](https://docs.scipy.org/doc/numpy-1.13.0/reference/generated/numpy.zeros.html)で初期化します。ここで`self.W`や`self.b`のように`self`を使うことでこのクラス内の他のメソッドで使用することができます。\n",
    "\n",
    "**def forward(self, X):**\n",
    "\n",
    "このメソッドは前の層の出力`X`を入力として受け取り、順伝播を計算します。順伝播は、\n",
    "$$\n",
    "\\begin{eqnarray}\n",
    "\\boldsymbol{a} = \\boldsymbol{W}\\boldsymbol{x} + \\boldsymbol{b} (=out)\n",
    "\\end{eqnarray}\n",
    "$$\n",
    "で計算できます。この`forward`の出力は特徴マップとなります。\n",
    "\n",
    "**def backward(self, dX):**\n",
    "このメソッドは後の層の勾配`dX`を入力として受け取り、逆伝播を計算します。逆伝播は、\n",
    "$$\n",
    "\\begin{eqnarray}\n",
    "\\frac{\\partial\\boldsymbol{L}}{\\partial\\boldsymbol{a}} &=&  (=dX) \\\\\n",
    "\\frac{\\partial\\boldsymbol{L}}{\\partial\\boldsymbol{W}} &=& \\frac{\\partial\\boldsymbol{L}}{\\partial\\boldsymbol{a}}\\frac{\\partial\\boldsymbol{a}}{\\partial\\boldsymbol{W}} (=dW) \\\\\n",
    "\\frac{\\partial\\boldsymbol{L}}{\\partial\\boldsymbol{b}} &=& \\frac{\\partial\\boldsymbol{L}}{\\partial\\boldsymbol{a}}\\frac{\\partial\\boldsymbol{a}}{\\partial\\boldsymbol{b}} (=db) \\\\\n",
    "\\frac{\\partial\\boldsymbol{L}}{\\partial\\boldsymbol{x}} &=& \\frac{\\partial\\boldsymbol{L}}{\\partial\\boldsymbol{a}}\\frac{\\partial\\boldsymbol{a}}{\\partial\\boldsymbol{x}} (=dX_{prev})\n",
    "\\end{eqnarray}\n",
    "$$\n",
    "となります。カッコ内はプログラム内の変数名です。この`backward`の出力はまず、次の層（逆伝播しているので1つ浅い層）への入力となる勾配`dX_prev`と全結合層の重みとバイアスの勾配`dW`と`db`です。\n",
    "\n",
    "**注意**: 実装する際にはXにミニバッチの次元があるので、上式の順序を入れ替えて書く必要があります。"
   ]
  },
  {
   "cell_type": "markdown",
   "metadata": {},
   "source": [
    "### FCクラスの作成\n",
    "\n",
    "FCクラスの作成後は、下の**順伝播のテスト**と**逆伝播のテスト**で実装内容のテストができます。\n",
    "\n",
    "もし実装に誤りがあればエラーが出力されるか、「順伝播の出力」と「逆伝播の出力」が一致しません。\n",
    "<br><br>\n",
    "以降の課題も<font color='red'>**\"実装内容のテスト結果\"**</font>を確認してエラーの解決に取り組んでみましょう。"
   ]
  },
  {
   "cell_type": "code",
   "execution_count": 4,
   "metadata": {
    "collapsed": true
   },
   "outputs": [],
   "source": [
    "#Coursedele-02 Step4 QuestionNumber2 2baf33a963d5d1fcc301090258b72af4\n",
    "class FC():\n",
    "    def __init__(self, in_size, out_size, lam2=0.0):\n",
    "        ###############START CODE HERE###############\n",
    "        '''\n",
    "        Wの形は(in_size, out_size)\n",
    "        bの形は（1, out_size)\n",
    "        '''\n",
    "        self.W = init_gaussian((in_size,out_size))\n",
    "        self.b = np.zeros((1,out_size))\n",
    "        ################END CODE HERE################\n",
    "        self.params = [self.W, self.b]\n",
    "\n",
    "    def forward(self, X):\n",
    "        self.X = X # backwardで使うためself.Xと置く\n",
    "        ###############START CODE HERE###############\n",
    "        out = np.dot(self.X,self.W) + self.b\n",
    "        ################END CODE HERE################\n",
    "        return out\n",
    "\n",
    "    def backward(self, dX):\n",
    "        ###############START CODE HERE###############\n",
    "        dW = np.dot(self.X.T, dX)\n",
    "        db = np.sum(dX,axis=0)\n",
    "        dX_prev = np.dot(dX, self.W.T)\n",
    "        ################END CODE HERE################\n",
    "        return dX_prev, [dW, db]"
   ]
  },
  {
   "cell_type": "markdown",
   "metadata": {},
   "source": [
    "** ファイルを保存後 **、次のセルを実行（Shift+Enter）で採点を行います。"
   ]
  },
  {
   "cell_type": "code",
   "execution_count": 5,
   "metadata": {
    "code_folding": [],
    "collapsed": false
   },
   "outputs": [
    {
     "name": "stdout",
     "output_type": "stream",
     "text": [
      "Congratulations!\n",
      "We give you 10 points out of 10 points.\n",
      "\n"
     ]
    }
   ],
   "source": [
    "%%bash\n",
    "./validation_client.py dele-02 4 2 Step4_01.ipynb api.internal.zero2one.jp"
   ]
  },
  {
   "cell_type": "markdown",
   "metadata": {},
   "source": [
    "### 順伝播のテスト"
   ]
  },
  {
   "cell_type": "markdown",
   "metadata": {},
   "source": [
    "まず`FC`の順伝播をテストします。\n",
    "\n",
    "実装がうまくいっていない場合はエラー結果を参考にコードを見直しましょう。"
   ]
  },
  {
   "cell_type": "code",
   "execution_count": 6,
   "metadata": {
    "collapsed": false
   },
   "outputs": [
    {
     "name": "stdout",
     "output_type": "stream",
     "text": [
      "out[0] = [0.64141611 1.44860261 1.31908022 1.58485287 1.10217833 0.65788967]\n"
     ]
    }
   ],
   "source": [
    "# in_size=3, out_size=6の全結合層を作成\n",
    "fc = FC(in_size=3, out_size=6)\n",
    "# ランダム生成のシード値を設定\n",
    "np.random.seed(1234) \n",
    "# 本来はFC内で重みWは生成してくれるが、今回は指定の重みに上書き\n",
    "fc.W = np.random.random((3, 6)) \n",
    "# ミニバッチ2，サイズ2の入力Xを作成\n",
    "X = np.random.random((2, 3))\n",
    "out = fc.forward(X)\n",
    "print('out[0] = {}'.format(out[0]))"
   ]
  },
  {
   "cell_type": "markdown",
   "metadata": {},
   "source": [
    "**順伝播の出力**:\n",
    "\n",
    "fc.forward(X)[0] = [ 0.64141611  1.44860261  1.31908022  1.58485287  1.10217833  0.65788967]\n"
   ]
  },
  {
   "cell_type": "markdown",
   "metadata": {},
   "source": [
    "クラスを使うことで内部で値を保存してくれるので、どこからでも呼び出すことができます。例えば、バイアスの値が知りたければ、`fc.bias`とするだけです。"
   ]
  },
  {
   "cell_type": "markdown",
   "metadata": {},
   "source": [
    "### 逆伝播のテスト"
   ]
  },
  {
   "cell_type": "markdown",
   "metadata": {},
   "source": [
    "次に`FC`の逆伝播をテストします。\n",
    "\n",
    "実装がうまくいっていない場合はエラー結果を参考にコードを見直しましょう。"
   ]
  },
  {
   "cell_type": "code",
   "execution_count": 7,
   "metadata": {
    "collapsed": false
   },
   "outputs": [
    {
     "name": "stdout",
     "output_type": "stream",
     "text": [
      "dX_prev[0] = [1.91476169 2.07478176 1.57322977]\n",
      "dW[0] = [0.31814638 0.97425129 0.92792295 1.14599162 0.82298545 0.51897731]\n",
      "db = [0.46798371 1.42398095 1.39586709 1.66129122 1.13779308 0.77358773]\n"
     ]
    }
   ],
   "source": [
    "np.random.seed(1234) \n",
    "# 勾配を作成\n",
    "dX = np.random.random((2, 6))\n",
    "# 順伝播で使用したfcを使う\n",
    "dX_prev, [dW, db] = fc.backward(dX)\n",
    "print('dX_prev[0] =', dX_prev[0])\n",
    "print('dW[0] =', dW[0])\n",
    "print('db =', db)"
   ]
  },
  {
   "cell_type": "markdown",
   "metadata": {},
   "source": [
    "**逆伝播の出力**:\n",
    "\n",
    "dX_prev[0] = [ 1.91476169  2.07478176  1.57322977]\n",
    "\n",
    "dW[0] = [ 0.31814638  0.97425129  0.92792295  1.14599162  0.82298545  0.51897731]\n",
    "\n",
    "db = [ 0.46798371  1.42398095  1.39586709  1.66129122  1.13779308  0.77358773]"
   ]
  },
  {
   "cell_type": "markdown",
   "metadata": {},
   "source": [
    "## 畳み込み層の実装"
   ]
  },
  {
   "cell_type": "markdown",
   "metadata": {},
   "source": [
    "ここからいよいよ畳み込み層の実装に入ります。一見ややこしく、複雑に見えますが基本的にニューラルネットワークの章で学んだ知識があれば実装できます。"
   ]
  },
  {
   "cell_type": "markdown",
   "metadata": {},
   "source": [
    "### 畳み込みの実装\n",
    "**【課題３】**\n",
    "ここでは畳み込み関数`convolute`を実装します。畳み込みでは下図のように、入力のある領域にカーネルを要素毎に掛けて、すべての要素を足し合わせます。バイアスがある場合は、要素積のあとにバイアスを足し、その後すべての要素を足し合わせます。\n",
    "\n",
    "<div style=\"width:60%\">\n",
    "<img src=\"./img/step4_convolute.png\"></div>\n",
    "\n",
    "もう少し厳密に説明すると、ここでは縦横以外にチャンネルがあるので、チャンネルを加えるとこのような図になります。\n",
    "\n",
    "<div style=\"width:50%\">\n",
    "<img src=\"./img/step4_convolute2.png\" height=\"200\"></div>\n",
    "\n",
    "この関数は3つの引数があります。\n",
    "- `x`: 入力画像のある領域（カーネルのサイズと同じ, 下図で説明すると入力画像の黄色の四角の領域）、形は（フィルター縦幅、フィルター横幅、入力チャンネル）\n",
    "- `W`: 畳み込みの重み\n",
    "- `b`: 畳み込みのバイアス\n"
   ]
  },
  {
   "cell_type": "code",
   "execution_count": 8,
   "metadata": {
    "collapsed": true
   },
   "outputs": [],
   "source": [
    "#Coursedele-02 Step4 QuestionNumber3 04c7b3e5b29cb899cc045cc427ea6bde\n",
    "def convolute(x, W, b):\n",
    "    ###############START CODE HERE###############\n",
    "    #行列の要素同士の掛け算\n",
    "    a = np.multiply(x,W) + b\n",
    "    out = np.sum(a)\n",
    "    ################END CODE HERE################\n",
    "    return out"
   ]
  },
  {
   "cell_type": "markdown",
   "metadata": {},
   "source": [
    "** ファイルを保存後 **、次のセルを実行（Shift+Enter）で採点を行います。"
   ]
  },
  {
   "cell_type": "code",
   "execution_count": 9,
   "metadata": {
    "collapsed": false
   },
   "outputs": [
    {
     "name": "stdout",
     "output_type": "stream",
     "text": [
      "Congratulations!\n",
      "We give you 10 points out of 10 points.\n",
      "\n"
     ]
    }
   ],
   "source": [
    "%%bash\n",
    "./validation_client.py dele-02 4 3 Step4_01.ipynb api.internal.zero2one.jp"
   ]
  },
  {
   "cell_type": "markdown",
   "metadata": {},
   "source": [
    "`convolute`の確認をします。"
   ]
  },
  {
   "cell_type": "code",
   "execution_count": 10,
   "metadata": {
    "collapsed": false
   },
   "outputs": [
    {
     "name": "stdout",
     "output_type": "stream",
     "text": [
      "out = 10.2394715745617\n"
     ]
    }
   ],
   "source": [
    "np.random.seed(1234)\n",
    "x = np.random.randn(3, 3, 2)\n",
    "W = np.random.randn(3, 3, 2)\n",
    "b = np.random.randn(1, 1, 1)\n",
    "out = convolute(x, W, b)\n",
    "print(\"out =\", out)"
   ]
  },
  {
   "cell_type": "markdown",
   "metadata": {},
   "source": [
    "**畳み込みの出力**:\n",
    "\n",
    "out = 10.2394715746"
   ]
  },
  {
   "cell_type": "markdown",
   "metadata": {},
   "source": [
    "### ゼロパディングの実装"
   ]
  },
  {
   "cell_type": "markdown",
   "metadata": {},
   "source": [
    "**【課題４】**\n",
    "ゼロパディングは入力の側面にゼロを追加します。通常畳み込みをすると出力は入力よりも小さくなってしまいますが、ゼロパディングを導入することで、出力サイズを入力サイズと同じにすることができます。\n",
    "この`zero_padding`には2つ引数があります。\n",
    "- `X`: 入力テンソル（ミニバッチ、縦、横、チャンネル）\n",
    "- `p`:　ゼロパディングの数\n",
    "\n",
    "ゼロパディングをするには[np.pad](https://docs.scipy.org/doc/numpy-1.13.0/reference/generated/numpy.pad.html)を用います。この関数の2つ目の引数に`pad_width`というものであり、ここで次元毎にパディングする数をタプルで指定します。今回は`X`の縦横のみにパディングするので、pad_widthに渡す入力テンソル「（ミニバッチ、縦、横、チャンネル）」のミニバッチとチャンネルの部分に渡すタプルは(0,0)になります。"
   ]
  },
  {
   "cell_type": "code",
   "execution_count": 11,
   "metadata": {
    "collapsed": true
   },
   "outputs": [],
   "source": [
    "#Coursedele-02 Step4 QuestionNumber4 61a7f5a398a4871119ab93a07cecd8d9\n",
    "def zero_padding(X, p):\n",
    "    ###############START CODE HERE###############\n",
    "    out = np.pad(X,[(0,0),(p,p),(p,p),(0,0)],'constant')\n",
    "    ################END CODE HERE################\n",
    "    return out"
   ]
  },
  {
   "cell_type": "markdown",
   "metadata": {},
   "source": [
    "** ファイルを保存後 **、次のセルを実行（Shift+Enter）で採点を行います。"
   ]
  },
  {
   "cell_type": "code",
   "execution_count": 12,
   "metadata": {
    "collapsed": false
   },
   "outputs": [
    {
     "name": "stdout",
     "output_type": "stream",
     "text": [
      "ExcessiveAccess: Wait for 10 minutes\n",
      "\n"
     ]
    }
   ],
   "source": [
    "%%bash\n",
    "./validation_client.py dele-02 4 4 Step4_01.ipynb api.internal.zero2one.jp"
   ]
  },
  {
   "cell_type": "markdown",
   "metadata": {},
   "source": [
    "`zero_padding`をテストします。ここでは、出力の平均を正解と比較して確認します。また、ゼロパディング前と後の画像を比較して正しくパディングできているか確認してください。"
   ]
  },
  {
   "cell_type": "code",
   "execution_count": 13,
   "metadata": {
    "collapsed": false,
    "scrolled": false
   },
   "outputs": [
    {
     "name": "stdout",
     "output_type": "stream",
     "text": [
      "out.mean() =  0.007951681976444447\n"
     ]
    },
    {
     "data": {
      "text/plain": [
       "<matplotlib.text.Text at 0x7f0a0d4180b8>"
      ]
     },
     "execution_count": 13,
     "metadata": {},
     "output_type": "execute_result"
    },
    {
     "data": {
      "image/png": "[encoded data removed]",
      "text/plain": [
       "<matplotlib.figure.Figure at 0x7f0a0d4837f0>"
      ]
     },
     "metadata": {},
     "output_type": "display_data"
    }
   ],
   "source": [
    "np.random.seed(1)\n",
    "x = np.random.randn(4, 3, 3, 2)\n",
    "out = zero_padding(x, 2)\n",
    "print (\"out.mean() = \", out.mean())\n",
    "plt.subplot(1,2,1)\n",
    "plt.imshow(x[0,:,:,0], cmap='gray')\n",
    "plt.title('Before Padding')\n",
    "plt.subplot(1,2,2)\n",
    "plt.imshow(out[0,:,:,0], cmap='gray')\n",
    "plt.title('After Padding')"
   ]
  },
  {
   "cell_type": "markdown",
   "metadata": {},
   "source": [
    "**ゼロパディングの出力**:\n",
    "\n",
    "out.mean() =  0.00795168197644"
   ]
  },
  {
   "cell_type": "markdown",
   "metadata": {},
   "source": [
    "### Convクラスの実装"
   ]
  },
  {
   "cell_type": "markdown",
   "metadata": {},
   "source": [
    "**【課題５】**\n",
    "次に`class Conv()`を実装していきます。このクラスは全結合層同様に3つのメソッド（\\_\\_init\\_\\_, forward, backward)があります。これらを順に説明します。\n",
    "\n",
    "**def \\_\\_init\\_\\_(self, X_dim, n_filter, h_filter, w_filter, stride, padding):**\n",
    "このメソッドはクラス`Conv`をはじめに呼んだ時に実行されます。\n",
    "この関数には6つの引数があります。\n",
    "- `X_dim`: 入力テンソルの形（ミニバッチ、縦、横、チャンネル）\n",
    "- `n_filter`: フィルターの数（出力チャンネルの数）\n",
    "- `h_filter`: フィルターの縦幅\n",
    "- `w_filter`: フィルターの横幅\n",
    "- `stride`:　ストライド\n",
    "- `padding`: パディングの数\n",
    "\n",
    "このメソッド内ではまず重み`W`を`init_gaussian`で初期化、バイアス`b`を[np.zeros](https://docs.scipy.org/doc/numpy-1.13.0/reference/generated/numpy.zeros.html)で初期化します。次に畳み込み後の出力サイズを計算します。式は、\n",
    "\n",
    "$O=\\lfloor \\frac{I+2p-k}{s} \\rfloor+1$ \n",
    "\n",
    "ですが、今回はコードを簡単にするために、床関数は使わずに床関数内が整数になる場合のみを考えます。"
   ]
  },
  {
   "cell_type": "markdown",
   "metadata": {},
   "source": [
    "**def forward(self, X):**\n",
    "\n",
    "このメソッドは前の層の出力`X`を入力として受け取り、順伝播を計算します。ここではまず、出力`out`をゼロで初期化します。次に、入力`X`にゼロパディングを適用します。さてここから4重forループが始まります。一つ目のforループはミニバッチ数でループしています。ここでは、`X_pad`から1つ取り出します。その後、出力の縦、横、チャンネル数でループさせます。その後`x_pad`から畳み込みをする領域を下図のように取り出します。この場合は`x_slice = x_pad[1:4, 0:3, :]`となります。そして取り出した領域とそのチャンネルに対応した重み`W`とバイアス`b`を先程書いた、`convolute`に渡し、その出力をout[i, h, w, f]に入れます。\n",
    "\n",
    "<div style=\"width:40%\">\n",
    "<img src=\"./img/step4_conv_slice.png\"></div>"
   ]
  },
  {
   "cell_type": "markdown",
   "metadata": {},
   "source": [
    "**def backward(self, dX):**\n",
    "このメソッドは後の層の勾配`dX`を入力として受け取り、逆伝播を計算します。ここでは勾配`dX`を入力とし、`out`を次の層への勾配とします。まず、`dX_prev`を`forwad`の入力と同じ形で初期化した後、ゼロパディングを行います（`dX_pad`)。その後順伝播同様に4重forループさせます。ここで、畳み込み層の重みとバイアスの勾配は出力チャンネル毎に以下のように計算します。\n",
    "$$\n",
    "\\begin{eqnarray}\n",
    "\\frac{\\partial\\boldsymbol{L}}{\\partial\\boldsymbol{a}} &=&  (=dX) \\\\\n",
    "\\frac{\\partial\\boldsymbol{L}}{\\partial\\boldsymbol{W_c}} &+=& \\sum_{h=0}^{H_{out}} \\sum_{w=0}^{W_{out}}\n",
    "\\frac{\\partial\\boldsymbol{L}}{\\partial\\boldsymbol{a_{hwc}}}\n",
    "\\frac{\\partial\\boldsymbol{a_{hwc}}}{\\partial\\boldsymbol{W_{c}}}(=dW[:, :, :, c])\\\\\n",
    "\\frac{\\partial\\boldsymbol{L}}{\\partial\\boldsymbol{b_c}} &+=& \\sum_{h=0}^{H_{out}} \\sum_{w=0}^{W_{out}}\n",
    "\\frac{\\partial\\boldsymbol{L}}{\\partial\\boldsymbol{a_{hwc}}}\n",
    "\\frac{\\partial\\boldsymbol{a_{hwc}}}{\\partial\\boldsymbol{b_{c}}}=\n",
    "\\frac{\\partial\\boldsymbol{L}}{\\partial\\boldsymbol{a_{hwc}}}\n",
    "(=db[:, :, :, c])\\\\\n",
    "\\end{eqnarray}\n",
    "$$\n",
    "ここで、$H_out$と$W_out$は順伝播時の出力サイズの縦と横です。またプログラム内では、$\\frac{\\partial\\boldsymbol{a_{hwc}}}{\\partial\\boldsymbol{W_{c}}}$を`x_pad_slice`としています。\n",
    "\n",
    "次の層への勾配`dX_prev`は以下のように計算します。\n",
    "\\begin{eqnarray}\n",
    "\\frac{\\partial\\boldsymbol{L}}{\\partial\\boldsymbol{x}} &+=& \\sum_{h=0}^{H_{out}} \\sum_{w=0}^{W_{out}}\n",
    "\\frac{\\partial\\boldsymbol{L}}{\\partial\\boldsymbol{a_{hwc}}}\n",
    "\\frac{\\partial\\boldsymbol{a_{hwc}}}{\\partial\\boldsymbol{x}}\n",
    "=\\frac{\\partial\\boldsymbol{L}}{\\partial\\boldsymbol{a_{hwc}}}\\boldsymbol{W_c}\n",
    "(=dx\\_prev\\_pad[h_{start}:h_{end}, w_{start}:w_{end}, :])\n",
    "\\end{eqnarray}\n",
    "\n",
    "最後に、ゼロパディングする前の状態に戻し、出力`dX_prev`が得られます。"
   ]
  },
  {
   "cell_type": "code",
   "execution_count": 14,
   "metadata": {
    "code_folding": [],
    "collapsed": false
   },
   "outputs": [],
   "source": [
    "#Coursedele-02 Step4 QuestionNumber5 cdf67a38235293d1cf4feb708dd9b7b2\n",
    "class Conv():\n",
    "    def __init__(self, X_dim, n_filter, h_filter, w_filter, stride, padding):\n",
    "\n",
    "        h_X, w_X, self.c_X = X_dim\n",
    "\n",
    "        self.n_filter, self.h_filter, self.w_filter = n_filter, h_filter, w_filter\n",
    "        self.stride, self.padding = stride, padding\n",
    "        \n",
    "        ###############START CODE HERE###############\n",
    "        '''\n",
    "        Wの形は(フィルターの縦幅, フィルターの横幅, 入力チャンネル, 出力チャンネル)\n",
    "        bの形は（1, 1, 1, 出力チャンネル)\n",
    "        '''\n",
    "        self.W = init_gaussian((self.h_filter,self.w_filter,self.c_X,n_filter))\n",
    "        self.b = np.zeros((1,1,1,n_filter))\n",
    "        ################END CODE HERE################\n",
    "        self.params = [self.W, self.b]\n",
    "\n",
    "        ###############START CODE HERE###############\n",
    "        #畳み込み後の出力サイズ\n",
    "        self.h_out = ((h_X + 2 * self.padding - self.h_filter) / self.stride) + 1 \n",
    "        self.w_out = ((w_X + 2 * self.padding - self.w_filter) / self.stride) + 1\n",
    "        ################END CODE HERE################\n",
    "        \n",
    "        # self.h_outあるいはself.w_outが整数出ない場合はエラーを出力\n",
    "        if not self.h_out.is_integer() or not self.w_out.is_integer():\n",
    "            raise Exception(\"Invalid dimensions!\")\n",
    "        # float型からint型へ変換\n",
    "        self.h_out, self.w_out = int(self.h_out), int(self.w_out)\n",
    "        \n",
    "        # ミニバッチ次元を無視した出力サイズ、これは次の層のX_dimになる\n",
    "        self.out_dim = (self.h_out, self.w_out, self.n_filter)\n",
    "\n",
    "    def forward(self, X):\n",
    "\n",
    "        b_X,  h_X, w_X, c_X  = self.X_shape= X.shape #batch, height, width, channel\n",
    "\n",
    "        h_out = self.h_out\n",
    "        w_out = self.w_out\n",
    "        \n",
    "        #　出力outをゼロで初期化\n",
    "        out = np.zeros((b_X, h_out, w_out, self.n_filter))\n",
    "        \n",
    "        # ゼロパディングを適用\n",
    "        self.X_pad =  zero_padding(X, self.padding)\n",
    "        \n",
    "        for i in range(b_X): # ミニバッチ数ループ\n",
    "            # X_padからバッチを1つ取り出す\n",
    "            x_pad = self.X_pad[i]\n",
    "            for h in range(h_out): # 出力の縦方向にループ\n",
    "                for w in range(w_out): # 出力の横方向にループ\n",
    "                    for f in range(self.n_filter): # 出力のチャンネル数でループ\n",
    "                        ###############START CODE HERE###############\n",
    "                        h_start = self.stride * h\n",
    "                        h_end  = h_start + self.h_filter\n",
    "                        w_start = self.stride * w\n",
    "                        w_end = w_start + self.w_filter\n",
    "                        \n",
    "                        # Xをスライス\n",
    "                        x_slice =  x_pad[h_start:h_end, w_start:w_end, :]\n",
    "                        \n",
    "                        # 畳み込みを計算\n",
    "                        out[i, h, w, f] = convolute(x_slice,self.W[:,:,:,f],self.b[:,:,:,f])\n",
    "                        ################END CODE HERE################\n",
    "                        \n",
    "        return out\n",
    "\n",
    "    def backward(self, dX):\n",
    "        \n",
    "        b_out, h_out, w_out, c_out = dX.shape\n",
    "        \n",
    "        # dX_prev, dW, dbをそれぞれ初期化\n",
    "        dX_prev = np.zeros(self.X_shape)\n",
    "        dW = np.zeros((self.h_filter, self.w_filter, self.c_X, self.n_filter))\n",
    "        db = np.zeros((1, 1, 1, self.n_filter))\n",
    "\n",
    "        # ゼロパディングを適用\n",
    "        dX_prev_pad = zero_padding(dX_prev, self.padding)\n",
    "        \n",
    "        for i in range(b_out):\n",
    "            dx_prev_pad = dX_prev_pad[i]\n",
    "            x_pad = self.X_pad[i]\n",
    "            for h in range(h_out):\n",
    "                for w in range(w_out):\n",
    "                    for c in range(c_out):\n",
    "                        ###############START CODE HERE###############\n",
    "                        h_start = h * self.stride\n",
    "                        h_end  = h_start + self.h_filter\n",
    "                        w_start = w * self.stride\n",
    "                        w_end = w_start + self.w_filter\n",
    "                        \n",
    "                        x_pad_slice = x_pad[h_start:h_end, w_start:w_end, :]\n",
    "                        \n",
    "                        dW[:, :, :, c] += x_pad_slice * dX[i,h,w,c]\n",
    "                        db[:, :, :, c] += dX[i,h,w,c]\n",
    "                        \n",
    "                        dx_prev_pad[h_start:h_end, w_start:w_end, :] += self.W[:,:,:,c] * dX[i,h,w,c]\n",
    "                        ################END CODE HERE################\n",
    "            p = self.padding\n",
    "            ###############START CODE HERE###############\n",
    "            # ゼロパディングする前の状態に戻す\n",
    "            dX_prev[i, :, :, :] = dx_prev_pad[p:-p,p:-p,:]\n",
    "            ################END CODE HERE################\n",
    "        return dX_prev, [dW, db]"
   ]
  },
  {
   "cell_type": "markdown",
   "metadata": {},
   "source": [
    "** ファイルを保存後 **、次のセルを実行（Shift+Enter）で採点を行います。"
   ]
  },
  {
   "cell_type": "code",
   "execution_count": 15,
   "metadata": {
    "collapsed": false,
    "scrolled": true
   },
   "outputs": [
    {
     "name": "stdout",
     "output_type": "stream",
     "text": [
      "ExcessiveAccess: Wait for 10 minutes\n",
      "\n"
     ]
    }
   ],
   "source": [
    "%%bash\n",
    "./validation_client.py dele-02 4 5 Step4_01.ipynb api.internal.zero2one.jp"
   ]
  },
  {
   "cell_type": "markdown",
   "metadata": {},
   "source": [
    "### 順伝播のテスト"
   ]
  },
  {
   "cell_type": "markdown",
   "metadata": {},
   "source": [
    "まずは順伝播からです。ここでは出力の平均値が同じかどうか確認します。\n",
    "\n",
    "実装がうまくいっていない場合はエラー結果を参考にコードを見直しましょう。"
   ]
  },
  {
   "cell_type": "code",
   "execution_count": 16,
   "metadata": {
    "collapsed": false
   },
   "outputs": [
    {
     "name": "stdout",
     "output_type": "stream",
     "text": [
      "out.mean() = 0.14294554317549862\n"
     ]
    }
   ],
   "source": [
    "# 畳み込み層の準備\n",
    "x_dim = (15, 15, 3)\n",
    "n_filter = 12\n",
    "h_filter = w_filter = 3\n",
    "stride = 2\n",
    "padding = 2\n",
    "conv = Conv(x_dim, n_filter, h_filter, w_filter, stride, padding)\n",
    "# FC層の時と同様重みを上書き\n",
    "np.random.seed(1234)\n",
    "W = np.random.randn(3, 3, 3, 12)\n",
    "conv.W = W\n",
    "# ミニバッチ2, 縦横15, チャンネル数3の入力Xを準備\n",
    "X = np.random.randn(2, 15, 15, 3)\n",
    "#　順伝播\n",
    "out = conv.forward(X)\n",
    "print(\"out.mean() =\", out.mean())"
   ]
  },
  {
   "cell_type": "markdown",
   "metadata": {},
   "source": [
    "**順伝播の出力**\n",
    "\n",
    "out.mean() = 0.142945543175"
   ]
  },
  {
   "cell_type": "markdown",
   "metadata": {},
   "source": [
    "### 逆伝播のテスト"
   ]
  },
  {
   "cell_type": "code",
   "execution_count": 17,
   "metadata": {
    "collapsed": false,
    "scrolled": true
   },
   "outputs": [
    {
     "name": "stdout",
     "output_type": "stream",
     "text": [
      "dX_prev.mean() = 0.8525880229461538\n",
      "dW.mean() = 0.9499608418775926\n",
      "db.mean() = 79.82983262122056\n"
     ]
    }
   ],
   "source": [
    "np.random.seed(1234)\n",
    "dX = np.random.random((2, 9, 9, 12))\n",
    "dX_prev, [dW, db] = conv.backward(dX)\n",
    "print(\"dX_prev.mean() =\", np.mean(dX_prev))\n",
    "print(\"dW.mean() =\", np.mean(dW))\n",
    "print(\"db.mean() =\", np.mean(db))"
   ]
  },
  {
   "cell_type": "markdown",
   "metadata": {},
   "source": [
    "**逆伝播の出力**\n",
    "\n",
    "dX_prev.mean() = 0.852588022946\n",
    "\n",
    "dW.mean() = 0.949960841878\n",
    "\n",
    "db.mean() = 79.8298326212"
   ]
  },
  {
   "cell_type": "markdown",
   "metadata": {},
   "source": [
    "## 最大プーリング層の実装"
   ]
  },
  {
   "cell_type": "markdown",
   "metadata": {},
   "source": [
    "### MaxPoolクラスの実装"
   ]
  },
  {
   "cell_type": "markdown",
   "metadata": {},
   "source": [
    "**【課題６】**\n",
    "次に`class MaxPool()`を実装していきます。今まで同様3つのメソッド（\\__init\\__, forward, backward)があります。\n",
    "\n",
    "**def \\__init\\__(self, X_dim, size, stride):**\n",
    "このメソッドはクラス`Conv`をはじめに呼んだときに実行されます。\n",
    "この関数には3つの引数があります。\n",
    "\n",
    "- `X_dim`: 入力テンソルの形（ミニバッチ、縦、横、チャンネル）\n",
    "- `size`: フィルターのサイズ\n",
    "- `stride`:　ストライド\n",
    "\n",
    "まずはプーリング後のサイズを計算します。ここでは単純化のためゼロパディングは行いません。よって出力サイズは、\n",
    "\n",
    "$O= \\frac{I-f}{s}+1$ \n",
    "\n",
    "となります。\n",
    "\n",
    "**def forward(self, X):**\n",
    "\n",
    "このメソッドは前の層の出力`X`を入力として受け取り、順伝播を計算します。まずは出力`out`をゼロで初期化し、畳み込み層同様に4重forループがあります。また同じく入力`X`から必要な領域を切り取ります。その後、その領域の最大値のみを取り出します。これには単純に`np.max`を用います。そして最後にその出力をout[i, h, w, f]に入れます。\n",
    "\n",
    "<div style=\"width:50%\">\n",
    "<img src=\"./img/step4_max_pooling.png\"></div>\n",
    "\n",
    "**def backward(self, dX):**\n",
    "これまで通りこのメソッドは`dX`は前の層からの勾配です。最大値プーリングの逆伝播は他とくらべてシンプルで、分かりやすいです。例えば2×2のフィルターを使用した最大値プーリングを考えます。この時順伝播では最大値プーリングにより伝播されるのは2×2，計4個の値のうち1つです。逆伝播する際は入力の勾配を最大値を取った場所へ伝播させるだけです。図で示すとこのようになります。\n",
    "\n",
    "<div style=\"width:50%\">\n",
    "<img src=\"./img/step4_max_pooling_back.png\"></div>\n",
    "\n",
    "ここで、マスク作成にはnumpyのnp.maxとpythonの比較演算子`==`を組み合わせることで1行で各ことができます。\n",
    "試しに以下のコードを走らせてみて下さい。np.maxと比較演算子の組み合わせることにより、行列の要素の最大値の箇所をTrue,それ以外をFalseとさせることができます。"
   ]
  },
  {
   "cell_type": "code",
   "execution_count": 18,
   "metadata": {
    "collapsed": false
   },
   "outputs": [
    {
     "data": {
      "text/plain": [
       "array([False, False, False,  True])"
      ]
     },
     "execution_count": 18,
     "metadata": {},
     "output_type": "execute_result"
    }
   ],
   "source": [
    "x = np.array([2,3,4,5])\n",
    "x == np.max(x)"
   ]
  },
  {
   "cell_type": "code",
   "execution_count": 45,
   "metadata": {
    "collapsed": false
   },
   "outputs": [],
   "source": [
    "#Coursedele-02 Step4 QuestionNumber6 c01dc732ce53965eb359b175ca31431e\n",
    "class MaxPool():\n",
    "\n",
    "    def __init__(self, X_dim, size, stride):\n",
    "\n",
    "        h_X, w_X, c_X = X_dim\n",
    "\n",
    "        self.params = []\n",
    "\n",
    "        self.size = size\n",
    "        self.stride = stride\n",
    "        \n",
    "        ###############START CODE HERE###############\n",
    "        self.h_out = ((h_X - self.size)/ self.stride) + 1\n",
    "        self.w_out = ((w_X - self.size)/ self.stride) + 1\n",
    "        ################END CODE HERE################\n",
    "        \n",
    "        # self.h_outあるいはself.w_outが整数出ない場合はエラーを出力\n",
    "        if not self.h_out.is_integer() or not self.w_out.is_integer():\n",
    "            raise Exception(\"Invalid dimensions!\")\n",
    "        # float型からint型へ変換\n",
    "        self.h_out, self.w_out = int(self.h_out), int(self.w_out)\n",
    "        \n",
    "        # ミニバッチ次元を無視した出力サイズ、これは次の層のX_dimになる\n",
    "        self.out_dim = (self.h_out, self.w_out, c_X)\n",
    "\n",
    "    def forward(self, X):\n",
    "        self.X = X\n",
    "        self.X_shape= X.shape\n",
    "        b_X,  h_X, w_X, c_X  = self.X_shape\n",
    "\n",
    "        \n",
    "        h_out = self.h_out\n",
    "        w_out = self.w_out\n",
    "        ###############START CODE HERE###############\n",
    "        # 出力チャンネル\n",
    "        c_out = c_X\n",
    "        ################END CODE HERE################\n",
    "        \n",
    "        #　出力outをゼロで初期化\n",
    "        out = np.zeros((b_X, h_out, w_out, c_out))\n",
    "\n",
    "        for i in range(b_X): # ミニバッチ数ループ\n",
    "            for h in range(h_out): # 出力の縦方向にループ\n",
    "                for w in range(w_out): # 出力の横方向にループ\n",
    "                    for c in range(c_out): # 出力のチャンネル数でループ\n",
    "                        ###############START CODE HERE###############\n",
    "                        h_start = h * self.stride\n",
    "                        h_end  = h_start + self.size\n",
    "                        w_start = w * self.stride\n",
    "                        w_end = w_start + self.size\n",
    "                         \n",
    "                        X_slice = X[i, h_start:h_end, w_start:w_end, c]\n",
    "                        \n",
    "                        # 最大値プーリング\n",
    "                        out[i, h, w, c] = np.max(X_slice)\n",
    "                        ################END CODE HERE################\n",
    "        return out\n",
    "\n",
    "    def backward(self, dX):\n",
    "        b_out, h_out, w_out, c_out = dX.shape\n",
    "        # 出力をゼロで初期化\n",
    "        dX_prev = np.zeros(self.X_shape)\n",
    "        \n",
    "        for i in range(b_out):\n",
    "            x = self.X[i]\n",
    "            for h in range(h_out):\n",
    "                for w in range(w_out):\n",
    "                    for c in range(c_out):\n",
    "                        ###############START CODE HERE###############\n",
    "                        h_start = h * self.stride\n",
    "                        h_end  = h_start + self.size\n",
    "                        w_start = w * self.stride\n",
    "                        w_end = w_start + self.size\n",
    "                        x_slice = x[h_start:h_end, w_start:w_end, c]\n",
    "                        # マスクの作成\n",
    "                        mask = ( x_slice == np.max(x_slice))\n",
    "                        # 逆伝播\n",
    "                        dX_prev[i, h_start:h_end, w_start:w_end, c]+=mask* dX[i, h, w, c]\n",
    "                        ################END CODE HERE################\n",
    "        return dX_prev, []"
   ]
  },
  {
   "cell_type": "markdown",
   "metadata": {},
   "source": [
    "** ファイルを保存後 **、次のセルを実行（Shift+Enter）で採点を行います。"
   ]
  },
  {
   "cell_type": "code",
   "execution_count": 46,
   "metadata": {
    "collapsed": false
   },
   "outputs": [
    {
     "name": "stdout",
     "output_type": "stream",
     "text": [
      "Congratulations!\n",
      "We give you 10 points out of 10 points.\n",
      "\n"
     ]
    }
   ],
   "source": [
    "%%bash\n",
    "./validation_client.py dele-02 4 6 Step4_01.ipynb api.internal.zero2one.jp"
   ]
  },
  {
   "cell_type": "markdown",
   "metadata": {},
   "source": [
    "### 順伝播のテスト\n",
    "\n",
    "実装がうまくいっていない場合はエラー結果を参考にコードを見直しましょう。"
   ]
  },
  {
   "cell_type": "code",
   "execution_count": 47,
   "metadata": {
    "collapsed": false,
    "scrolled": true
   },
   "outputs": [
    {
     "name": "stdout",
     "output_type": "stream",
     "text": [
      "out[0,:,:,0] = [[0.77997581 0.80187218]\n",
      " [0.95813935 0.56119619]]\n"
     ]
    }
   ],
   "source": [
    "# 最大値プーリング層の準備\n",
    "X_dim = (4,4,1)\n",
    "size = 2\n",
    "stride = 2\n",
    "pool = MaxPool(X_dim, size, stride)\n",
    "# ミニバッチ1， 縦横4, チャンネル数1の入力Xの準備\n",
    "np.random.seed(1234)\n",
    "X = np.random.random((1, 4, 4, 1))\n",
    "# 順伝播\n",
    "out = pool.forward(X)\n",
    "print(\"out[0,:,:,0] =\", out[0,:,:,0])"
   ]
  },
  {
   "cell_type": "markdown",
   "metadata": {},
   "source": [
    "**順伝播の出力**\n",
    "\n",
    "out[0,:,:,0] = [[ 0.77997581  0.80187218]\n",
    " [ 0.95813935  0.56119619]]"
   ]
  },
  {
   "cell_type": "code",
   "execution_count": 48,
   "metadata": {
    "collapsed": false
   },
   "outputs": [
    {
     "name": "stdout",
     "output_type": "stream",
     "text": [
      "dX_prev[0,:,:,0] =  [[ 0.          0.          0.          0.        ]\n",
      " [-0.41675785  0.          0.         -0.05626683]\n",
      " [-2.1361961   0.          0.          0.        ]\n",
      " [ 0.          0.          0.          1.64027081]]\n"
     ]
    }
   ],
   "source": [
    "np.random.seed(2)\n",
    "dX = np.random.randn(1, 2, 2, 1)\n",
    "dX_prev, _ = pool.backward(dX)\n",
    "print('dX_prev[0,:,:,0] = ', dX_prev[0,:,:,0]) "
   ]
  },
  {
   "cell_type": "markdown",
   "metadata": {},
   "source": [
    "**逆伝播の出力**\n",
    "\n",
    "dX_prev =  [[ 0.          0.          0.          0.        ]\n",
    " [-0.41675785  0.          0.         -0.05626683]\n",
    " [-2.1361961   0.          0.          0.        ]\n",
    " [ 0.          0.          0.          1.64027081]]"
   ]
  }
 ],
 "metadata": {
  "anaconda-cloud": {},
  "kernelspec": {
   "display_name": "Python [default]",
   "language": "python",
   "name": "python3"
  },
  "language_info": {
   "codemirror_mode": {
    "name": "ipython",
    "version": 3
   },
   "file_extension": ".py",
   "mimetype": "text/x-python",
   "name": "python",
   "nbconvert_exporter": "python",
   "pygments_lexer": "ipython3",
   "version": "3.5.2"
  },
  "toc": {
   "nav_menu": {
    "height": "318px",
    "width": "252px"
   },
   "navigate_menu": true,
   "number_sections": true,
   "sideBar": true,
   "threshold": 4,
   "toc_cell": false,
   "toc_section_display": "block",
   "toc_window_display": false
  }
 },
 "nbformat": 4,
 "nbformat_minor": 2
}
