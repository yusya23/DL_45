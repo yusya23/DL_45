{
 "cells": [
  {
   "cell_type": "markdown",
   "metadata": {},
   "source": [
    "# Step4 演習03 MNISTの分類\n",
    "---"
   ]
  },
  {
   "cell_type": "markdown",
   "metadata": {},
   "source": [
    "本演習では、TensorFlowを用いてMNISTの分類をおこないます。\n",
    "\n",
    "**はじめに**\n",
    "- for文やwhile文の利用は明示的な利用指示がない場所での利用は避けてください。\n",
    "\n",
    "**本演習の目的**\n",
    "- TensorFlowの基本的な関数を用いてCNNを構築する\n",
    "- MNISTを用いて１０クラス分類問題を解く\n",
    "- パラメータの初期化方法、L2正則化の方法を学ぶ"
   ]
  },
  {
   "cell_type": "markdown",
   "metadata": {},
   "source": [
    "**【課題１】** 採点を実行してください。"
   ]
  },
  {
   "cell_type": "code",
   "execution_count": 1,
   "metadata": {
    "collapsed": false
   },
   "outputs": [
    {
     "name": "stdout",
     "output_type": "stream",
     "text": [
      "この課題の採点は全員正解とします。\n"
     ]
    }
   ],
   "source": [
    "#Coursedele-02 Step4 QuestionNumber12 4b1d36da3cebc964d7b02692415089b4\n",
    "print(\"この課題の採点は全員正解とします。\")"
   ]
  },
  {
   "cell_type": "markdown",
   "metadata": {},
   "source": [
    "** ファイルを保存後 **、次のセルを実行（Shift+Enter）で採点を行います。"
   ]
  },
  {
   "cell_type": "code",
   "execution_count": 2,
   "metadata": {
    "collapsed": false
   },
   "outputs": [
    {
     "name": "stdout",
     "output_type": "stream",
     "text": [
      "Congratulations!\n",
      "We give you 10 points out of 10 points.\n",
      "\n"
     ]
    }
   ],
   "source": [
    "%%bash\n",
    "./validation_client.py dele-02 4 12 Step4_03.ipynb api.internal.zero2one.jp"
   ]
  },
  {
   "cell_type": "markdown",
   "metadata": {},
   "source": [
    "# 1 Tensorflow"
   ]
  },
  {
   "cell_type": "markdown",
   "metadata": {},
   "source": [
    "## 1-1 ライブラリのインポート\n",
    "\n",
    "まずはじめに、本演習で利用するライブラリのインポートを行います。\n",
    "\n",
    "- [numpy](http://www.numpy.org) 数値計算を行うための基本パッケージの公式ドキュメント\n",
    "- [matplotlib](http://matplotlib.org) グラフ描画ライブラリの基本パッケージの公式ドキュメント\n",
    "- [tensorflow](https://www.tensorflow.org/) 機械学習用のライブラリの公式ドキュメント\n",
    "\n",
    "`%matplotlib inline` はnotebook上で使える[magic function](http://ipython.readthedocs.io/en/stable/interactive/magics.html)の一つで、これによりmatplotlibをインタラクティブに使うことできます。"
   ]
  },
  {
   "cell_type": "code",
   "execution_count": 3,
   "metadata": {
    "collapsed": true
   },
   "outputs": [],
   "source": [
    "%matplotlib inline\n",
    "import numpy as np\n",
    "import matplotlib.pyplot as plt\n",
    "import tensorflow as tf\n",
    "from tensorflow.examples.tutorials.mnist import input_data"
   ]
  },
  {
   "cell_type": "markdown",
   "metadata": {},
   "source": [
    "## 1-2 データセット\n",
    "過去のStep同様にここでもMNISTデータ・セットを使います。"
   ]
  },
  {
   "cell_type": "markdown",
   "metadata": {},
   "source": [
    "MNISTのダウンロード元のURLを用意します。"
   ]
  },
  {
   "cell_type": "code",
   "execution_count": 4,
   "metadata": {
    "collapsed": true
   },
   "outputs": [],
   "source": [
    "mnist_ulr = 'http://yann.lecun.com/exdb/mnist/'"
   ]
  },
  {
   "cell_type": "markdown",
   "metadata": {},
   "source": [
    "MNISTのダウンロードと読み込みを行います。read_data_setsの引数は\n",
    "- ファイルの保存場所\n",
    "- one_hot: one-hotベクトル化するかどうか\n",
    "- validation_size: 検証用データの枚数、今回は訓練データとテストデータのみ使用します\n",
    "- source_url: データセットのダウンロード元"
   ]
  },
  {
   "cell_type": "code",
   "execution_count": 5,
   "metadata": {
    "collapsed": false
   },
   "outputs": [
    {
     "name": "stdout",
     "output_type": "stream",
     "text": [
      "Extracting MNIST_data/train-images-idx3-ubyte.gz\n",
      "Extracting MNIST_data/train-labels-idx1-ubyte.gz\n",
      "Extracting MNIST_data/t10k-images-idx3-ubyte.gz\n",
      "Extracting MNIST_data/t10k-labels-idx1-ubyte.gz\n"
     ]
    }
   ],
   "source": [
    "mnist = input_data.read_data_sets(\"MNIST_data/\",\n",
    "                                  one_hot=True,\n",
    "                                  validation_size=0,\n",
    "                                  source_url=mnist_ulr)"
   ]
  },
  {
   "cell_type": "markdown",
   "metadata": {},
   "source": [
    "この`mnist`は少し複雑な形式で入っています。学習データの画像とラベルにアクセスするには、\n",
    "\n",
    "\n",
    "`mnist.train.images`\n",
    "\n",
    "\n",
    "`mnist.train.labels`\n",
    "\n",
    "とします。`train`の部分を`test`にすることでテストデータにアクセスできます。注意しなければならないのは、`mnist`の中の画像やラベルの値を変更したい場合は`_images`や`_labels`としなければなりません。"
   ]
  },
  {
   "cell_type": "markdown",
   "metadata": {},
   "source": [
    "訓練データとテストデータのshapeを確認してみます。"
   ]
  },
  {
   "cell_type": "code",
   "execution_count": 6,
   "metadata": {
    "collapsed": false
   },
   "outputs": [
    {
     "name": "stdout",
     "output_type": "stream",
     "text": [
      "訓練データ数：60000\n",
      "訓練データ数の特徴（ピクセル）：784\n",
      "テストデータ数：10000\n",
      "テストデータ数の特徴（ピクセル）：784\n"
     ]
    }
   ],
   "source": [
    "print(\"訓練データ数：{}\".format(mnist.train.images.shape[0]))\n",
    "print(\"訓練データ数の特徴（ピクセル）：{}\".format(mnist.train.images.shape[1]))\n",
    "print(\"テストデータ数：{}\".format(mnist.test.images.shape[0]))\n",
    "print(\"テストデータ数の特徴（ピクセル）：{}\".format(mnist.test.images.shape[1]))"
   ]
  },
  {
   "cell_type": "markdown",
   "metadata": {},
   "source": [
    "ここで学習データの画像をランダムに表示させてみます。セルを実行するたびに画像が変わります。"
   ]
  },
  {
   "cell_type": "code",
   "execution_count": 7,
   "metadata": {
    "collapsed": false
   },
   "outputs": [
    {
     "name": "stdout",
     "output_type": "stream",
     "text": [
      "Class: 7\n"
     ]
    },
    {
     "data": {
      "image/png": "[encoded data removed]",
      "text/plain": [
       "<matplotlib.figure.Figure at 0x7f9f4cdb1e80>"
      ]
     },
     "metadata": {},
     "output_type": "display_data"
    }
   ],
   "source": [
    "num = np.random.randint(0, len(mnist.train.images))\n",
    "plt.imshow(mnist.train.images[num].reshape(28, 28), cmap='gray')\n",
    "print('Class: {}'.format(np.argmax(mnist.train.labels[num])))"
   ]
  },
  {
   "cell_type": "markdown",
   "metadata": {},
   "source": [
    "### 1-2-1 データセットのシャッフル"
   ]
  },
  {
   "cell_type": "markdown",
   "metadata": {},
   "source": [
    "今回もデータ・セットを念の為シャッフルします。"
   ]
  },
  {
   "cell_type": "code",
   "execution_count": 8,
   "metadata": {
    "collapsed": true
   },
   "outputs": [],
   "source": [
    "permutation = np.random.permutation(mnist.train._images.shape[0])\n",
    "mnist.train._images = mnist.train.images[permutation]\n",
    "mnist.train._labels = mnist.train.labels[permutation]"
   ]
  },
  {
   "cell_type": "markdown",
   "metadata": {
    "collapsed": true
   },
   "source": [
    "### 1-2-2 データの制限"
   ]
  },
  {
   "cell_type": "markdown",
   "metadata": {},
   "source": [
    "この演習では計算時間を削減するために、学習データとテストデータのサイズを制限します。\n",
    "\n",
    "ここでは、\n",
    "- 学習データは10,000枚\n",
    "- テストデータは1,000枚\n",
    "\n",
    "とします。"
   ]
  },
  {
   "cell_type": "code",
   "execution_count": 9,
   "metadata": {
    "collapsed": true
   },
   "outputs": [],
   "source": [
    "train_size = 10000\n",
    "test_size = 1000\n",
    "mnist.train._images = mnist.train.images[:train_size]\n",
    "mnist.train._labels = mnist.train.labels[:train_size]\n",
    "mnist.train._num_examples = train_size\n",
    "mnist.test._images = mnist.test.images[:test_size]\n",
    "mnist.test._labels = mnist.test.labels[:test_size]\n",
    "mnist.test._num_examples = test_size"
   ]
  },
  {
   "cell_type": "markdown",
   "metadata": {},
   "source": [
    "### 1-2-2 データセットの正規化"
   ]
  },
  {
   "cell_type": "markdown",
   "metadata": {},
   "source": [
    "**【確認１】**　データ・セットを正規化する関数を実装します。\n",
    "\n",
    "データセット全体が平均0.0，分散1.0となるように正規化します。\n",
    "データ・セットを正規化する際はチャンネル単位で行いますが、MNISTはチャンネルが１つなので今回は気にする必要はありません。"
   ]
  },
  {
   "cell_type": "code",
   "execution_count": 10,
   "metadata": {
    "collapsed": true
   },
   "outputs": [],
   "source": [
    "###############START CODE HERE###############\n",
    "#適切な 関数・変数・値 などにNoneを書き換えてください。\n",
    "mean = np.mean(mnist.train.images)\n",
    "std = np.std(mnist.train.images)\n",
    "mnist.train._images = (mnist.train.images-mean)/std\n",
    "mnist.test._images = (mnist.test.images-mean)/std\n",
    "################END CODE HERE################"
   ]
  },
  {
   "cell_type": "markdown",
   "metadata": {},
   "source": [
    "## 1-3 CNNの構築"
   ]
  },
  {
   "cell_type": "markdown",
   "metadata": {},
   "source": [
    "この演習では過学習を防ぐために使われるL2正則化を行います。L2正則化は、学習時の損失に、\n",
    "$$\\frac{1}{2}\\lambda w^2$$\n",
    "を追加します。ここで$\\lambda$はL2正則化パラメータです。この演習では0.0001 (=1e-4)を用います。"
   ]
  },
  {
   "cell_type": "code",
   "execution_count": 11,
   "metadata": {
    "collapsed": true
   },
   "outputs": [],
   "source": [
    "WEIGHT_DECAY = 1e-4"
   ]
  },
  {
   "cell_type": "markdown",
   "metadata": {},
   "source": [
    "### 1-3-1畳み込み層の作成"
   ]
  },
  {
   "cell_type": "markdown",
   "metadata": {},
   "source": [
    "**【確認２】**　畳み込み処理をするために必要な関数を作成します。\n",
    "\n",
    "ここでは畳み込み処理をするために必用な関数を作成します。`conv2d`は5つの引数があります。\n",
    "- `x_tensor`: 入力テンソル（バッチサイズ、縦、横、チャネル）\n",
    "- `num_outputs`: 出力チャネル数\n",
    "- `ksize`: カーネル（フィルタ）サイズ\n",
    "- `strides`: ストライド幅\n",
    "- `padding`: SAME or VALID, SAMEの場合は入力サイズと出力サイズが等しくなるようにゼロパディングが行われます。（strideが2などの場合は基本的に出力サイズが半分になるように調整されます。）\n",
    "\n",
    "そして、この関数内では、[tf.nn.conv2d](https://www.tensorflow.org/api_docs/python/tf/nn/conv2d)\n",
    "に必要なものを用意します。\n",
    "- `num_inputs`: `x_tensor.get_shape().as_list()`とすることでリスト形式で形を取得できます。ここから入力チャネル（`num_inputs`）だけを取得します。\n",
    "- `conv_stride`は入力のどの次元にストライドを適用させるかリスト形式で用意します。\n",
    "- `weight_shape`ではまず重みの形をリスト形式で指定します。（カーネルサイズ、カーネルサイズ、入力チャネル、出力チャネル）\n",
    "- `conv_weight`は実際に重みを作成します。今回は[glorot_uniform](http://proceedings.mlr.press/v9/glorot10a/glorot10a.pdf)と呼ばれる方法で初期化します。これは一様分布で下限と上限を、\n",
    "$$\\pm\\sqrt{\\frac{6}{(fan\\_in + fan\\_out)}}$$\n",
    "としたものです。ここで、$fan\\_in$と$fan\\_out$は、\n",
    "$$fan\\_in=input\\_channel \\times kernel\\_size \\times kernel\\_size$$\n",
    "$$fan\\_out=output\\_channel \\times kernel\\_size \\times kernel\\_size$$\n",
    "です。ただし全結合層のようにカーネルがない場合は$kernel\\_size$はいりません。tensorflowでは[tf.random_uniform](https://www.tensorflow.org/api_docs/python/tf/random_uniform)で一様分布を生成できます。ここで、生成した配列を[tf.Variable](https://www.tensorflow.org/api_docs/python/tf/Variable)で囲むの忘れないようにしましょう。これによりtensorflowのグラフにこの配列が追加されます。\n",
    "\n",
    "最後に[tf.nn.conv2d](https://www.tensorflow.org/api_docs/python/tf/nn/conv2d)に`x_tensor`, `conv_weight`, `conv_strides`, `padding`を渡し`conv`が完成します。引数の渡す順番や引数名は[tf.nn.conv2d](https://www.tensorflow.org/api_docs/python/tf/nn/conv2d)で確認しましょう。\n",
    "\n",
    "畳み込み処理は終わりましたがまだバイアスとL2正則化の準備が終わっていないのでこれも行います。\n",
    "- `biases`でバイアスを用意します。バイアスは[tf.zeros](https://www.tensorflow.org/api_docs/python/tf/zeros)で出力チャネル分ゼロに初期化します。\n",
    "- `conv_bias`: 作成した`biases`を`conv`に追加します。これには、[tf.nn.bias_add](https://www.tensorflow.org/api_docs/python/tf/nn/bias_add)を使用します。\n",
    "- `l2_loss`: 次に[tf.nn.l2_loss](https://www.tensorflow.org/api_docs/python/tf/nn/l2_loss)を用いて`conv_weight`のL2正則化ロスを計算します。ここで`WEIGHT_DECAY`を掛けるのを忘れないようにしてください。\n",
    "- 最後に計算した`l2_loss`を[tf.add_to_collection](https://www.tensorflow.org/api_docs/python/tf/add_to_collection)に追加します。これはpythonのクラスのようなもので、これを使うことでグラフ内の任意の箇所で値を追加/取得することができます。"
   ]
  },
  {
   "cell_type": "code",
   "execution_count": 12,
   "metadata": {
    "collapsed": true
   },
   "outputs": [],
   "source": [
    "def conv2d(x_tensor, num_outputs, ksize, strides, padding='SAME'):\n",
    "    ###############START CODE HERE###############\n",
    "    #適切な 関数・変数・値 などにNoneを書き換えてください。\n",
    "    # x_tensor: [batch_size, height, width, channel]\n",
    "    # 入力チャネルの取得\n",
    "    num_inputs = x_tensor.get_shape().as_list()[-1]\n",
    "    # 入力のどの次元に、どれだけストライドを適用させるか\n",
    "    conv_strides = [1, strides, strides, 1]\n",
    "    # カーネル（フィルタ、重み）の形を指定\n",
    "    weight_shape = [ksize, ksize, num_inputs, num_outputs]\n",
    "    # 重みの初期化\n",
    "    fan_in = num_inputs * ksize * ksize\n",
    "    fan_out = num_outputs * ksize * ksize\n",
    "    std = np.sqrt(6. / (fan_in + fan_out))\n",
    "    conv_weight = tf.Variable(tf.random_uniform(weight_shape,\n",
    "                                                minval=-std,\n",
    "                                                maxval=std))\n",
    "    #　入力テンソルに畳み込み処理を施す\n",
    "    conv = tf.nn.conv2d(\n",
    "        x_tensor,\n",
    "        filter=conv_weight,\n",
    "        strides=conv_strides,\n",
    "        padding=padding)\n",
    "    # バイアスの初期化（ゼロで初期化します）\n",
    "    biases = tf.Variable(tf.zeros(num_outputs))\n",
    "    # 畳み込みにバイアスを追加\n",
    "    conv_bias = tf.nn.bias_add(conv, biases)\n",
    "    # L2正則化\n",
    "    l2_loss = tf.nn.l2_loss(conv_weight) * WEIGHT_DECAY\n",
    "    # collectionにL2正則化ロスを追加\n",
    "    tf.add_to_collection('costs', l2_loss)\n",
    "    ################END CODE HERE################\n",
    "    return conv_bias"
   ]
  },
  {
   "cell_type": "markdown",
   "metadata": {},
   "source": [
    "### 1-3-2プーリング層の作成"
   ]
  },
  {
   "cell_type": "markdown",
   "metadata": {},
   "source": [
    "**【確認３】**　次にプーリング処理をするために必要な関数を作成します。\n",
    "\n",
    "ここでは最大プーリング処理をするために必用な関数を作成します。`maxpool`は5つの引数があります。\n",
    "- `x_tensor`: 入力テンソル（バッチサイズ、縦、横、チャネル）\n",
    "- `ksizes`: カーネル（フィルタ）サイズ\n",
    "- `strides`: ストライド幅\n",
    "- `padding`: SAME or VALID, SAMEの場合は入力サイズと出力サイズが等しくなるようにゼロパディングが行われます。（strideが2などの場合は基本的に出力サイズが半分になるように調整されます。）\n",
    "\n",
    "そして、この関数内では、[tf.nn.max_pool](https://www.tensorflow.org/api_docs/python/tf/nn/max_pool)\n",
    "に必要なものを用意します。\n",
    "- `maxpool_strides`は入力のどの次元にストライドを適用させるかリスト形式で用意します。\n",
    "- `maxpool_filter`は入力のどの次元にフィルタを適用させるかリスト形式で用意します。\n",
    "\n",
    "最後に[tf.nn.max_pool](https://www.tensorflow.org/api_docs/python/tf/nn/max_pool)に`x_tensor`, `maxpool_strides`, `maxpool_stride`, `padding`を渡し`maxpool`が完成します。引数の渡す順番や引数名は[tf.nn.max_pool](https://www.tensorflow.org/api_docs/python/tf/nn/max_pool)で確認しましょう。"
   ]
  },
  {
   "cell_type": "code",
   "execution_count": 13,
   "metadata": {
    "collapsed": true
   },
   "outputs": [],
   "source": [
    "def maxpool(x_tensor, ksize, strides=2, padding='SAME'):\n",
    "    ###############START CODE HERE###############\n",
    "    #適切な 関数・変数・値 などにNoneを書き換えてください。\n",
    "    # 入力のどの次元に、どれだけストライドを適用させるか\n",
    "    maxpool_strides = [1, strides, strides, 1]\n",
    "    # 入力のどの次元に、どれだけフィルターを適用させるか\n",
    "    maxpool_filter = [1, ksize, ksize, 1]\n",
    "    #　入力テンソルにプーリング処理を施す\n",
    "    maxpool = tf.nn.max_pool(x_tensor,\n",
    "                             ksize=maxpool_filter,\n",
    "                             strides=maxpool_strides,\n",
    "                             padding=padding)\n",
    "    ################END CODE HERE################\n",
    "    return maxpool"
   ]
  },
  {
   "cell_type": "markdown",
   "metadata": {},
   "source": [
    "### 1-3-3 入力の平滑化"
   ]
  },
  {
   "cell_type": "markdown",
   "metadata": {},
   "source": [
    "**【確認４】**　4Dテンソルを2Dテンソルに変換するための関数`flatten`を実装します。\n",
    "\n",
    "ここではまず入力テンソルの形を取得し、[tf.reshape](https://www.tensorflow.org/api_docs/python/tf/reshape)で（-1、縦×横×チャネル）に変形させます。"
   ]
  },
  {
   "cell_type": "code",
   "execution_count": 14,
   "metadata": {
    "collapsed": true
   },
   "outputs": [],
   "source": [
    "def flatten(x_tensor):\n",
    "    ###############START CODE HERE###############\n",
    "    #適切な 関数・変数・値 などにNoneを書き換えてください。\n",
    "    # 入力テンソルの形を取得\n",
    "    b, h, w, c = x_tensor.get_shape().as_list()\n",
    "    x_tensor_reshaped = tf.reshape(x_tensor, [-1, h * w * c])\n",
    "    ################END CODE HERE################\n",
    "    return x_tensor_reshaped"
   ]
  },
  {
   "cell_type": "markdown",
   "metadata": {},
   "source": [
    "### 1-3-4全結合層の作成"
   ]
  },
  {
   "cell_type": "markdown",
   "metadata": {},
   "source": [
    "**【確認５】**　全結合層を作成します。\n",
    "\n",
    "ここでは全結合層の処理に必用な関数を作成します。`fc`は2つの引数があります。\n",
    "- `x_tensor`: 入力テンソル（バッチサイズ、縦、横、チャネル）\n",
    "- `num_outputs`: 出力チャネル数\n",
    "\n",
    "そして、この関数内では、[tf.nn.xw_plus_b](https://www.tensorflow.org/api_docs/python/tf/nn/xw_plus_b)\n",
    "に必要なものを用意します。\n",
    "- `num_inputs`: 入力チャネルを`x_tensor`から取得します。\n",
    "- `weight_shape`ではまず重みの形をリスト形式で指定します。（入力チャネル、出力チャネル）\n",
    "- `fc_weights`は実際に重みを作成します。`conv2d`と同様に[glorot_uniform](http://proceedings.mlr.press/v9/glorot10a/glorot10a.pdf)で初期化します。今回は全結合層なので、$fan\\_in$と$fan\\_out$に$kernel\\_size$はいりません。\n",
    "- `biases`でバイアスを用意します。バイアスは[tf.zeros](https://www.tensorflow.org/api_docs/python/tf/zeros)で出力チャネル分ゼロに初期化します。\n",
    "\n",
    "最後に[tf.nn.xw_plus_b](https://www.tensorflow.org/api_docs/python/tf/nn/xw_plus_b)に`x_tensor`, `fc_weights`, `biases`を渡し、全結合層の完成です。\n",
    "\n",
    "畳み込み処理同様にL2正則化も行います。"
   ]
  },
  {
   "cell_type": "code",
   "execution_count": 15,
   "metadata": {
    "collapsed": true
   },
   "outputs": [],
   "source": [
    "def fc(x_tensor, num_outputs):\n",
    "    ###############START CODE HERE###############\n",
    "    #適切な 関数・変数・値 などにNoneを書き換えてください。\n",
    "    # 入力チャネルを取得\n",
    "    num_inputs = x_tensor.get_shape().as_list()[-1]\n",
    "    # 重みの形を指定\n",
    "    weight_shape = [num_inputs, num_outputs]\n",
    "    # 重みの初期化\n",
    "    fan_in = num_inputs\n",
    "    fan_out = num_outputs\n",
    "    std = np.sqrt(6. / (fan_in + fan_out))\n",
    "    fc_weights = tf.Variable(tf.random_uniform(weight_shape,\n",
    "                                               minval=-std,\n",
    "                                               maxval=std))\n",
    "    # バイアスの初期化\n",
    "    biases = tf.Variable(tf.zeros(num_outputs))\n",
    "    # 入力テンソルに重みをかけてバイアスを足す\n",
    "    fc_bias = tf.nn.xw_plus_b(x_tensor, fc_weights, biases)\n",
    "    # 畳み込みと同様にL2正則化\n",
    "    l2_loss = tf.nn.l2_loss(fc_weights) * WEIGHT_DECAY\n",
    "    # collectionにL2正則化を追加\n",
    "    tf.add_to_collection('costs', l2_loss)\n",
    "    ################END CODE HERE################\n",
    "    return fc_bias"
   ]
  },
  {
   "cell_type": "markdown",
   "metadata": {},
   "source": [
    "### 1-3-5 CNNモデルの構築"
   ]
  },
  {
   "cell_type": "markdown",
   "metadata": {},
   "source": [
    "**【確認６】**　CNNモデルを構築します。\n",
    "\n",
    "CNNの構造をここで決定します。\n",
    "\n",
    "`CNN`は2つの引数があります。\n",
    "- `x`: 入力画像（バッチサイズ、縦×横=28×28)\n",
    "- `keep_prob`: ドロップアウトしない確率\n",
    "\n",
    "- 入力テンソルを（バッチサイズ、28,28,1）となるように変換\n",
    "- カーネルサイズ：３、フィルター数：１６、ストライド：１の畳み込み層\n",
    "- 活性化関数（ここでは[tf.nn.relu](https://www.tensorflow.org/api_docs/python/tf/nn/relu)を使ってください）\n",
    "- フィルターサイズ：２，ストライド：２のプーリング層\n",
    "- カーネルサイズ：３、フィルター数：３２、ストライド：１の畳み込み層\n",
    "- 活性化関数：ReLU\n",
    "- 入力テンソルを２Dに変換\n",
    "- ノード数１２８の全結合層\n",
    "- 活性化関数：ReLU\n",
    "- ドロップアウト: [tf.nn.dropout](https://www.tensorflow.org/api_docs/python/tf/nn/dropout)を使います。`keep_prob`を渡すのを忘れないでください。\n",
    "- ノード数１０の全結合層\n",
    "- ソフトマックスとコスト関数と同時に行うのでここでは全結合層の出力を`cnn`の戻り値とします。"
   ]
  },
  {
   "cell_type": "code",
   "execution_count": 25,
   "metadata": {
    "collapsed": true
   },
   "outputs": [],
   "source": [
    "def cnn(x, keep_prob):\n",
    "    ###############START CODE HERE###############\n",
    "    #適切な 関数・変数・値 などにNoneを書き換えてください。\n",
    "    x = tf.reshape(x, (-1, 28, 28, 1))\n",
    "    x = conv2d(x, 16, 3, 1)\n",
    "    x = tf.nn.relu(x)\n",
    "    x = maxpool(x, 2, 2)  # 28x28 -> 14x14\n",
    "    x = conv2d(x, 32, 3, 1)\n",
    "    x = tf.nn.relu(x)\n",
    "    x = flatten(x)\n",
    "    x = fc(x, 128)\n",
    "    x = tf.nn.dropout(x, keep_prob)\n",
    "    x = tf.nn.relu(x)\n",
    "    x = fc(x, 10)\n",
    "    ################END CODE HERE################\n",
    "    return x"
   ]
  },
  {
   "cell_type": "markdown",
   "metadata": {},
   "source": [
    "## 1-4 CNNの学習の準備"
   ]
  },
  {
   "cell_type": "markdown",
   "metadata": {},
   "source": [
    "### 1-4-1 placeholderの準備"
   ]
  },
  {
   "cell_type": "markdown",
   "metadata": {},
   "source": [
    "この演習では４つのplaceholderを用意します。\n",
    "- `images`: 入力画像、shapeは(None, 28 * 28)です。Noneはミニバッチの次元です。\n",
    "- `labels`: クラスラベル、shapeは(None, 10)です。\n",
    "- `keep_prob`: ドロップアウトをしない確率\n",
    "- `learning_rate`: 学習率"
   ]
  },
  {
   "cell_type": "code",
   "execution_count": 26,
   "metadata": {
    "collapsed": true
   },
   "outputs": [],
   "source": [
    "# Prepare placeholders\n",
    "tf.reset_default_graph()\n",
    "keep_prob = tf.placeholder(dtype=tf.float32, shape=())\n",
    "images = tf.placeholder(dtype=tf.float32, shape=(None, 28 * 28))\n",
    "labels = tf.placeholder(dtype=tf.int64, shape=(None, 10))\n",
    "learning_rate = tf.placeholder(dtype=tf.float32, shape=())"
   ]
  },
  {
   "cell_type": "markdown",
   "metadata": {},
   "source": [
    "### 1-4-2 CNNの読み込み"
   ]
  },
  {
   "cell_type": "markdown",
   "metadata": {},
   "source": [
    "**【確認７】**\n",
    "\n",
    "- `logits`: `cnn`に`image`と`keep_prob`を渡します。\n",
    "- `test_pred`: テスト画像はロス関数には渡さず[tf.nn.softmax](https://www.tensorflow.org/api_docs/python/tf/nn/softmax)を適用させます。"
   ]
  },
  {
   "cell_type": "code",
   "execution_count": 27,
   "metadata": {
    "collapsed": false
   },
   "outputs": [],
   "source": [
    "###############START CODE HERE###############\n",
    "#適切な 関数・変数・値 などにNoneを書き換えてください。\n",
    "logits = cnn(images, keep_prob)\n",
    "test_pred = tf.nn.softmax(logits)\n",
    "################END CODE HERE################"
   ]
  },
  {
   "cell_type": "markdown",
   "metadata": {},
   "source": [
    "### 1-4-3 コスト関数の定義"
   ]
  },
  {
   "cell_type": "markdown",
   "metadata": {},
   "source": [
    "**【確認８】**　ここでは、コスト関数を定義します。\n",
    "\n",
    "コスト関数にクロスエントロピー誤差関数を使用します。\n",
    "- `cost`: ここでは [tf.nn.softmax_cross_entropy_with_logits](https://www.tensorflow.org/api_docs/python/tf/nn/softmax_cross_entropy_with_logits) を使用します。また、このままではクラス分の損失があるので [tf.reduce.mean](https://www.tensorflow.org/api_docs/python/tf/reduce_mean) を使って平均を求めます。\n",
    "- この`cost`も[tf.add_to_collection](https://www.tensorflow.org/api_docs/python/tf/add_to_collection)を使ってcollectionに追加します。\n",
    "- `costs`: これまでcollectionに渡したcostsを[tf.get_collection](https://www.tensorflow.org/api_docs/python/tf/get_collection)を使って取得し、[tf.add_n](https://www.tensorflow.org/api_docs/python/tf/add_n)を使いすべて足し合わせます。"
   ]
  },
  {
   "cell_type": "code",
   "execution_count": 28,
   "metadata": {
    "collapsed": false
   },
   "outputs": [],
   "source": [
    "###############START CODE HERE###############\n",
    "cost = tf.reduce_mean(tf.nn.softmax_cross_entropy_with_logits(\n",
    "    logits=logits, labels=labels))\n",
    "tf.add_to_collection('costs', cost)\n",
    "costs = tf.add_n(tf.get_collection('costs'))\n",
    "################END CODE HERE################"
   ]
  },
  {
   "cell_type": "markdown",
   "metadata": {},
   "source": [
    "### 1-4-4 最適化"
   ]
  },
  {
   "cell_type": "markdown",
   "metadata": {},
   "source": [
    "**【確認９】** 定義した損失関数をAdamで最適化します。\n",
    "\n",
    "- `optimizer`: [tf.train.AdamOptimzer](https://www.tensorflow.org/api_docs/python/tf/train/AdamOptimizer)を追加します。引数には`learning_rate`を渡します。また、これを`.minimize(costs)`を後尾に書き加えます。"
   ]
  },
  {
   "cell_type": "code",
   "execution_count": 30,
   "metadata": {
    "collapsed": false
   },
   "outputs": [],
   "source": [
    "###############START CODE HERE###############\n",
    "#適切な 関数・変数・値 などにNoneを書き換えてください。\n",
    "optimizer = tf.train.AdamOptimizer(learning_rate).minimize(costs)\n",
    "################END CODE HERE################"
   ]
  },
  {
   "cell_type": "markdown",
   "metadata": {},
   "source": [
    "### 1-4-5 精度の計算"
   ]
  },
  {
   "cell_type": "markdown",
   "metadata": {},
   "source": [
    "**【確認１０】** ここでは精度を計算します。\n",
    "\n",
    "- `correct_pred`: [tf.equal](https://www.tensorflow.org/api_docs/python/tf/equal)を使い予測結果の`test_pred`と正解ラベルの`labels`を比較します。この際に、まず両方とも[tf.argmax](https://www.tensorflow.org/api_docs/python/tf/argmax)を使いone-hot-vectorの最大値のインデックスを返させます。ここで、`axis=1`とするのを忘れないようにしてください。\n",
    "- `accuracy`: `correct_pred`はbool型（[True, False, True...])となっているので[tf.cast](https://www.tensorflow.org/api_docs/python/tf/cast)を使ってtf.float32に変換させます。そして、[tf.reduce_mean](https://www.tensorflow.org/api_docs/python/tf/reduce_mean)を使って精度を求めます。"
   ]
  },
  {
   "cell_type": "code",
   "execution_count": 31,
   "metadata": {
    "collapsed": true
   },
   "outputs": [],
   "source": [
    "###############START CODE HERE###############\n",
    "#適切な 関数・変数・値 などにNoneを書き換えてください。\n",
    "correct_pred = tf.equal(tf.argmax(test_pred, 1), tf.argmax(labels, 1))\n",
    "accuracy = tf.reduce_mean(tf.cast(correct_pred, tf.float32))\n",
    "################END CODE HERE################"
   ]
  },
  {
   "cell_type": "markdown",
   "metadata": {},
   "source": [
    "## 1-5 学習"
   ]
  },
  {
   "cell_type": "markdown",
   "metadata": {},
   "source": [
    "**【確認１１】** ここではいよいよCNNを学習させてみます。ここでミニバッチサイズを200にして3エポック学習します。\n",
    "\n",
    "セルのはじめに`%%time`と書くとそのセルを実行するのにかかった時間を最後に表示してくれます。`%%timeit`とするとセルを複数回実行し平均時間を求めてくれます。(magic functionの一つです）"
   ]
  },
  {
   "cell_type": "code",
   "execution_count": 32,
   "metadata": {
    "collapsed": false
   },
   "outputs": [
    {
     "name": "stdout",
     "output_type": "stream",
     "text": [
      " Epoch: 0, Train cost (epoch mean): 0.640, Test cost: 0.205, Test Acc: 0.933\n",
      " Epoch: 1, Train cost (epoch mean): 0.233, Test cost: 0.124, Test Acc: 0.962\n",
      " Epoch: 2, Train cost (epoch mean): 0.158, Test cost: 0.089, Test Acc: 0.970\n",
      "CPU times: user 51.8 s, sys: 8.58 s, total: 1min\n",
      "Wall time: 33.4 s\n"
     ]
    }
   ],
   "source": [
    "%%time\n",
    "# ミニバッチを指定\n",
    "batch_size = 200\n",
    "# 学習させるエポック数を指定\n",
    "total_epoch = 3\n",
    "# 学習データのサイズ\n",
    "train_size = len(mnist.train.images)\n",
    "# テストデータのサイズ\n",
    "test_size = len(mnist.test.images)\n",
    "# 1エポックあたりのステップ数\n",
    "total_step_train = int(train_size / batch_size)\n",
    "# 学習率\n",
    "lr = 0.001\n",
    "# ロス/精度を記録するための配列\n",
    "train_cost = []\n",
    "train_acc = []\n",
    "test_cost = []\n",
    "# sessionを作成\n",
    "with tf.Session() as sess:\n",
    "    # variablesを初期化\n",
    "    sess.run(tf.global_variables_initializer())\n",
    "    for epoch in range(total_epoch):  # total_epoch数分ループ\n",
    "        ### 学習 ###\n",
    "        for step in range(total_step_train):  # total_step_train数分ループ\n",
    "            # .next_batchで新しいミニバッチを取得（これは実行するたびに次のミニバッチを取得できます）\n",
    "            batch = mnist.train.next_batch(batch_size, shuffle=False)\n",
    "\n",
    "            # sessを実行（ここではoptimizerとcostsとaccuracyを渡します。またfeed_dictでは辞書型でplaceholderに値を渡します。\n",
    "            # ここではkeep_probは0.5とします。）\n",
    "            ###############START CODE HERE###############\n",
    "            #適切な 関数・変数・値 などにNoneを書き換えてください。\n",
    "            _, _cost, _acc = sess.run([optimizer, costs, accuracy],\n",
    "                                feed_dict={images: batch[0],\n",
    "                                           labels: batch[1],\n",
    "                                           keep_prob: 0.5,\n",
    "                                           learning_rate: lr})\n",
    "            ################END CODE HERE################\n",
    "            print('\\r \\t {}/{} cost: {:.3f}'.format(step + 1, total_step_train, _cost), end='')\n",
    "            # 配列に_costと_accを追加\n",
    "            train_cost.append(_cost)\n",
    "            train_acc.append(_acc)\n",
    "        # エポックの平均ロスを計算\n",
    "        train_cost_mean = np.mean(train_cost[-total_step_train:])\n",
    "        ### テスト ###\n",
    "        print('\\r Calculating for test dataset', end='')\n",
    "        ###############START CODE HERE###############\n",
    "        #適切な 関数・変数・値 などにNoneを書き換えてください。\n",
    "        test_cost, test_acc = sess.run([cost, accuracy],\n",
    "                                       feed_dict={images: mnist.test.images,\n",
    "                                                  labels: mnist.test.labels,\n",
    "                                                  keep_prob: 1.0})\n",
    "        ################END CODE HERE################\n",
    "        # エポック毎にログをプリント\n",
    "        print('\\r Epoch: {}, Train cost (epoch mean): {:.3f}, Test cost: {:.3f}, Test Acc: {:.3f}'.format(\n",
    "                epoch, train_cost_mean, test_cost, test_acc))"
   ]
  },
  {
   "cell_type": "markdown",
   "metadata": {},
   "source": [
    "今回は非常に小さなCNNで３エポックしか学習していないのでテスト精度は80%ちょっとだと思います。\n",
    "\n",
    "最後に学習ロスと学習精度をプロットしてみます。ロスは下がり、精度は上がっているのが確認できると思います。"
   ]
  },
  {
   "cell_type": "code",
   "execution_count": 33,
   "metadata": {
    "collapsed": false,
    "scrolled": true
   },
   "outputs": [
    {
     "data": {
      "image/png": "[encoded data removed]",
      "text/plain": [
       "<matplotlib.figure.Figure at 0x7f9f695aef28>"
      ]
     },
     "metadata": {},
     "output_type": "display_data"
    }
   ],
   "source": [
    "fig, ax1 = plt.subplots()\n",
    "lns1 = ax1.plot(train_cost, label='train_cost', color='b')\n",
    "ax1.set_xlabel('Iteration')\n",
    "ax1.set_ylabel('Cost')\n",
    "ax2 = ax1.twinx()\n",
    "lns2 = ax2.plot(train_acc, label='train_acc', color='g')\n",
    "ax2.set_ylabel('Accuracy')\n",
    "\n",
    "lns = lns1 + lns2\n",
    "labs = [l.get_label() for l in lns]\n",
    "ax1.legend(lns, labs, loc=3)\n",
    "fig.tight_layout()"
   ]
  },
  {
   "cell_type": "code",
   "execution_count": null,
   "metadata": {
    "collapsed": true
   },
   "outputs": [],
   "source": []
  },
  {
   "cell_type": "code",
   "execution_count": null,
   "metadata": {
    "collapsed": true
   },
   "outputs": [],
   "source": []
  }
 ],
 "metadata": {
  "anaconda-cloud": {},
  "kernelspec": {
   "display_name": "Python [default]",
   "language": "python",
   "name": "python3"
  },
  "language_info": {
   "codemirror_mode": {
    "name": "ipython",
    "version": 3
   },
   "file_extension": ".py",
   "mimetype": "text/x-python",
   "name": "python",
   "nbconvert_exporter": "python",
   "pygments_lexer": "ipython3",
   "version": "3.5.2"
  },
  "toc": {
   "nav_menu": {
    "height": "372px",
    "width": "252px"
   },
   "navigate_menu": true,
   "number_sections": true,
   "sideBar": true,
   "threshold": 4,
   "toc_cell": false,
   "toc_section_display": "block",
   "toc_window_display": false
  }
 },
 "nbformat": 4,
 "nbformat_minor": 2
}
