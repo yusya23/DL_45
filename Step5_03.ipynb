{
 "cells": [
  {
   "cell_type": "markdown",
   "metadata": {},
   "source": [
    "# Step5 演習03 教師強制\n",
    "---"
   ]
  },
  {
   "cell_type": "markdown",
   "metadata": {},
   "source": [
    "本演習では、教師強制のモデルを実装します。ここではある入力文字列から次の文字を予測してみます。\n",
    "\n",
    "**はじめに**\n",
    "- for文やwhile文の利用は明示的な利用指示がない場所での利用は避けてください。\n",
    "\n",
    "**本演習の目的**\n",
    "- RNNにおける教師強制モデルの実装"
   ]
  },
  {
   "cell_type": "markdown",
   "metadata": {},
   "source": [
    "## タスクについて"
   ]
  },
  {
   "cell_type": "markdown",
   "metadata": {},
   "source": [
    "この演習では教師強制のモデルを使って1つ前の文字から次の文字を予測します。例えば、\"今日はいい天気です”という文章がある時、入力が\"天\"の場合出力が\"気\"となるように学習させます。通常、教師強制は機械翻訳やイメージキャプショニング（入力が画像で出力がその画像を説明する文章）などのタスクに使われますが、このようなモデルの学習は時間がかかり演習としては不向きなので、今回は単純な単語予測に教師強制を使用します。１つだけこの演習を始める前に理解していただきたいのは、教師強制のモデルでは学習時は**1つ前の単語の情報しか**与えられていません。なので先程の\"今日はいい天気です”の例ですと、モデルは1つ目の\"い\"が入力の時は\"い\"と予測し、2つ目の\"い\"が入力の時は\"天\"と予測しなければならず、このモデルはこの文章を生成するのは不可能となります。なので、**これから実装していただく単語予測はそもそもタスクとしては適切ではありません。**\n",
    "\n",
    "繰り返しになりますが、学習時間の削減をし、教師強制の計算の理解を深めていただくことを目標にこの演習を用意しました。"
   ]
  },
  {
   "cell_type": "markdown",
   "metadata": {},
   "source": [
    "## ライブラリのインストール\n",
    "\n",
    "まずはじめに、本演習で利用するライブラリのインポートを行います。\n",
    "\n",
    "- [numpy](http://www.numpy.org) 数値計算を行うための基本パッケージの公式ドキュメント\n",
    "- [matplotlib](http://matplotlib.org) グラフ描画ライブラリの基本パッケージの公式ドキュメント\n",
    "\n",
    "`%matplotlib inline` はnotebook上で使える[magic function](http://ipython.readthedocs.io/en/stable/interactive/magics.html)の一つで、これによりmatplotlibをインタラクティブに使うことできます。"
   ]
  },
  {
   "cell_type": "code",
   "execution_count": 1,
   "metadata": {
    "collapsed": true
   },
   "outputs": [],
   "source": [
    "import numpy as np\n",
    "%matplotlib inline \n",
    "import matplotlib.pyplot as plt"
   ]
  },
  {
   "cell_type": "markdown",
   "metadata": {},
   "source": [
    "## データセット"
   ]
  },
  {
   "cell_type": "markdown",
   "metadata": {},
   "source": [
    "これまではMNISTを使ってきましたが、ここではwikipediaからもってきた文章を使います。文章に簡単な修正を加えて、開始シグナルとして\"#\"、終了シグナルとして\"*\"を追加しています。\n",
    "\n",
    "RNNで文字を扱う際は直接文字を予測することはできないので、まず文字を例えば、A=1, B=2, C=3のように数値化しなければなりません。さらにニューラルネットワークで扱いやすいようにone-hotベクトル化しなければなりません。（例：A=[001], B=[010], C=[100])ここでは数値化する際に必要な辞書（`char2ix`）と、逆に数値化したものからもとの文字に戻す際に必要な辞書（`ix2char`）を作成準備します。"
   ]
  },
  {
   "cell_type": "code",
   "execution_count": 2,
   "metadata": {
    "collapsed": false
   },
   "outputs": [
    {
     "name": "stdout",
     "output_type": "stream",
     "text": [
      "テキスト： 312字\n",
      "使用されている文字: 138字\n",
      "----\n",
      "['、', '結', '以', '術', '高', '所', '向', '機', 'e', 'タ', '普', 'デ', 'ら', 'プ', '発', 'ッ', 'と', '上', 'ン', 'ト', '#', '理', '圧', '層', '達', '適', '1', '械', 'あ', '倒', 'を', 'も', '言', '近', '音', '充', '化', 'ラ', '習', 'ヒ', 'そ', 'ワ', 'さ', '計', 'う', 'す', 'れ', '0', '2', 'し', 'ィ', '・', '最', '研', '。', 'や', '登', '像', 'b', '多', 'の', '*', 'か', 'ー', 'ず', 'グ', '示', 'び', '能', 'ク', '語', '芳', '前', '果', '明', 'ん', 'せ', '局', '的', '代', '声', '練', 'が', 'ど', 'ネ', 'ル', '手', '力', '調', 'く', '因', '他', 'て', '算', '必', 'る', '勾', '題', 'ニ', '配', 'W', 'な', '画', 'に', '法', '究', '場', '消', '対', '性', 'で', 'た', 'ュ', 'い', '４', 'は', 'っ', 'お', '年', '象', '深', '問', '論', '及', '要', '進', '然', '失', '解', '容', '易', '技', '訓', 'ま', '学', '分', '自', 'よ']\n",
      "----\n",
      "\n",
      "----入力文章\n",
      "#ディープラーニングまたは深層学習とは、多層のニューラルネットワークによる機械学習手法である。深層学習登場以前、４層以上の深層ニューラルネットは、局所最適解や勾配消失などの技術的な問題によって充分学習させられず、性能も芳しくなかった。しかし、近年、ヒントンらによる多層ニューラルネットワークの学習の研究や、学習に必要な計算機の能力向上、および、Webの発達による訓練データ調達の容易化によって、充分学習させられるようになった。その結果、音声・画像・自然言語を対象とする問題に対し、他の手法を圧倒する高い性能を示し、2010年代に普及した。しかしながら、多層ニューラルネットが高い性能を示す要因の理論的な解明は進んでいない。*\n",
      "----\n"
     ]
    }
   ],
   "source": [
    "# sample.txtというファイルからリードモード（r)でテキストを読み込む\n",
    "text = open('./dataset/step5_sample.txt', 'r').read()\n",
    "# テキスト内で使用されている文字を取得\n",
    "chars = list(set(text))\n",
    "data_size, num_chars = len(text), len(chars)\n",
    "print('テキスト： {}字\\n使用されている文字: {}字'.format(data_size, num_chars))\n",
    "print('----\\n{}\\n----'.format(chars))\n",
    "# 文字列->数値/数値->文字列に変換する際に必要な辞書を作成\n",
    "char2ix = {ch:i for i,ch in enumerate(chars)}\n",
    "ix2char = {i:ch for i,ch in enumerate(chars)}\n",
    "seq_length = 24\n",
    "print('\\n----入力文章\\n{}\\n----'.format(text))"
   ]
  },
  {
   "cell_type": "markdown",
   "metadata": {},
   "source": [
    "## モデルの構築"
   ]
  },
  {
   "cell_type": "markdown",
   "metadata": {},
   "source": [
    "### モデルパラメータの準備"
   ]
  },
  {
   "cell_type": "markdown",
   "metadata": {},
   "source": [
    "今回は下記のモデルパラメータを用います。隠れ層は128にします。"
   ]
  },
  {
   "cell_type": "code",
   "execution_count": 3,
   "metadata": {
    "collapsed": true
   },
   "outputs": [],
   "source": [
    "hidden_size = 128 # 隠れ層のサイズ\n",
    "num_char = len(char2ix) # 文字の種類の数"
   ]
  },
  {
   "cell_type": "markdown",
   "metadata": {},
   "source": [
    "### モデルの重みの初期化"
   ]
  },
  {
   "cell_type": "markdown",
   "metadata": {},
   "source": [
    "ここでもモデルのパラメータを[glorot_uniform](http://proceedings.mlr.press/v9/glorot10a/glorot10a.pdf)で初期化します。バイアスはゼロで初期化します。\n",
    "\n",
    "[\"glorot_uniform\"](http://proceedings.mlr.press/v9/glorot10a/glorot10a.pdf)\n",
    "$$\\pm\\sqrt{\\frac{6}{(input\\_channel+ output\\_channel)}}$$\n",
    "\n",
    "そして[Adam](https://arxiv.org/pdf/1412.6980.pdf)を使ってモデルを学習させるので、その際に必要な配列を用意します。\n",
    "\n",
    "`init_parameters`の最後では重みのパラメータとAdamに必要なパラメータをまとめて返します。"
   ]
  },
  {
   "cell_type": "code",
   "execution_count": 4,
   "metadata": {
    "collapsed": true
   },
   "outputs": [],
   "source": [
    "def glorot_uniform(shape):\n",
    "    if len(shape) == 2:\n",
    "        fan_in, fan_out = shape\n",
    "        std = np.sqrt(6./(fan_in+fan_out))\n",
    "        return np.random.uniform(low=-std, high=std, size=(fan_in, fan_out))\n",
    "    else:\n",
    "        raise NotImplementedError()"
   ]
  },
  {
   "cell_type": "code",
   "execution_count": 5,
   "metadata": {
    "collapsed": true
   },
   "outputs": [],
   "source": [
    "def init_parameters(num_char, hidden_size):\n",
    "    #入力から隠れ層の重み\n",
    "    U = glorot_uniform((num_char, hidden_size))\n",
    "\n",
    "    # 出力層から隠れ層の重み\n",
    "    W = glorot_uniform((num_char, hidden_size)) \n",
    "\n",
    "    #隠れ層から出力層の重み\n",
    "    V = glorot_uniform((hidden_size, num_char)) \n",
    "\n",
    "    # 隠れ層のバイアス\n",
    "    b = np.zeros((1, hidden_size))\n",
    "    # 出力層のバイアス\n",
    "    c = np.zeros((1, num_char))\n",
    "\n",
    "    # Adamを使用するにあたって必要なパラメータの初期化\n",
    "    mU, mW, mV = np.zeros_like(U), np.zeros_like(W), np.zeros_like(V)\n",
    "    mb, mc = np.zeros_like(b), np.zeros_like(c)\n",
    "    vU, vW, vV = np.zeros_like(U), np.zeros_like(W), np.zeros_like(V)\n",
    "    vb, vc = np.zeros_like(b), np.zeros_like(c)\n",
    "        \n",
    "    # パラメータをタプルにまとめます。\n",
    "    params = (U, W, V, b, c)\n",
    "    ms = (mU, mW, mV, mb, mc)\n",
    "    vs = (vU, vW, vV, vb, vc)\n",
    "    return params, ms, vs"
   ]
  },
  {
   "cell_type": "markdown",
   "metadata": {},
   "source": [
    "### フォワードプロパゲーションの実装"
   ]
  },
  {
   "cell_type": "markdown",
   "metadata": {},
   "source": [
    "通常のRNNは1ステップ前の隠れ状態を使って次の隠れ状態を計算するので、並列化ができませんでした。そこで教師強制の登場です。教師強制では、下図のように訓練時は正解ラベルyを次のステップの隠れ層へと接続します。正解ラベルyは予め全ステップにおいて分かっているので、1ステップ毎に隠れ層と出力層の計算する必要はなく、全ステップ一括で計算することができます。\n",
    "\n",
    "<img src=\"./img/step5_teacher_forcing.png\" width=\"360\" height=\"120\">"
   ]
  },
  {
   "cell_type": "markdown",
   "metadata": {},
   "source": [
    "** フォワードプロパゲーション**\n",
    "$$\n",
    "\\begin{eqnarray}\n",
    "\\boldsymbol{a}{(t)}&=&\\boldsymbol{b}+\\boldsymbol{y}{(t-1)}\\boldsymbol{W}+\\boldsymbol{x}{(t)}\\boldsymbol{U}\\\\\n",
    "\\boldsymbol{h}{(t)}&=&tanh(\\boldsymbol{a}{(t)})\\\\\n",
    "\\boldsymbol{o}{(t)}&=&\\boldsymbol{c}+\\boldsymbol{h}{(t)}\\boldsymbol{V}\\\\\n",
    "\\boldsymbol{\\hat{y}}{(t)}&=&softmax(\\boldsymbol{o}{(t)})\n",
    "\\end{eqnarray}\n",
    "$$\n",
    "\n",
    "もう一度演習の目的を復習します。例えば文字列ABCDがあったとします。このときAをいれるとB,次にBをいれるとC、と次の文字を予測するRNNを作成します。ここで上の式をよくみてみると、$y(t-1)$は一つ前の入力なので、$x(t)$と等しくなります。また、先ほど述べたように1ステップ前の隠れ状態もいらないので、時刻$t$毎に分けて計算する必要はありません。以上を踏まえると上記の式は以下のように書き換えられます。\n",
    "\n",
    "** フォワードプロパゲーション（学習時）**\n",
    "$$\n",
    "\\begin{eqnarray}\n",
    "\\boldsymbol{a}&=&\\boldsymbol{b}+\\boldsymbol{x}\\boldsymbol{W}+\\boldsymbol{x}\\boldsymbol{U}\\\\\n",
    "\\boldsymbol{h}&=&tanh(\\boldsymbol{a})\\\\\n",
    "\\boldsymbol{o}&=&\\boldsymbol{c}+\\boldsymbol{h}\\boldsymbol{V}\\\\\n",
    "\\boldsymbol{\\hat{y}}&=&softmax(\\boldsymbol{o})\n",
    "\\end{eqnarray}\n",
    "$$\n",
    "\n",
    "**【課題１】**　以上の知識を使って教師強制RNNの順伝播を実装してください。\n",
    "\n",
    "`forward_propagation_train`3つの引数があります。\n",
    "- `X`: 入力（バッチ次元、データ長=seq_length、文字数=num_chars）\n",
    "- `Y`: 出力（バッチ次元、データ長=seq_length、文字数=num_chars）\n",
    "- `params`: `init_parameters`で用意した重みとバイアス\n",
    "\n",
    "上記式に従って順伝播を実装してください。`softmax`関数は予め実装してあるものを使って下さい。\n",
    "\n",
    "そして、ここではコスト関数も順伝播の関数内で計算してしまいます。`cross_entropy_loss`も予め用意してあります。コスト関数実装後、最後に`loss`をデータ長(`seq_length`)で割るのを忘れないでください。"
   ]
  },
  {
   "cell_type": "code",
   "execution_count": 12,
   "metadata": {
    "collapsed": true
   },
   "outputs": [],
   "source": [
    "#Coursedele-02 Step5 QuestionNumber7 a3bc5548487a4d10717bd61d83cad3fd\n",
    "def softmax(x, axis):\n",
    "    c = np.max(x)\n",
    "    exp_x = np.exp(x - c)\n",
    "    y = exp_x / np.sum(exp_x, axis=axis, keepdims=True) \n",
    "    return y\n",
    "\n",
    "def cross_entropy_loss(y, y_hat, m):\n",
    "    cost = - np.sum(y * np.log(y_hat)) / m        \n",
    "    return cost\n",
    "\n",
    "def forward_propagation_train(X, Y, params):\n",
    "    U, W, V, b, c = params\n",
    "    batch_size, seq_length = X.shape[:2]\n",
    "    \n",
    "    ###############START CODE HERE###############\n",
    "    a = b + np.dot(X, W) + np.dot(X, U)\n",
    "    h = np.tanh(a)\n",
    "    o = c + np.dot(h, V)\n",
    "    # softmatxの引数のaxisは2\n",
    "    Y_hat = softmax(o, 2)\n",
    "    loss = cross_entropy_loss(Y, Y_hat, batch_size)\n",
    "    loss /= seq_length\n",
    "    ################END CODE HERE################\n",
    "    return Y_hat, h, loss"
   ]
  },
  {
   "cell_type": "markdown",
   "metadata": {},
   "source": [
    "** ファイルを保存後 **、次のセルを実行（Shift+Enter）で採点を行います。"
   ]
  },
  {
   "cell_type": "code",
   "execution_count": 13,
   "metadata": {
    "collapsed": false
   },
   "outputs": [
    {
     "name": "stdout",
     "output_type": "stream",
     "text": [
      "Congratulations!\n",
      "We give you 10 points out of 10 points.\n",
      "\n"
     ]
    }
   ],
   "source": [
    "%%bash\n",
    "./validation_client.py dele-02 5 7 Step5_03.ipynb api.internal.zero2one.jp"
   ]
  },
  {
   "cell_type": "markdown",
   "metadata": {},
   "source": [
    "** フォワードプロパゲーション（テスト時）**\n",
    "$$\n",
    "\\begin{eqnarray}\n",
    "\\boldsymbol{a}{(t)}&=&\\boldsymbol{b}+\\boldsymbol{\\hat{y}}{(t-1)}\\boldsymbol{W}+\\boldsymbol{x}{(t)}\\boldsymbol{U}\\\\\n",
    "\\boldsymbol{h}{(t)}&=&tanh(\\boldsymbol{a}{(t)})\\\\\n",
    "\\boldsymbol{o}{(t)}&=&\\boldsymbol{c}+\\boldsymbol{h}{(t)}\\boldsymbol{V}\\\\\n",
    "\\boldsymbol{\\hat{y}}{(t)}&=&softmax(\\boldsymbol{o}{(t)})\n",
    "\\end{eqnarray}\n",
    "$$\n",
    "\n",
    "**【課題２】**　上記式に従って教師強制RNNのテスト時の順伝播を実装してください。\n",
    "\n",
    "`forward_propagation_test`3つの引数があります。\n",
    "- `X`: 入力（バッチ次元、データ長=seq_length、文字数=num_chars）\n",
    "- `Y`: 出力（バッチ次元、データ長=seq_length、文字数=num_chars）\n",
    "- `params`: `init_parameters`で用意した重みとバイアス"
   ]
  },
  {
   "cell_type": "code",
   "execution_count": 20,
   "metadata": {
    "collapsed": true
   },
   "outputs": [],
   "source": [
    "#Coursedele-02 Step5 QuestionNumber8 e77392fcc5084817e936dfc2f4acf958\n",
    "def forward_propagation_test(X, Y, params):\n",
    "    U, W, V, b, c = params\n",
    "    batch_size, seq_length = X.shape[:2]\n",
    "    \n",
    "    # lossの初期化\n",
    "    loss = 0\n",
    "    # 一番初めのy(t-1)はスタートシグナルである'#'に設定\n",
    "    Y_hat = {}\n",
    "    eye = np.eye(len(char2ix)) \n",
    "    Y_hat[-1] = eye[char2ix['#']].reshape(1,-1)\n",
    "    \n",
    "    ###############START CODE HERE###############\n",
    "    for t in range(seq_length):\n",
    "        a = b + np.dot(Y_hat[t-1], W) + np.dot(X[:, t], U)\n",
    "        h = np.tanh(a)\n",
    "        o = c + np.dot(h, V)\n",
    "        # softmatxの引数のaxisは1\n",
    "        Y_hat[t] = softmax(o, 1)\n",
    "        loss += cross_entropy_loss(Y[:, t], Y_hat[t], batch_size)\n",
    "    loss /= seq_length\n",
    "    ################END CODE HERE################\n",
    "    return Y_hat, loss"
   ]
  },
  {
   "cell_type": "markdown",
   "metadata": {},
   "source": [
    "** ファイルを保存後 **、次のセルを実行（Shift+Enter）で採点を行います。"
   ]
  },
  {
   "cell_type": "code",
   "execution_count": 21,
   "metadata": {
    "collapsed": false
   },
   "outputs": [
    {
     "name": "stdout",
     "output_type": "stream",
     "text": [
      "Congratulations!\n",
      "We give you 10 points out of 10 points.\n",
      "\n"
     ]
    }
   ],
   "source": [
    "%%bash\n",
    "./validation_client.py dele-02 5 8 Step5_03.ipynb api.internal.zero2one.jp"
   ]
  },
  {
   "cell_type": "markdown",
   "metadata": {},
   "source": [
    "### バックプロパゲーションの実装"
   ]
  },
  {
   "cell_type": "markdown",
   "metadata": {},
   "source": [
    "教師強制RNNの逆伝播は、訓練時の順伝播の式を元に実装します。ここでは、効率的に計算するために、[np.einsum](https://docs.scipy.org/doc/numpy/reference/generated/numpy.einsum.html)を使います。詳しく知りたい方はリンク先を読むか、アインシュタインの縮約記法で検索してみて下さい。"
   ]
  },
  {
   "cell_type": "code",
   "execution_count": 22,
   "metadata": {
    "collapsed": true
   },
   "outputs": [],
   "source": [
    "def backward_propagation(params, X, h, Y_hat, Y):\n",
    "    U, W, V, b, c = params\n",
    "    batch_size, seq_length = X.shape[:2]\n",
    "\n",
    "    delta_o = (np.copy(Y_hat) - Y) / batch_size / seq_length\n",
    "    delta_V = np.einsum('ijk,ijl->kl', h, delta_o) \n",
    "    delta_c = np.sum(delta_o, axis=(0, 1))\n",
    "    \n",
    "    delta_h = np.dot(delta_o, V.T)\n",
    "    delta_a = (1 - h * h) * delta_h\n",
    "    delta_b = np.sum(delta_a, axis=(0, 1))\n",
    "    delta_U = np.einsum('ijk,ijl->kl', X, delta_a)\n",
    "    delta_W = np.einsum('ijk,ijl->kl', X, delta_a)\n",
    "    \n",
    "    grads = (delta_U, delta_W, delta_V, delta_b, delta_c)\n",
    "    # 勾配クリッピング\n",
    "    for g in grads:\n",
    "        np.clip(g, -1, 1, out=g)\n",
    "    return grads"
   ]
  },
  {
   "cell_type": "markdown",
   "metadata": {},
   "source": [
    "### パラメータの更新"
   ]
  },
  {
   "cell_type": "markdown",
   "metadata": {},
   "source": [
    "**【課題３】**　ADAMを実装します。この課題はStep5 演習01 と全く同じです。\n",
    "\n",
    "ここでは[ADAM](https://arxiv.org/pdf/1412.6980.pdf)でパラメータを更新します。\n",
    "$$\n",
    "\\begin{eqnarray*}\n",
    "\\boldsymbol{m}_t &=& \\beta_1 \\boldsymbol{m}_{(t-1)} + (1-\\beta_1)\\boldsymbol{g}_t\\\\\n",
    "\\boldsymbol{v}_t &=& \\beta_2 \\boldsymbol{v}_{(t-1)} + (1-\\beta_2)\\boldsymbol{g}_t^2\\\\\n",
    "\\boldsymbol{\\hat{m}}_t &=& \\frac{\\boldsymbol{m}_t}{(1-\\beta_1^t)}\\\\\n",
    "\\boldsymbol{\\hat{v}}_t &=& \\frac{\\boldsymbol{v}_t}{(1-\\beta_2^t)}\\\\\n",
    "\\boldsymbol{p}_t &=& \\boldsymbol{p}_{(t-1)} - \\alpha \\frac{\\boldsymbol{\\hat{m}_t}}{\\sqrt{\\boldsymbol{\\hat{v}}_t}+\\epsilon}\n",
    "\\end{eqnarray*}\n",
    "$$\n",
    "\n",
    "`update_parameters`は5つの引数があります。\n",
    "- `params`: 重みとバイアス\n",
    "- `grads`: 勾配\n",
    "- `ms`, `vs`: ADAMを使って必要な値\n",
    "- `iteration`: 現在のステップ数 `t`（ADAMのbias correction）\n",
    "- `num`: ここでは、len(params)=5をforループで回している。（paramsにはU, W, V, b, cの5つのパラメータがタプルで格納されている。）例：params[0] はU、grads[0]はUの勾配。"
   ]
  },
  {
   "cell_type": "code",
   "execution_count": 23,
   "metadata": {
    "collapsed": true
   },
   "outputs": [],
   "source": [
    "#Coursedele-02 Step5 QuestionNumber9 84ae5fd5bd24c5e2fd3f1f7b1bd669b0\n",
    "def update_parameters(params, grads, ms, vs, iteration):\n",
    "    alpha = 0.001\n",
    "    beta1 = 0.9\n",
    "    beta2 = 0.999\n",
    "    eps = 1e-8\n",
    "    for num in range(len(params)):\n",
    "        p, g, m, v = params[num], grads[num], ms[num], vs[num]\n",
    "        ###############START CODE HERE###############\n",
    "        # Adam\n",
    "        m_t = beta1 * m + (1 - beta1) * g\n",
    "        v_t = beta2 * v + (1 - beta2) * g * g\n",
    "        m_t_hat = m_t / (1 - np.power(beta1, iteration))\n",
    "        v_t_hat = v_t / (1 - np.power(beta2, iteration))\n",
    "        params[num][:] = p - alpha * m_t_hat / (np.sqrt(v_t_hat) + eps)\n",
    "        ################END CODE HERE################\n",
    "        ms[num][:] = m_t\n",
    "        vs[num][:] = v_t\n",
    "    return params"
   ]
  },
  {
   "cell_type": "markdown",
   "metadata": {},
   "source": [
    "** ファイルを保存後 **、次のセルを実行（Shift+Enter）で採点を行います。"
   ]
  },
  {
   "cell_type": "code",
   "execution_count": 24,
   "metadata": {
    "collapsed": false
   },
   "outputs": [
    {
     "name": "stdout",
     "output_type": "stream",
     "text": [
      "Congratulations!\n",
      "We give you 10 points out of 10 points.\n",
      "\n"
     ]
    }
   ],
   "source": [
    "%%bash\n",
    "./validation_client.py dele-02 5 9 Step5_03.ipynb api.internal.zero2one.jp"
   ]
  },
  {
   "cell_type": "markdown",
   "metadata": {},
   "source": [
    "## 教師強制RNNの学習"
   ]
  },
  {
   "cell_type": "markdown",
   "metadata": {},
   "source": [
    "### データの作成"
   ]
  },
  {
   "cell_type": "markdown",
   "metadata": {},
   "source": [
    "まだ入力データであるテキストにはなにも処理を加えていないので、`gen_data`内でいろいろを処理します。まず\n",
    "\n",
    "- `text_ix`: 入力である`text`を数値化します。\n",
    "- `text_ix_vec`: `text_ix`をone-hotベクトル化します。\n",
    "\n",
    "次にここの関数内で`text`を`seq_length`で区切り、ミニバッチを作成します。ここで注意しなければならないのは、`(p+1+seq_length) < len(text)`でないとき（=else分）`text`の長さが足りず、ミニバッチにする時に問題が起きてしまします。そこで、足りないときはその分文章の最後に終了シグナルである'*'を追加します。\n",
    "\n",
    "最後に通常であれば関数はreturnで値を返すのですが、ここではyieldを使って値を返します。これにより、この関数を一時的に停止した状態にし、次に呼びだされた時に途中から再開できます。簡単に説明するために`def yield_eg`を作成したので、実行してみて下さい。詳しくは[Yield式](https://docs.python.jp/3/reference/expressions.html#yieldexpr)などを参考にしてみて下さい。"
   ]
  },
  {
   "cell_type": "code",
   "execution_count": 25,
   "metadata": {
    "collapsed": true
   },
   "outputs": [],
   "source": [
    "def yield_eg1():\n",
    "    for i in range(3):\n",
    "        yield i"
   ]
  },
  {
   "cell_type": "code",
   "execution_count": 26,
   "metadata": {
    "collapsed": false
   },
   "outputs": [
    {
     "name": "stdout",
     "output_type": "stream",
     "text": [
      "0\n",
      "1\n",
      "2\n"
     ]
    }
   ],
   "source": [
    "# 使い方例１\n",
    "for j in yield_eg1():\n",
    "    print(j)"
   ]
  },
  {
   "cell_type": "code",
   "execution_count": 29,
   "metadata": {
    "collapsed": false
   },
   "outputs": [
    {
     "name": "stdout",
     "output_type": "stream",
     "text": [
      "0\n",
      "1\n",
      "2\n"
     ]
    }
   ],
   "source": [
    "# 使い方例２\n",
    "gen = yield_eg1()\n",
    "print(gen.__next__())\n",
    "print(gen.__next__())\n",
    "print(gen.__next__())\n",
    "#print(gen.__next__()) # 4つ目はないのでこれを実行するとStopIterationとなる"
   ]
  },
  {
   "cell_type": "code",
   "execution_count": 30,
   "metadata": {
    "collapsed": false
   },
   "outputs": [
    {
     "name": "stdout",
     "output_type": "stream",
     "text": [
      "0\n",
      "1\n",
      "2\n"
     ]
    }
   ],
   "source": [
    "# 使い方例３\n",
    "gen = yield_eg1()\n",
    "print(next(gen))\n",
    "print(next(gen))\n",
    "print(next(gen))"
   ]
  },
  {
   "cell_type": "code",
   "execution_count": 31,
   "metadata": {
    "collapsed": true
   },
   "outputs": [],
   "source": [
    "def gen_data(text, seq_length, batch_size):\n",
    "    text_ix = np.array([char2ix[ch] for ch in text])\n",
    "    eye = np.eye(len(char2ix))\n",
    "    text_ix_vec = eye[text_ix]\n",
    "    X = []\n",
    "    Y = []\n",
    "    p = 0\n",
    "    reset = False\n",
    "    while True:\n",
    "        for i in range(batch_size):\n",
    "            if (p+1) > len(text):\n",
    "                p = 0\n",
    "                reset = True\n",
    "            if (p+1+seq_length) < len(text):\n",
    "                X.append(text_ix_vec[p:p+seq_length])\n",
    "                Y.append(text_ix_vec[p+1:p+seq_length+1])\n",
    "            else:\n",
    "                extra = np.tile(eye[char2ix['*']].reshape(1,-1), (seq_length, 1))\n",
    "                tmp = np.r_[text_ix_vec, extra]\n",
    "                X.append(tmp[p:p+seq_length])\n",
    "                Y.append(tmp[p+1:p+seq_length+1])\n",
    "            p += seq_length\n",
    "        yield np.array(X), np.array(Y), reset\n",
    "        X = []\n",
    "        Y = []\n",
    "        reset = False"
   ]
  },
  {
   "cell_type": "markdown",
   "metadata": {},
   "source": [
    "### 教師強制RNNの学習"
   ]
  },
  {
   "cell_type": "markdown",
   "metadata": {},
   "source": [
    "さていよいよモデルを学習させます。"
   ]
  },
  {
   "cell_type": "code",
   "execution_count": 32,
   "metadata": {
    "collapsed": false,
    "scrolled": false
   },
   "outputs": [
    {
     "name": "stdout",
     "output_type": "stream",
     "text": [
      " iter: 0, loss: 4.926, acc: 0.007\n",
      "----iteration: 0\n",
      "入力：#ディープラーニングまたは深層学習とは、多層のニ\n",
      "目標：ディープラーニングまたは深層学習とは、多層のニュ\n",
      "予測：グ題達勾ッっ勾ッ所eま充高消的れ他す高消械的やッ \n",
      "----\n",
      " iter: 200, loss: 1.380, acc: 0.657\n",
      "----iteration: 249\n",
      "入力：クの学習の研究や、学習に必要な計算機の能力向上、\n",
      "目標：の学習の研究や、学習に必要な計算機の能力向上、お\n",
      "予測：に理習さ理究や、多習さよ要など算機の理を向上の多 \n",
      "----\n",
      " iter: 400, loss: 0.831, acc: 0.652\n",
      "----iteration: 499\n",
      "入力：層学習登場以前、４層以上の深層ニューラルネットは\n",
      "目標：学習登場以前、４層以上の深層ニューラルネットは、\n",
      "予測：ニ習さ場以上、多層ニ上、発層ニューラルネットワ、 \n",
      "----\n",
      " iter: 700, loss: 0.786, acc: 0.643\n",
      "----iteration: 749\n",
      "入力：普及した。しかしながら、多層ニューラルネットが高\n",
      "目標：及した。しかしながら、多層ニューラルネットが高い\n",
      "予測：及し、。し、し、かられ多層ニューラルネットワらい \n",
      "----\n",
      " iter: 900, loss: 0.777, acc: 0.638\n",
      "----iteration: 999\n",
      "入力：および、Webの発達による訓練データ調達の容易化\n",
      "目標：よび、Webの発達による訓練データ調達の容易化に\n",
      "予測：よる、多ebの能達のよる。練デーラ調達の能易化に \n",
      "----\n",
      "\n",
      "CPU times: user 6.69 s, sys: 0 ns, total: 6.69 s\n",
      "Wall time: 6.68 s\n"
     ]
    }
   ],
   "source": [
    "%%time\n",
    "# バッチサイズ\n",
    "batch_size = 3\n",
    "# パラメータの初期化\n",
    "params, ms, vs = init_parameters(num_char, hidden_size)\n",
    "# ロス/精度を記録するための配列\n",
    "train_loss = []\n",
    "train_acc = []\n",
    "epoch = 1\n",
    "smooth_loss = -np.log(1.0/num_chars) # loss at iteration 0\n",
    "smooth_acc = 1/num_chars\n",
    "\n",
    "generator = gen_data(text, seq_length, batch_size)\n",
    "for iteration in range(1000):\n",
    "    inputs, targets, reset = generator.__next__()\n",
    "    # 順伝播\n",
    "    Y_hat, h, _loss = forward_propagation_train(inputs, targets, params)\n",
    "    # 逆伝播\n",
    "    grads = backward_propagation(params, inputs, h, Y_hat, targets)\n",
    "    # パラメータのアップデート\n",
    "    params = update_parameters(params, grads, ms, vs, iteration+1)\n",
    "\n",
    "    assert not np.isnan(_loss), 'nan in loss'\n",
    "    # accuracyとlossを記録\n",
    "    _acc = np.mean(np.argmax(Y_hat, axis=2)==np.argmax(targets, axis=2))\n",
    "    smooth_loss = smooth_loss * 0.9 + _loss * 0.1\n",
    "    smooth_acc = smooth_acc * 0.9 + _acc * 0.1\n",
    "    # ログをプリント\n",
    "    if iteration % 100 == 0:\n",
    "        print('\\r iter: {}, loss: {:.3f}, acc: {:.3f}'.format(iteration, \n",
    "                                                                 smooth_loss, smooth_acc), end='', flush=True)\n",
    "    if (iteration+1) % 250 == 0 or iteration==0:\n",
    "        txt_input = ''.join(ix2char[ix] for ix in np.argmax(inputs, -1)[0])\n",
    "        txt_target = ''.join(ix2char[ix] for ix in np.argmax(targets, -1)[0])\n",
    "        txt_pred = ''.join(ix2char[ix] for ix in np.argmax(Y_hat, 2)[0])\n",
    "        print('\\n----iteration: {}\\n入力：{}\\n目標：{}\\n予測：{} \\n----'.format(iteration, txt_input, \n",
    "                                                                       txt_target, txt_pred))\n",
    "    train_loss.append(smooth_loss)\n",
    "    train_acc.append(smooth_acc)\n",
    "print()"
   ]
  },
  {
   "cell_type": "markdown",
   "metadata": {},
   "source": [
    "### 学習データの精度とロスのプロット"
   ]
  },
  {
   "cell_type": "markdown",
   "metadata": {},
   "source": [
    "学習データの精度とロスをプロットしてみます。"
   ]
  },
  {
   "cell_type": "code",
   "execution_count": 33,
   "metadata": {
    "collapsed": false
   },
   "outputs": [
    {
     "data": {
      "text/plain": [
       "<matplotlib.text.Text at 0x7f3771433240>"
      ]
     },
     "execution_count": 33,
     "metadata": {},
     "output_type": "execute_result"
    },
    {
     "data": {
      "image/png": "[encoded data removed]",
      "text/plain": [
       "<matplotlib.figure.Figure at 0x7f37714d87f0>"
      ]
     },
     "metadata": {},
     "output_type": "display_data"
    }
   ],
   "source": [
    "plt.plot(train_loss)\n",
    "plt.xlabel('Iteration', fontsize=12)\n",
    "plt.ylabel('Loss', fontsize=12)"
   ]
  },
  {
   "cell_type": "code",
   "execution_count": 34,
   "metadata": {
    "collapsed": false
   },
   "outputs": [
    {
     "data": {
      "text/plain": [
       "<matplotlib.text.Text at 0x7f376f3cdb00>"
      ]
     },
     "execution_count": 34,
     "metadata": {},
     "output_type": "execute_result"
    },
    {
     "data": {
      "image/png": "[encoded data removed]",
      "text/plain": [
       "<matplotlib.figure.Figure at 0x7f37714d8e48>"
      ]
     },
     "metadata": {},
     "output_type": "display_data"
    }
   ],
   "source": [
    "plt.plot(train_acc)\n",
    "plt.xlabel('Iteration', fontsize=12)\n",
    "plt.ylabel('Accuracy', fontsize=12)"
   ]
  },
  {
   "cell_type": "markdown",
   "metadata": {},
   "source": [
    "### 順伝播（テスト時）"
   ]
  },
  {
   "cell_type": "markdown",
   "metadata": {},
   "source": [
    "この演習の内容だけでは高度な文字予測ができるモデルは残念ながらできません。なので、ここで新しい文章をモデルにいれても意味のある文章はかえってきません。しかし、テスト時のコードをせっかく書いたので、最後にもとの文章を`forward_propagation_test`に入れて結果を確認してみましょう。"
   ]
  },
  {
   "cell_type": "code",
   "execution_count": 35,
   "metadata": {
    "collapsed": false
   },
   "outputs": [
    {
     "name": "stdout",
     "output_type": "stream",
     "text": [
      "loss: 0.924, acc: 0.000\n",
      "ーーララルラュトまた。深層ニ習さは、多層ニ能ューラルネットワーラによっよの学習さ法をいる問し層ニ習さ場以上、多層ニ前、学層ニューラルネットワ、多所最適解や、配消失などの学術的など題によるた充分学習させられる、多能を芳し、なっした。深、った多年、多ンらワられよっよ層ニューラルネットワーラに学習さ学究や、多習さよ要なっ算機の学を向上、学よる、多ebの学達のよっよ練デーラ調達の学易化によるた充多分学習させられる機っによった。深の学果、多声・自像・自然言語を示しとはる。題によし、多の学法を示倒する。い性能を示し、多0年0年、によ及し、。深、ったっらに多層ニューラルネットワらい性能を示しるなの学論的などやは、んでいなっなし#\n"
     ]
    }
   ],
   "source": [
    "inputs = np.array([char2ix[ch] for ch in text])[:-1]\n",
    "targets = np.array([char2ix[ch] for ch in text])[1:]\n",
    "# to one-hot vector\n",
    "eye = np.eye(len(char2ix))\n",
    "inputs = eye[inputs]\n",
    "targets = eye[targets]\n",
    "inputs = np.expand_dims(inputs, 0)\n",
    "targets = np.expand_dims(targets, 0)\n",
    "Y_hat, loss = forward_propagation_test(inputs, targets, params)\n",
    "Y_hat = np.array(list(Y_hat.values())).transpose(1,0,2)[:,1:]\n",
    "\n",
    "acc = np.mean(np.argmax(Y_hat, axis=2)==np.argmax(targets, axis=2))\n",
    "# ログをプリント\n",
    "print('loss: {:.3f}, acc: {:.3f}'.format(np.mean(loss), np.mean(acc)))\n",
    "txt =''.join(ix2char[ix] for ix in np.argmax(Y_hat, -1)[0])\n",
    "print(txt)"
   ]
  },
  {
   "cell_type": "code",
   "execution_count": null,
   "metadata": {
    "collapsed": true
   },
   "outputs": [],
   "source": []
  },
  {
   "cell_type": "code",
   "execution_count": null,
   "metadata": {
    "collapsed": true
   },
   "outputs": [],
   "source": []
  }
 ],
 "metadata": {
  "anaconda-cloud": {},
  "kernelspec": {
   "display_name": "Python [default]",
   "language": "python",
   "name": "python3"
  },
  "language_info": {
   "codemirror_mode": {
    "name": "ipython",
    "version": 3
   },
   "file_extension": ".py",
   "mimetype": "text/x-python",
   "name": "python",
   "nbconvert_exporter": "python",
   "pygments_lexer": "ipython3",
   "version": "3.5.2"
  },
  "toc": {
   "nav_menu": {
    "height": "279px",
    "width": "252px"
   },
   "navigate_menu": true,
   "number_sections": true,
   "sideBar": true,
   "threshold": 4,
   "toc_cell": false,
   "toc_section_display": "block",
   "toc_window_display": false
  }
 },
 "nbformat": 4,
 "nbformat_minor": 2
}
