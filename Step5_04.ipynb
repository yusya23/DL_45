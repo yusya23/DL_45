{
 "cells": [
  {
   "cell_type": "markdown",
   "metadata": {},
   "source": [
    "# Step5 演習04 双方向RNN（Bidirectional RNN）\n",
    "---"
   ]
  },
  {
   "cell_type": "markdown",
   "metadata": {},
   "source": [
    "本演習では、手書き数字のMNISTを双方向RNNを用いて分類します。\n",
    "\n",
    "**はじめに**\n",
    "- for文やwhile文の利用は明示的な利用指示がない場所での利用は避けてください。\n",
    "\n",
    "**本演習の目的**\n",
    "- RNNをnumpyのみで実装する"
   ]
  },
  {
   "cell_type": "markdown",
   "metadata": {},
   "source": [
    "## ライブラリのインストール\n",
    "\n",
    "まずはじめに、本演習で利用するライブラリのインポートを行います。\n",
    "\n",
    "- [numpy](http://www.numpy.org) 数値計算を行うための基本パッケージの公式ドキュメント\n",
    "- [matplotlib](http://matplotlib.org) グラフ描画ライブラリの基本パッケージの公式ドキュメント\n",
    "- [tensorflow](https://www.tensorflow.org/) 機械学習用のライブラリの公式ドキュメント\n",
    "\n",
    "\n",
    "`%matplotlib inline` はnotebook上で使える[magic function](http://ipython.readthedocs.io/en/stable/interactive/magics.html)の一つで、これによりmatplotlibをインタラクティブに使うことできます。"
   ]
  },
  {
   "cell_type": "code",
   "execution_count": 1,
   "metadata": {
    "collapsed": true
   },
   "outputs": [],
   "source": [
    "import numpy as np\n",
    "%matplotlib inline \n",
    "import matplotlib.pyplot as plt\n",
    "from tensorflow.examples.tutorials.mnist import input_data"
   ]
  },
  {
   "cell_type": "markdown",
   "metadata": {},
   "source": [
    "## データセット\n",
    "いままでと同様の方法でMNISTを読み込みます。"
   ]
  },
  {
   "cell_type": "code",
   "execution_count": 2,
   "metadata": {
    "collapsed": false,
    "scrolled": true
   },
   "outputs": [
    {
     "name": "stdout",
     "output_type": "stream",
     "text": [
      "Extracting MNIST_data/train-images-idx3-ubyte.gz\n",
      "Extracting MNIST_data/train-labels-idx1-ubyte.gz\n",
      "Extracting MNIST_data/t10k-images-idx3-ubyte.gz\n",
      "Extracting MNIST_data/t10k-labels-idx1-ubyte.gz\n"
     ]
    }
   ],
   "source": [
    "# データの読み込み\n",
    "mnist = input_data.read_data_sets(\"MNIST_data/\", \n",
    "                                  one_hot=True, \n",
    "                                  validation_size=0)\n",
    "\n",
    "# データのシャッフル\n",
    "permutation = np.random.permutation(mnist.train._images.shape[0])\n",
    "mnist.train._images = mnist.train.images[permutation]\n",
    "mnist.train._labels = mnist.train.labels[permutation]\n",
    "\n",
    "#データの正規化\n",
    "mean = np.mean(mnist.train.images)\n",
    "std = np.std(mnist.train.images)\n",
    "mnist.train._images = (mnist.train.images-mean)/std\n",
    "mnist.test._images = (mnist.test.images-mean)/std\n",
    "\n",
    "# データの形を整える\n",
    "mnist.train._images = mnist.train._images.reshape(-1, 28, 28)\n",
    "mnist.test._images = mnist.test._images.reshape(-1, 28, 28)"
   ]
  },
  {
   "cell_type": "markdown",
   "metadata": {},
   "source": [
    "## モデルの構築"
   ]
  },
  {
   "cell_type": "markdown",
   "metadata": {},
   "source": [
    "この演習では、下図のようなモデルを学習させます。\n",
    "\n",
    "<img src=\"./img/step5_birnn.png\" width=\"360\" height=\"120\">\n",
    "\n",
    "入力はこれまでと同様にMNISTです。Step5 演習01では画像を上から順番に入れていき、最後の隠れ状態を使ってクラス分類しましが、ここでは、画像を上から入れていくRNN (forward)と画像を下から入れていくRNN (backward)の2つのRNNを使います。そして、それぞれの最後の隠れ状態を結合し、それを元にクラス分類します。"
   ]
  },
  {
   "cell_type": "markdown",
   "metadata": {},
   "source": [
    "### モデルパラメータの準備"
   ]
  },
  {
   "cell_type": "markdown",
   "metadata": {},
   "source": [
    "今回は下記のモデルパラメータを用います。隠れ層は100付近の値に設定します。"
   ]
  },
  {
   "cell_type": "code",
   "execution_count": 3,
   "metadata": {
    "collapsed": true
   },
   "outputs": [],
   "source": [
    "hidden_size = 100 # 隠れ層のサイズ\n",
    "image_size = 28 # 入力画像のサイズ\n",
    "class_num = 10 #　分類するカテゴリ数（0~9）"
   ]
  },
  {
   "cell_type": "markdown",
   "metadata": {},
   "source": [
    "### モデルの重みの初期化"
   ]
  },
  {
   "cell_type": "markdown",
   "metadata": {},
   "source": [
    "これまで同様にglorot_uniformでモデルパラメータを初期化します。ここでは、初期化関数を3つに分けて書きました。\n",
    "\n",
    "`glorot_uniform`はこれは引数として`shape`を受け取りそれを元にパラメータを生成します。\n",
    "\n",
    "`init_parameters`は2つのRNNのパラメータを初期化する際に使用します。これには最後の分類のためのパラメータは含みません。\n",
    "\n",
    "`init_parameters_output`は分類をする際に必要なパラメータを初期化する際に使用します。"
   ]
  },
  {
   "cell_type": "code",
   "execution_count": 4,
   "metadata": {
    "collapsed": true
   },
   "outputs": [],
   "source": [
    "def glorot_uniform(shape):\n",
    "    if len(shape) == 2:\n",
    "        fan_in, fan_out = shape\n",
    "        std = np.sqrt(6./(fan_in+fan_out))\n",
    "        return np.random.uniform(low=-std, high=std, size=(fan_in, fan_out))\n",
    "    else:\n",
    "        raise NotImplementedError()"
   ]
  },
  {
   "cell_type": "code",
   "execution_count": 5,
   "metadata": {
    "collapsed": true
   },
   "outputs": [],
   "source": [
    "def init_parameters(image_size, hidden_size, class_num):\n",
    "    #入力から隠れ層の重み\n",
    "    U = glorot_uniform((image_size, hidden_size))\n",
    "\n",
    "    #隠れ層から隠れ層の重み\n",
    "    W = glorot_uniform((hidden_size, hidden_size)) \n",
    "\n",
    "    # 隠れ層のバイアス\n",
    "    b = np.zeros((1, hidden_size))\n",
    "\n",
    "    # Adamを使用するにあたって必要なパラメータの初期化a\n",
    "    mU, mW = np.zeros_like(U), np.zeros_like(W)\n",
    "    mb = np.zeros_like(b)\n",
    "    vU, vW = np.zeros_like(U), np.zeros_like(W)\n",
    "    vb = np.zeros_like(b)\n",
    "        \n",
    "    # パラメータをタプルにまとめます。\n",
    "    params = (U, W, b)\n",
    "    ms = (mU, mW, mb)\n",
    "    vs = (vU, vW, vb)\n",
    "    return params, ms, vs"
   ]
  },
  {
   "cell_type": "code",
   "execution_count": 6,
   "metadata": {
    "collapsed": true
   },
   "outputs": [],
   "source": [
    "def init_parameters_output(image_size, hidden_size, class_num):\n",
    "    #隠れ層から出力層の重み\n",
    "    V = glorot_uniform((hidden_size*2, class_num)) \n",
    "\n",
    "    # 出力層のバイアス\n",
    "    c = np.zeros((1, class_num))\n",
    "\n",
    "    # Adamを使用するにあたって必要なパラメータの初期化\n",
    "    mV = np.zeros_like(V)\n",
    "    mc = np.zeros_like(c)\n",
    "    vV = np.zeros_like(V)\n",
    "    vc = np.zeros_like(c)\n",
    "    \n",
    "    # パラメータをタプルにまとめます。\n",
    "    params = (V, c)\n",
    "    ms = (mV, mc)\n",
    "    vs = (vV, vc)\n",
    "    return params, ms, vs"
   ]
  },
  {
   "cell_type": "markdown",
   "metadata": {},
   "source": [
    "### フォワードプロパゲーションの実装"
   ]
  },
  {
   "cell_type": "markdown",
   "metadata": {},
   "source": [
    "**【課題１】**　ここではBiRNNの順伝播を実装します。\n",
    "\n",
    "基本はこれまでの演習と同じですが、2つのRNNの出力を使ってクラス分類するのでここの箇所だけ少し異なります。\n",
    "\n",
    "`forward_propagation`3つの引数があります。\n",
    "- `X`: 入力画像（バッチサイズ、縦×横）\n",
    "- `params`: `init_parameters`で用意した重みとバイアス\n",
    "- `batch_size`: バッチサイズ\n",
    "\n",
    "この関数内では、\n",
    "- `params`は前向き、後ろ向き、出力層に必要なパラメータが格納されています。\n",
    "- `h_f`: 前向きの隠れ層の値を記録するために空の辞書を用意します。\n",
    "- `h_f[-1]`: フォワードプロパゲーションの１ステップに必要な値（ゼロ）をいれます。\n",
    "- `h_b`: 後ろ向きの隠れ層の値を記録するために空の辞書を用意します。\n",
    "- `h_b[28]`: フォワードプロパゲーションの１ステップに必要な値（ゼロ）をいれます。\n",
    "- 前向きの計算をするためにforループで画像の縦分（２８）回します。ループ内では毎回、入力画像の１行分を（$\\boldsymbol{x}^{(t)}$）としていれます。ここではまだ`X`は画像全体なので注意して扱ってください。\n",
    "- `a_f`: $$\\boldsymbol{a}^{(t)}=\\boldsymbol{b}+\\boldsymbol{h}^{(t-1)}\\boldsymbol{W}+\\boldsymbol{x}^{(t)}\\boldsymbol{U}$$を計算します。\n",
    "- `h_f[t]`: 隠れ状態を記録します。\n",
    "\n",
    "後ろ向きも同様に計算し、`h_concat`で前向きと後ろ向きの最後の隠れ状態を結合します。その後、出力層で、\n",
    "$$\n",
    "\\begin{eqnarray*}\n",
    "\\boldsymbol{o}&=&\\boldsymbol{c}+\\boldsymbol{hV}\\\\\n",
    "\\boldsymbol{\\hat{y}}&=&softmax(\\boldsymbol{o})\n",
    "\\end{eqnarray*}\n",
    "$$\n",
    "を計算し、最後にすべての隠れ状態を`h`に格納します。"
   ]
  },
  {
   "cell_type": "code",
   "execution_count": 7,
   "metadata": {
    "collapsed": true
   },
   "outputs": [],
   "source": [
    "#Coursedele-02 Step5 QuestionNumber10 546f2a2c5d1035d49738803969ad2c61\n",
    "def softmax(x, axis=1):\n",
    "    c = np.max(x)\n",
    "    exp_x = np.exp(x - c)\n",
    "    y = exp_x / np.sum(exp_x, axis=axis, keepdims=True) \n",
    "    return y\n",
    "\n",
    "def forward_propagation(X, params, batch_size):\n",
    "    U_f, W_f, b_f, U_b, W_b, b_b, V, c = params\n",
    "    h_f, h_b = {}, {}\n",
    "    h_f[-1] = np.zeros((batch_size, hidden_size))\n",
    "    h_b[28] = np.zeros((batch_size, hidden_size))\n",
    "    ###############START CODE HERE###############\n",
    "    # 前向き\n",
    "    for t in range(28):\n",
    "        a_f = b_f + np.dot(h_f[t-1], W_f) + np.dot(X[:, t], U_f)\n",
    "        h_f[t] = np.tanh(a_f)\n",
    "    \n",
    "    # 後ろ向き\n",
    "    # 後ろ向きなので時間をプラス方向に動かすことに気を付けて下さい。h_b[t+1]のようにします。\n",
    "    for t in reversed(range(28)):\n",
    "        a_b = b_b + np.dot(h_b[t+1], W_b) + np.dot(X[:,t], U_b)\n",
    "        h_b[t] = np.tanh(a_b)\n",
    "        \n",
    "    # 前向きの最後の隠れ状態（27番目）と後ろ向きの隠れ状態（0番目）を結合\n",
    "    h_concat = np.concatenate([h_f[27], h_b[0]], axis = 1)\n",
    "    \n",
    "    # 出力層\n",
    "    o = c + np.dot(h_concat, V)\n",
    "    # ソフトマックス関数\n",
    "    y_pred = softmax(o)\n",
    "    ################END CODE HERE################\n",
    "    h = (h_f, h_b, h_concat)\n",
    "    return y_pred, X, h"
   ]
  },
  {
   "cell_type": "markdown",
   "metadata": {},
   "source": [
    "** ファイルを保存後 **、次のセルを実行（Shift+Enter）で採点を行います。"
   ]
  },
  {
   "cell_type": "code",
   "execution_count": 32,
   "metadata": {
    "collapsed": false
   },
   "outputs": [
    {
     "name": "stdout",
     "output_type": "stream",
     "text": [
      "Congratulations!\n",
      "We give you 10 points out of 10 points.\n",
      "\n"
     ]
    }
   ],
   "source": [
    "%%bash\n",
    "./validation_client.py dele-02 5 10 Step5_04.ipynb api.internal.zero2one.jp"
   ]
  },
  {
   "cell_type": "markdown",
   "metadata": {},
   "source": [
    "### コスト関数の計算"
   ]
  },
  {
   "cell_type": "markdown",
   "metadata": {},
   "source": [
    "**【課題２】**　ここではコスト関数を実装します。この課題はStep5 演習01と同じです。\n",
    "\n",
    "コスト関数には交差エントロピーを使います。\n",
    "$$\n",
    "cost = - \\frac{1}{m}\\sum_x y(x) \\log{\\hat{y}(x)}\n",
    "$$"
   ]
  },
  {
   "cell_type": "code",
   "execution_count": 8,
   "metadata": {
    "collapsed": true
   },
   "outputs": [],
   "source": [
    "#Coursedele-02 Step5 QuestionNumber11 5d08ef1f874d5815b269ea181a74adc9\n",
    "def compute_cost(y_pred, targets, batch_size):\n",
    "    ###############START CODE HERE###############\n",
    "    loss = -np.sum(np.log(y_pred) * targets) / float(batch_size)\n",
    "    ################END CODE HERE################\n",
    "    return loss"
   ]
  },
  {
   "cell_type": "markdown",
   "metadata": {},
   "source": [
    "** ファイルを保存後 **、次のセルを実行（Shift+Enter）で採点を行います。"
   ]
  },
  {
   "cell_type": "code",
   "execution_count": 14,
   "metadata": {
    "collapsed": false
   },
   "outputs": [
    {
     "name": "stdout",
     "output_type": "stream",
     "text": [
      "Congratulations!\n",
      "We give you 10 points out of 10 points.\n",
      "\n"
     ]
    }
   ],
   "source": [
    "%%bash\n",
    "./validation_client.py dele-02 5 11 Step5_04.ipynb api.internal.zero2one.jp"
   ]
  },
  {
   "cell_type": "markdown",
   "metadata": {},
   "source": [
    "### バックプロパゲーションの実装"
   ]
  },
  {
   "cell_type": "markdown",
   "metadata": {},
   "source": [
    "**【課題３】**　ここではBiRNNのBPTTを実装します。\n",
    "\n",
    "過去の演習で書いてきたコードを参考にすればそんなに難しくないはずです。ただ、これまでと少し異なるのは、`delta_h_concat`です。順伝播では`h_f`と`h_b`を結合したものが`h_concat`でした。なので、逆伝播では`delta_h_concat`を`delta_h_f`と`delta_h_b`に分離する必要があります。"
   ]
  },
  {
   "cell_type": "code",
   "execution_count": 9,
   "metadata": {
    "collapsed": true
   },
   "outputs": [],
   "source": [
    "#Coursedele-02 Step5 QuestionNumber12 4b1cb4371e3419be0e7670a372cad498\n",
    "def backward_propagation(params, X, h, y_pred, targets):\n",
    "    U_f, W_f, b_f, U_b, W_b, b_b, V, c = params\n",
    "    batch_size = X.shape[0]\n",
    "    h_f, h_b, h_concat = h\n",
    "\n",
    "    delta_U_f, delta_W_f = np.zeros_like(U_f), np.zeros_like(W_f)\n",
    "    delta_U_b, delta_W_b = np.zeros_like(U_b), np.zeros_like(W_b)\n",
    "    delta_b_f, delta_b_b = np.zeros_like(b_f), np.zeros_like(b_b)\n",
    "    \n",
    "    # 出力層の逆伝播\n",
    "    ###############START CODE HERE###############\n",
    "    delta_o = (y_pred - targets) / float(batch_size)\n",
    "    delta_V = np.dot(h_concat.T, delta_o)\n",
    "    delta_c = np.sum(delta_o, axis = 0)\n",
    "    delta_h_concat = np.dot(delta_o, V.T)\n",
    "    ################END CODE HERE################\n",
    "    \n",
    "    # 前向きの逆伝播\n",
    "    delta_h_next = np.zeros_like(h_f)\n",
    "    for t in reversed(range(28)):\n",
    "        ###############START CODE HERE###############\n",
    "        if t == 27:\n",
    "            # delta_h_concatの前半（0~99）まで使用、スライスの位置に注意\n",
    "            delta_h_f = delta_h_concat[:, :100]\n",
    "        else:\n",
    "            delta_h_f = delta_h_next\n",
    "        # tanhの逆伝播\n",
    "        delta_a = (1 - h_f[t] * h_f[t]) * delta_h_f\n",
    "        delta_b_f += np.sum(delta_a, axis = 0)\n",
    "        delta_U_f +=np.dot(X[:, t].T, delta_a)\n",
    "        delta_W_f +=np.dot(h_f[t-1].T, delta_a)\n",
    "        delta_h_next =np.dot(delta_a, W_f.T)\n",
    "        ################END CODE HERE################\n",
    "        \n",
    "    # 後ろ向きの逆伝播\n",
    "    delta_h_next = np.zeros_like(h_b)\n",
    "    for t in range(28):\n",
    "        ###############START CODE HERE###############\n",
    "        if t == 0:\n",
    "            # delta_h_concatの後半（100~199）まで使用、スライスの位置に注意\n",
    "            delta_h_b = delta_h_concat[:, 100:]\n",
    "        else:\n",
    "            delta_h_b =delta_h_next\n",
    "        delta_a = (1 - h_b[t] * h_b[t]) * delta_h_b\n",
    "        delta_b_b += np.sum(delta_a, axis = 0)\n",
    "        delta_U_b += np.dot(X[:, t].T, delta_a)\n",
    "        delta_W_b += np.dot(h_b[t + 1].T, delta_a)\n",
    "        delta_h_next =np.dot(delta_a, W_b.T)\n",
    "        ################END CODE HERE################\n",
    "        \n",
    "    grads_f = (delta_U_f, delta_W_f, delta_b_f)\n",
    "    grads_b = (delta_U_b, delta_W_b, delta_b_b)\n",
    "    grads_o = (delta_V, delta_c)\n",
    "    grads = grads_f + grads_b + grads_o\n",
    "    # 勾配をクリッピング\n",
    "    for g in grads:\n",
    "        np.clip(g, -1, 1, out=g)\n",
    "    return grads"
   ]
  },
  {
   "cell_type": "markdown",
   "metadata": {},
   "source": [
    "** ファイルを保存後 **、次のセルを実行（Shift+Enter）で採点を行います。"
   ]
  },
  {
   "cell_type": "code",
   "execution_count": 10,
   "metadata": {
    "collapsed": false
   },
   "outputs": [
    {
     "name": "stdout",
     "output_type": "stream",
     "text": [
      "Congratulations!\n",
      "We give you 10 points out of 10 points.\n",
      "\n"
     ]
    }
   ],
   "source": [
    "%%bash\n",
    "./validation_client.py dele-02 5 12 Step5_04.ipynb api.internal.zero2one.jp"
   ]
  },
  {
   "cell_type": "markdown",
   "metadata": {},
   "source": [
    "### パラメータの更新"
   ]
  },
  {
   "cell_type": "markdown",
   "metadata": {},
   "source": [
    "**【課題４】**　ADAMを実装します。この課題はStep5 演習01と全く同じです。\n",
    "\n",
    "\n",
    "ここでは[ADAM](https://arxiv.org/pdf/1412.6980.pdf)でパラメータを更新します。\n",
    "$$\n",
    "\\begin{eqnarray*}\n",
    "\\boldsymbol{m}_t &=& \\beta_1 \\boldsymbol{m}_{(t-1)} + (1-\\beta_1)\\boldsymbol{g}_t\\\\\n",
    "\\boldsymbol{v}_t &=& \\beta_2 \\boldsymbol{v}_{(t-1)} + (1-\\beta_2)\\boldsymbol{g}_t^2\\\\\n",
    "\\boldsymbol{\\hat{m}}_t &=& \\frac{\\boldsymbol{m}_t}{(1-\\beta_1^t)}\\\\\n",
    "\\boldsymbol{\\hat{v}}_t &=& \\frac{\\boldsymbol{v}_t}{(1-\\beta_2^t)}\\\\\n",
    "\\boldsymbol{p}_t &=& \\boldsymbol{p}_{(t-1)} - \\alpha \\frac{\\boldsymbol{\\hat{m}_t}}{\\sqrt{\\boldsymbol{\\hat{v}}_t}+\\epsilon}\n",
    "\\end{eqnarray*}\n",
    "$$\n",
    "\n",
    "`update_parameters`は5つの引数があります。\n",
    "- `params`: 重みとバイアス\n",
    "- `grads`: 勾配\n",
    "- `ms`, `vs`: ADAMを使って必要な値\n",
    "- `iteration`: 現在のステップ数（ADAMのbias correction）"
   ]
  },
  {
   "cell_type": "code",
   "execution_count": 11,
   "metadata": {
    "collapsed": true
   },
   "outputs": [],
   "source": [
    "#Coursedele-02 Step5 QuestionNumber13 ae522082d3884a17e8b1885d3b2351f5\n",
    "def update_parameters(params, grads, ms, vs, iteration):\n",
    "    alpha = 0.001\n",
    "    beta1 = 0.9\n",
    "    beta2 = 0.999\n",
    "    eps = 1e-8\n",
    "    for num in range(len(params)):\n",
    "        p, g, m, v = params[num], grads[num], ms[num], vs[num]\n",
    "        ###############START CODE HERE###############\n",
    "        # Adam\n",
    "        m_t = beta1 * m + (1 - beta1) * g\n",
    "        v_t = beta2 * v + (1 - beta2) * g * g\n",
    "        m_t_hat = m_t / (1 - np.power(beta1, iteration))\n",
    "        v_t_hat = v_t / (1 - np.power(beta2, iteration))\n",
    "        params[num][:] = p - alpha * m_t_hat / (np.sqrt(v_t_hat) + eps)\n",
    "        ################END CODE HERE################\n",
    "        ms[num][:] = m_t\n",
    "        vs[num][:] = v_t\n",
    "    return params"
   ]
  },
  {
   "cell_type": "markdown",
   "metadata": {},
   "source": [
    "** ファイルを保存後 **、次のセルを実行（Shift+Enter）で採点を行います。"
   ]
  },
  {
   "cell_type": "code",
   "execution_count": 18,
   "metadata": {
    "collapsed": false
   },
   "outputs": [
    {
     "name": "stdout",
     "output_type": "stream",
     "text": [
      "Congratulations!\n",
      "We give you 10 points out of 10 points.\n",
      "\n"
     ]
    }
   ],
   "source": [
    "%%bash\n",
    "./validation_client.py dele-02 5 13 Step5_04.ipynb api.internal.zero2one.jp"
   ]
  },
  {
   "cell_type": "markdown",
   "metadata": {},
   "source": [
    "## BiRNNの学習"
   ]
  },
  {
   "cell_type": "markdown",
   "metadata": {},
   "source": [
    "### BiRNNの学習\n",
    "作成したBiRNNをデータセットで学習させます。ここでは3エポックのみ学習させますが、通常のRNNよりもBiRNNの方が性能がいいはずです。"
   ]
  },
  {
   "cell_type": "code",
   "execution_count": 12,
   "metadata": {
    "collapsed": false
   },
   "outputs": [
    {
     "name": "stdout",
     "output_type": "stream",
     "text": [
      " \t iter: 230, loss: 0.240, acc: 0.924\n",
      "0: epoch, loss: 0.557, acc: 0.828\n",
      "CPU times: user 43.7 s, sys: 17.2 s, total: 1min\n",
      "Wall time: 35.4 s\n"
     ]
    }
   ],
   "source": [
    "%%time\n",
    "# バッチサイズ\n",
    "batch_size = 250\n",
    "# １エポックあたりのステップ数\n",
    "total_step_train = int(len(mnist.train.labels)/batch_size)\n",
    "# パラメータの初期化\n",
    "params_f, ms_f, vs_f = init_parameters(image_size, hidden_size, class_num)\n",
    "params_b, ms_b, vs_b = init_parameters(image_size, hidden_size, class_num)\n",
    "params_o, ms_o, vs_o = init_parameters_output(image_size, hidden_size, class_num)\n",
    "params = params_f + params_b + params_o\n",
    "ms = ms_f + ms_b + ms_o\n",
    "vs = vs_f + vs_b + vs_o\n",
    "\n",
    "# ロス/精度を記録するための配列\n",
    "train_loss = []\n",
    "train_acc = []\n",
    "for epoch in range(1):\n",
    "    for iteration in range(total_step_train):\n",
    "        inputs, targets = mnist.train.next_batch(batch_size, shuffle=False)\n",
    "        # 順伝播\n",
    "        y_pred, X, h = forward_propagation(inputs, params, batch_size)\n",
    "        # コスト関数\n",
    "        _loss = compute_cost(y_pred, targets, batch_size)\n",
    "        # 逆伝播\n",
    "        grads = backward_propagation(params, X, h, y_pred, targets)\n",
    "        # パラメータのアップデート\n",
    "        params = update_parameters(params, grads, ms, vs, \n",
    "                                   total_step_train*epoch+iteration+1)\n",
    "        \n",
    "        assert not np.isnan(_loss), 'nan in loss'\n",
    "        # accuracyとlossを記録\n",
    "        _acc = np.mean(np.argmax(y_pred, axis=1)==np.argmax(targets, axis=1))\n",
    "        # ログをプリント\n",
    "        if iteration % 10 == 0:\n",
    "            print('\\r \\t iter: {}, loss: {:.3f}, acc: {:.3f}'.format(iteration, _loss, _acc), end='')\n",
    "        train_loss.append(_loss)\n",
    "        train_acc.append(_acc)\n",
    "    print('\\n{}: epoch, loss: {:.3f}, acc: {:.3f}'.format(epoch, \n",
    "                                                          np.mean(train_loss[total_step_train*epoch:]), \n",
    "                                                          np.mean(train_acc[total_step_train*epoch:])))"
   ]
  },
  {
   "cell_type": "markdown",
   "metadata": {},
   "source": [
    "### 学習データの精度とロスのプロット"
   ]
  },
  {
   "cell_type": "markdown",
   "metadata": {},
   "source": [
    "学習データの精度とロスをプロットしてみます。"
   ]
  },
  {
   "cell_type": "code",
   "execution_count": 13,
   "metadata": {
    "collapsed": false
   },
   "outputs": [
    {
     "data": {
      "text/plain": [
       "<matplotlib.text.Text at 0x7f9748853748>"
      ]
     },
     "execution_count": 13,
     "metadata": {},
     "output_type": "execute_result"
    },
    {
     "data": {
      "image/png": "[encoded data removed]",
      "text/plain": [
       "<matplotlib.figure.Figure at 0x7f9749526780>"
      ]
     },
     "metadata": {},
     "output_type": "display_data"
    }
   ],
   "source": [
    "plt.plot(train_loss)\n",
    "plt.xlabel('Iteration', fontsize=12)\n",
    "plt.ylabel('Loss', fontsize=12)"
   ]
  },
  {
   "cell_type": "code",
   "execution_count": 14,
   "metadata": {
    "collapsed": false
   },
   "outputs": [
    {
     "data": {
      "text/plain": [
       "<matplotlib.text.Text at 0x7f97487f4198>"
      ]
     },
     "execution_count": 14,
     "metadata": {},
     "output_type": "execute_result"
    },
    {
     "data": {
      "image/png": "[encoded data removed]",
      "text/plain": [
       "<matplotlib.figure.Figure at 0x7f9749526860>"
      ]
     },
     "metadata": {},
     "output_type": "display_data"
    }
   ],
   "source": [
    "plt.plot(train_acc)\n",
    "plt.xlabel('Iteration', fontsize=12)\n",
    "plt.ylabel('Accuracy', fontsize=12)"
   ]
  },
  {
   "cell_type": "markdown",
   "metadata": {},
   "source": [
    "### テストデータの精度とロスの計算"
   ]
  },
  {
   "cell_type": "markdown",
   "metadata": {},
   "source": [
    "最後にテストデータの精度とロスを計算してみます。"
   ]
  },
  {
   "cell_type": "code",
   "execution_count": 15,
   "metadata": {
    "collapsed": false,
    "scrolled": true
   },
   "outputs": [
    {
     "name": "stdout",
     "output_type": "stream",
     "text": [
      "loss: 0.188, acc: 0.944\n"
     ]
    }
   ],
   "source": [
    "test_loss = []\n",
    "test_acc = []\n",
    "inputs = mnist.test.images\n",
    "targets = mnist.test.labels\n",
    "batch_size = len(inputs)\n",
    "y_pred, x, h = forward_propagation(inputs, params, batch_size)\n",
    "# コスト関数\n",
    "_loss = compute_cost(y_pred, targets, batch_size)\n",
    "\n",
    "_acc = np.mean(np.argmax(y_pred, axis=1)==np.argmax(targets, axis=1))\n",
    "test_loss.append(_loss)\n",
    "test_acc.append(_acc)\n",
    "# ログをプリント\n",
    "print('loss: {:.3f}, acc: {:.3f}'.format(np.mean(test_loss), np.mean(test_acc)))"
   ]
  },
  {
   "cell_type": "code",
   "execution_count": null,
   "metadata": {
    "collapsed": true
   },
   "outputs": [],
   "source": []
  }
 ],
 "metadata": {
  "anaconda-cloud": {},
  "kernelspec": {
   "display_name": "Python [default]",
   "language": "python",
   "name": "python3"
  },
  "language_info": {
   "codemirror_mode": {
    "name": "ipython",
    "version": 3
   },
   "file_extension": ".py",
   "mimetype": "text/x-python",
   "name": "python",
   "nbconvert_exporter": "python",
   "pygments_lexer": "ipython3",
   "version": "3.5.2"
  },
  "toc": {
   "nav_menu": {
    "height": "279px",
    "width": "252px"
   },
   "navigate_menu": true,
   "number_sections": true,
   "sideBar": true,
   "threshold": 4,
   "toc_cell": false,
   "toc_section_display": "block",
   "toc_window_display": true
  }
 },
 "nbformat": 4,
 "nbformat_minor": 2
}
