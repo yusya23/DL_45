{
 "cells": [
  {
   "cell_type": "markdown",
   "metadata": {},
   "source": [
    "# Step5 演習05 Sequence-to-Sequenceモデル\n",
    "---"
   ]
  },
  {
   "cell_type": "markdown",
   "metadata": {},
   "source": [
    "本演習では、Sequence-to-Sequenceモデルをスクラッチで実装し、足し算を答えるモデルを作成します。\n",
    "\n",
    "**はじめに**\n",
    "- for文やwhile文の利用は明示的な利用指示がない場所での利用は避けてください。\n",
    "\n",
    "**本演習の目的**\n",
    "- Sequence-to-Sequenceモデルをnumpyのみで実装する"
   ]
  },
  {
   "cell_type": "markdown",
   "metadata": {},
   "source": [
    "## ライブラリのインストール\n",
    "\n",
    "まずはじめに、本演習で利用するライブラリのインポートを行います。\n",
    "\n",
    "- [numpy](http://www.numpy.org) 数値計算を行うための基本パッケージの公式ドキュメント\n",
    "- [matplotlib](http://matplotlib.org) グラフ描画ライブラリの基本パッケージの公式ドキュメント\n",
    "\n",
    "\n",
    "`%matplotlib inline` はnotebook上で使える[magic function](http://ipython.readthedocs.io/en/stable/interactive/magics.html)の一つで、これによりmatplotlibをインタラクティブに使うことできます。"
   ]
  },
  {
   "cell_type": "code",
   "execution_count": 1,
   "metadata": {
    "collapsed": true
   },
   "outputs": [],
   "source": [
    "import numpy as np\n",
    "%matplotlib inline \n",
    "import matplotlib.pyplot as plt"
   ]
  },
  {
   "cell_type": "markdown",
   "metadata": {},
   "source": [
    "## データセット"
   ]
  },
  {
   "cell_type": "markdown",
   "metadata": {},
   "source": [
    "**【課題１】**　ここでは、任意の桁数が与えられた時に、その桁数以下のランダムな数字（整数）を返す関数を実装します。\n",
    "\n",
    "まずは簡単な課題からです。`get_number`は`digits`(桁）が引数としてあります。この関数内で`out`が最小０、最大`digits`桁のランダムな数字を取るように実装してください。例えばdigits=3の場合`out`は0~999の間の数字となります。"
   ]
  },
  {
   "cell_type": "code",
   "execution_count": 2,
   "metadata": {
    "collapsed": true
   },
   "outputs": [],
   "source": [
    "#Coursedele-02 Step5 QuestionNumber14 405ee191fa975579113371fb2d1eccb0\n",
    "def get_number(digits):\n",
    "    ###############START CODE HERE###############\n",
    "    out = np.random.randint(0, 10 ** digits)\n",
    "    ################END CODE HERE################\n",
    "    return out"
   ]
  },
  {
   "cell_type": "markdown",
   "metadata": {},
   "source": [
    "** ファイルを保存後 **、次のセルを実行（Shift+Enter）で採点を行います。"
   ]
  },
  {
   "cell_type": "code",
   "execution_count": 3,
   "metadata": {
    "collapsed": false
   },
   "outputs": [
    {
     "name": "stdout",
     "output_type": "stream",
     "text": [
      "Congratulations!\n",
      "We give you 10 points out of 10 points.\n",
      "\n"
     ]
    }
   ],
   "source": [
    "%%bash\n",
    "./validation_client.py dele-02 5 14 Step5_05.ipynb api.internal.zero2one.jp"
   ]
  },
  {
   "cell_type": "code",
   "execution_count": 4,
   "metadata": {
    "collapsed": false
   },
   "outputs": [
    {
     "data": {
      "text/plain": [
       "815"
      ]
     },
     "execution_count": 4,
     "metadata": {},
     "output_type": "execute_result"
    }
   ],
   "source": [
    "np.random.seed(1234)\n",
    "digits_ = 3\n",
    "get_number(digits_)"
   ]
  },
  {
   "cell_type": "markdown",
   "metadata": {},
   "source": [
    "**Expected Output**: \n",
    "<table style = \"width:40%\">\n",
    "    <tr>\n",
    "    <td>** get\\_number(digits_) **</td> \n",
    "        <td>815</td> \n",
    "    </tr>\n",
    "\n",
    "</table>"
   ]
  },
  {
   "cell_type": "markdown",
   "metadata": {},
   "source": [
    "**【課題２】** 入力と出力の長さを揃えるための関数を実装します。\n",
    "\n",
    "ここでは、数字を文字列に変換して、RNNの入出力とします。例えば入力が\"23+100\"の時出力は\"123\"となります。RNNの入出力のサイズは可変なのですが、ミニバッチを使って効率よく学習する場合はサイズを固定するのが一般的です。そこで、入力サイズと出力サイズを固定します。この演習では最大3桁の数字の扱うので、入力サイズは最大\"7\"(eg.100+100)、出力サイズは最大\"4\"(eg.1000)となるので、すべてこのサイズになるように調整します。\n",
    "\n",
    "関数`def padding`は2つの引数があります。\n",
    "- x: 入力文字列（eg.'100+100', 1000)\n",
    "- length: 固定するサイズ\n",
    "\n",
    "この関数内では、入力文字列のサイズが固定するサイズ未満の時は文字列の最後に半角スペース' 'を追加します。"
   ]
  },
  {
   "cell_type": "code",
   "execution_count": 5,
   "metadata": {
    "collapsed": true
   },
   "outputs": [],
   "source": [
    "#Coursedele-02 Step5 QuestionNumber15 0f1bdb874e36aa8f2cb821fd143bc096\n",
    "def padding(x, length):\n",
    "    ###############START CODE HERE###############\n",
    "    out = x + ' ' * (length - len(x))\n",
    "    ################END CODE HERE################\n",
    "    return out"
   ]
  },
  {
   "cell_type": "markdown",
   "metadata": {},
   "source": [
    "** ファイルを保存後 **、次のセルを実行（Shift+Enter）で採点を行います。"
   ]
  },
  {
   "cell_type": "code",
   "execution_count": 6,
   "metadata": {
    "collapsed": false
   },
   "outputs": [
    {
     "name": "stdout",
     "output_type": "stream",
     "text": [
      "Congratulations!\n",
      "We give you 10 points out of 10 points.\n",
      "\n"
     ]
    }
   ],
   "source": [
    "%%bash\n",
    "./validation_client.py dele-02 5 15 Step5_05.ipynb api.internal.zero2one.jp"
   ]
  },
  {
   "cell_type": "code",
   "execution_count": 7,
   "metadata": {
    "collapsed": false
   },
   "outputs": [
    {
     "name": "stdout",
     "output_type": "stream",
     "text": [
      "23+100 \n",
      "123 \n"
     ]
    }
   ],
   "source": [
    "tin = '23+100'\n",
    "tout = '123'\n",
    "print(padding(tin, 7))\n",
    "print(padding(tout, 4))"
   ]
  },
  {
   "cell_type": "markdown",
   "metadata": {},
   "source": [
    "**Expected Output**: \n",
    "<table style = \"width:40%\">\n",
    "    <tr>\n",
    "    <td>** print(padding(tin, 7)) **</td> \n",
    "     <td>23+100&nbsp;</td> \n",
    "    </tr>\n",
    "        <tr>\n",
    "    <td>** print(padding(tout, 4))**</td> \n",
    "     <td>120&nbsp;</td> \n",
    "    </tr>\n",
    "</table>\n",
    "\n",
    "※入力文字列のサイズが固定するサイズ未満のときは文字列の最後に半角スペース' 'が追加されていることに注意してください。"
   ]
  },
  {
   "cell_type": "markdown",
   "metadata": {},
   "source": [
    "教師強制の時と同様に文字列のままだとRNNは扱えないので数値化する必要があります。そこで教師強制時と同様に文字列を数値化する辞書と、数値から文字列に変換する辞書を作成します。"
   ]
  },
  {
   "cell_type": "code",
   "execution_count": 8,
   "metadata": {
    "collapsed": true
   },
   "outputs": [],
   "source": [
    "# この演習で扱う12文字\n",
    "chars = '0123456789+ '\n",
    "char2ix = {ch:i for i,ch in enumerate(chars)}\n",
    "ix2char = {i:ch for i,ch in enumerate(chars)}"
   ]
  },
  {
   "cell_type": "markdown",
   "metadata": {},
   "source": [
    "以上の関数を使ってデータセットをまず作成します。"
   ]
  },
  {
   "cell_type": "code",
   "execution_count": 9,
   "metadata": {
    "collapsed": true
   },
   "outputs": [],
   "source": [
    "def get_dataset(data_size):\n",
    "    # データセットの配列を作成\n",
    "    X = np.zeros((data_size, 7, 12))\n",
    "    Y = np.zeros((data_size, 4, 12))\n",
    "    for i in range(data_size):\n",
    "        # 最大3桁の2つの数字を生成\n",
    "        a, b = get_number(3), get_number(3)\n",
    "        # 入力データの生成\n",
    "        text_in = '{}+{}'.format(a, b)\n",
    "        # 出力データの生成\n",
    "        text_out = str(a+b)\n",
    "        # サイズを揃える\n",
    "        text_in = padding(text_in, 7)\n",
    "        text_out = padding(text_out, 4)\n",
    "        # 文字列を数値化して、更にone-hotベクトル化\n",
    "        for j, ch_in  in enumerate(text_in):\n",
    "            X[i, j, char2ix[ch_in]] = 1\n",
    "        for j, ch_out in enumerate(text_out):\n",
    "            Y[i, j, char2ix[ch_out]] = 1\n",
    "    return X, Y"
   ]
  },
  {
   "cell_type": "code",
   "execution_count": 10,
   "metadata": {
    "collapsed": true
   },
   "outputs": [],
   "source": [
    "data_size = 15000\n",
    "X, Y = get_dataset(data_size)\n",
    "train_split = int(data_size*0.8)\n",
    "X_train, Y_train = X[:train_split], Y[:train_split]\n",
    "X_test, Y_test = X[train_split:], Y[train_split:]"
   ]
  },
  {
   "cell_type": "markdown",
   "metadata": {},
   "source": [
    "形を確認すると、このようになっています。"
   ]
  },
  {
   "cell_type": "code",
   "execution_count": 11,
   "metadata": {
    "collapsed": false,
    "scrolled": true
   },
   "outputs": [
    {
     "data": {
      "text/plain": [
       "((12000, 7, 12), (12000, 4, 12))"
      ]
     },
     "execution_count": 11,
     "metadata": {},
     "output_type": "execute_result"
    }
   ],
   "source": [
    "X_train.shape, Y_train.shape"
   ]
  },
  {
   "cell_type": "markdown",
   "metadata": {},
   "source": [
    "## エンコーダとデコーダの実装"
   ]
  },
  {
   "cell_type": "markdown",
   "metadata": {},
   "source": [
    "いつものようにglorot_uniformで重みを初期化します。"
   ]
  },
  {
   "cell_type": "code",
   "execution_count": 12,
   "metadata": {
    "collapsed": true
   },
   "outputs": [],
   "source": [
    "def glorot_uniform(shape, seed=None):\n",
    "    np.random.seed(seed=seed)\n",
    "    if len(shape) == 2:\n",
    "        fan_in, fan_out = shape\n",
    "        std = np.sqrt(6./(fan_in+fan_out))\n",
    "        return np.random.uniform(low=-std, high=std, size=(fan_in, fan_out))\n",
    "    else:\n",
    "        raise NotImplementedError()"
   ]
  },
  {
   "cell_type": "markdown",
   "metadata": {},
   "source": [
    "### エンコーダの実装"
   ]
  },
  {
   "cell_type": "markdown",
   "metadata": {},
   "source": [
    "**【課題３】**　ここではエンコーダの順伝播と逆伝播の実装をします。\n",
    "\n",
    "これらはStep5_01の時の順伝播とほとんど同じです。違いは出力が隠れ状態なだけです。図にすると以下のようになります。\n",
    "\n",
    "<img src=\"./img/step5_enc_fw.png\" width=\"360\" height=\"120\">\n",
    "\n",
    "** フォワードプロパゲーション **\n",
    "$$\n",
    "\\begin{eqnarray}\n",
    "\\boldsymbol{a}{(t)}&=&\\boldsymbol{b}+\\boldsymbol{h}{(t-1)}\\boldsymbol{W}+\\boldsymbol{x}{(t)}\\boldsymbol{U}\\\\\n",
    "\\boldsymbol{h}{(t)}&=&tanh(\\boldsymbol{a}{(t)})\\\\\n",
    "\\end{eqnarray}\n",
    "$$\n",
    "\n",
    "逆伝播に関してもStep5_01の実装を参考にしてください。\n",
    "\n",
    "\n",
    "**def \\__init\\__(self, in_size, out_size):**\n",
    "\n",
    "このメソッドは引数として、\n",
    "\n",
    "`in_size`: 入力データに存在する文字数（=len(chars))\n",
    "`out_size`: 隠れ層のユニット数\n",
    "\n",
    "があります。そしてこのメソッド内では扱うパラメータの初期化を行います。\n",
    "\n",
    "**def forward(self, X):**\n",
    "\n",
    "このメソッドは引数として、\n",
    "\n",
    "`X`: 入力データ（ミニバッチ次元、データ長、文字数）\n",
    "\n",
    "があります。\n",
    "\n",
    "**def backward(self, dX):**\n",
    "\n",
    "このメソッドは引数として、\n",
    "\n",
    "`dX`: 入力データ（ミニバッチ次元、隠れ層のユニット数）\n",
    "\n",
    "があります。"
   ]
  },
  {
   "cell_type": "code",
   "execution_count": 13,
   "metadata": {
    "collapsed": false
   },
   "outputs": [],
   "source": [
    "#Coursedele-02 Step5 QuestionNumber16 0461beae7a86995941e7e232be898977\n",
    "class Encoder():\n",
    "    def __init__(self, in_size, out_size):\n",
    "        self.U = glorot_uniform((in_size, out_size))\n",
    "        self.W = glorot_uniform((out_size, out_size))\n",
    "        self.b = np.zeros((1, out_size))\n",
    "        self.params = [self.U, self.W, self.b]\n",
    "\n",
    "    def forward(self, X):\n",
    "        self.X = X\n",
    "        self.h = {}\n",
    "        # ミニバッチサイズとデータ長を取得\n",
    "        batch_size, char_len = X.shape[:2]\n",
    "        # t=-1の隠れ状態をゼロで初期化\n",
    "        self.h[-1] = np.zeros((batch_size, self.W.shape[0]))\n",
    "        for t in range(char_len):\n",
    "            ###############START CODE HERE###############\n",
    "            a = self.b + np.dot(self.h[t - 1], self.W) + np.dot(self.X[:, t], self.U)\n",
    "            self.h[t] = np.tanh(a)\n",
    "            ################END CODE HERE################\n",
    "        return self.h[t]\n",
    "\n",
    "    def backward(self, dX):\n",
    "        # データ長を取得\n",
    "        char_len = len(self.h)-1\n",
    "        # 勾配を初期化\n",
    "        delta_U, delta_W = np.zeros_like(self.U), np.zeros_like(self.W)\n",
    "        delta_b = np.zeros_like(self.b)\n",
    "        delta_h_next = dX\n",
    "        for t in reversed(range(char_len)):\n",
    "            delta_h = delta_h_next\n",
    "            ###############START CODE HERE###############\n",
    "            delta_a =  (1 - self.h[t] * self.h[t]) * delta_h\n",
    "            delta_b += np.sum(delta_a, axis = 0)\n",
    "            delta_U += np.dot(self.X[:, t].T, delta_a)\n",
    "            delta_W += np.dot(self.h[t-1].T, delta_a)\n",
    "            delta_h_next = np.dot(delta_a, self.W.T)\n",
    "            ################END CODE HERE################\n",
    "        return delta_h_next, [delta_U, delta_W, delta_b]"
   ]
  },
  {
   "cell_type": "markdown",
   "metadata": {},
   "source": [
    "** ファイルを保存後 **、次のセルを実行（Shift+Enter）で採点を行います。"
   ]
  },
  {
   "cell_type": "code",
   "execution_count": 14,
   "metadata": {
    "collapsed": false
   },
   "outputs": [
    {
     "name": "stdout",
     "output_type": "stream",
     "text": [
      "Congratulations!\n",
      "We give you 10 points out of 10 points.\n",
      "\n"
     ]
    }
   ],
   "source": [
    "%%bash\n",
    "./validation_client.py dele-02 5 16 Step5_05.ipynb api.internal.zero2one.jp"
   ]
  },
  {
   "cell_type": "code",
   "execution_count": 15,
   "metadata": {
    "collapsed": false,
    "scrolled": false
   },
   "outputs": [
    {
     "name": "stdout",
     "output_type": "stream",
     "text": [
      "h_f[0] =  [-0.47076503 -0.00604193 -0.76968024  0.72696207]\n"
     ]
    }
   ],
   "source": [
    "np.random.seed(1234)\n",
    "sample_X, sample_Y = np.random.random((10,7,12)), np.random.random((10,4,12))\n",
    "encoder = Encoder(12, 4)\n",
    "encoder.U = glorot_uniform((12, 4), 1234)\n",
    "encoder.W = glorot_uniform((4,4), 1234)\n",
    "h_f = encoder.forward(sample_X)\n",
    "print('h_f[0] = ', h_f[0])"
   ]
  },
  {
   "cell_type": "markdown",
   "metadata": {},
   "source": [
    "**順伝播の出力**:\n",
    "\n",
    "h_f[0] =  [-0.47076503 -0.00604193 -0.76968024  0.72696207]"
   ]
  },
  {
   "cell_type": "code",
   "execution_count": 16,
   "metadata": {
    "collapsed": false
   },
   "outputs": [
    {
     "name": "stdout",
     "output_type": "stream",
     "text": [
      "delta_h_next[0] =  [ 0.02861925 -0.03504316 -0.00448306  0.00256951]\n"
     ]
    }
   ],
   "source": [
    "dX = glorot_uniform((10, 4), 1234)\n",
    "delta_h_next, deltas = encoder.backward(dX)\n",
    "print('delta_h_next[0] = ', delta_h_next[0])"
   ]
  },
  {
   "cell_type": "markdown",
   "metadata": {},
   "source": [
    "**逆伝播の出力**:\n",
    "\n",
    "delta_h_next[0] =  [ 0.02861925 -0.03504316 -0.00448306  0.00256951]"
   ]
  },
  {
   "cell_type": "markdown",
   "metadata": {},
   "source": [
    "### デコーダの実装"
   ]
  },
  {
   "cell_type": "markdown",
   "metadata": {},
   "source": [
    "デコーダの実装にあたりソフトマックス関数が必要になるのでこの演習では以下の関数を使って下さい。"
   ]
  },
  {
   "cell_type": "code",
   "execution_count": 17,
   "metadata": {
    "collapsed": true
   },
   "outputs": [],
   "source": [
    "def softmax(x, axis=1):\n",
    "    c = np.max(x)\n",
    "    exp_x = np.exp(x - c)\n",
    "    y = exp_x / np.sum(exp_x, axis=axis, keepdims=True) \n",
    "    return y"
   ]
  },
  {
   "cell_type": "markdown",
   "metadata": {},
   "source": [
    "**【課題４】** ここではデコーダの実装をします。\n",
    "\n",
    "デコーダでは前の出力を次の入力にしたりとエンコーダよりも少し複雑になっています。まずは図にして計算の流れを確認しています。\n",
    "\n",
    "<img src=\"./img/step5_dec.png\" width=\"980\">\n",
    "\n",
    "**def forward(self, enc_out, Y, is_training):**\n",
    "このメソッドは３つの引数があります。\n",
    "- `enc_out`: エンコーダの出力（最後の隠れ状態）\n",
    "- `Y`: 正解データ\n",
    "- `is_training`: 学習時とテスト時で計算が異なるので、その切り替えを行うためのフラグ\n",
    "\n",
    "そしてこの関数内では以下を実装してください。\n",
    "- `self.h[0]`: デコーダの一番初めの隠れ状態はエンコーダの最後の隠れ状態です。\n",
    "- `self.outputs[0]`: 一番初め目の出力です。図中の赤で囲まれた箇所の計算を行います。最後のsoftmax関数に渡すのを忘れないで下さい。\n",
    "- `a`: ここは学習時とテスト時で少し異なります。学習時は、一つ前の正解データ、`Y[:,t-1]`を入力とします。一方テスト時は、一つ前の出力、`self.outputs[t-1]`を入力とします。その他の計算はエンコーダ時に計算した`a`と同じです。\n",
    "- `self.h[t]`:tanh(a)を計算します。\n",
    "- `o`: 出力層の計算をします。式は$o(t)=h(t)V+c$です。\n",
    "- `self.outputs[t]`: softmax(o)を計算します。\n",
    "\n",
    "\n",
    "**def backward(self, Y):**\n",
    "このメソッドは1つの引数があります。\n",
    "- `Y`: 正解データ\n",
    "\n",
    "そしてこの関数内では逆伝播を実装します。基本的にStep5_01の逆伝播と同じです。違いはすべてのステップにおいて出力からの勾配があることです。なので、`delta_o`, `delta_V`, `delta_c`は全ステップにおいて計算が必要です。また、t=0については`delta_h`までの勾配しかありませんのでループ外で計算することにします。"
   ]
  },
  {
   "cell_type": "code",
   "execution_count": 18,
   "metadata": {
    "collapsed": false
   },
   "outputs": [],
   "source": [
    "#Coursedele-02 Step5 QuestionNumber17 d05645e316ef92d18715a1bbd42537fc\n",
    "class Decoder():\n",
    "    def __init__(self, in_size, out_size, class_num):\n",
    "        self.U = glorot_uniform((in_size, out_size))\n",
    "        self.W = glorot_uniform((out_size, out_size))\n",
    "        self.b = np.zeros((1, out_size))\n",
    "        self.V = glorot_uniform((out_size, class_num))\n",
    "        self.c = np.zeros((1, class_num))\n",
    "        self.params = [self.U, self.W, self.b, self.V, self.c]\n",
    "\n",
    "    def forward(self, enc_out, Y, is_training):\n",
    "        self.Y = Y\n",
    "        self.h = {}\n",
    "        self.outputs = {}\n",
    "        ###############START CODE HERE###############\n",
    "        self.h[0] = enc_out\n",
    "        self.outputs[0] = softmax(np.dot(enc_out, self.V) + self.c)\n",
    "        for t in range(1, 4):# t=0については上で計算済みなのでt=1からスタート\n",
    "            if is_training:\n",
    "                a = self.b + np.dot(self.h[t -1], self.W) + np.dot(self.Y[:, t-1], self.U)\n",
    "            else:\n",
    "                a = self.b + np.dot(self.h[t-1], self.W) + np.dot(self.outputs[t-1], self.U)\n",
    "            self.h[t] = np.tanh(a)\n",
    "            o = self.c + np.dot(self.h[t], self.V)\n",
    "            self.outputs[t] = softmax(o)\n",
    "        ################END CODE HERE################\n",
    "        # dict型からnumpy arrayに変換\n",
    "        return np.array(list(self.outputs.values())).transpose(1,0,2)\n",
    "    \n",
    "    def backward(self, Y):\n",
    "        batch_size, seq_length = Y.shape[:2]\n",
    "        # 勾配を初期化\n",
    "        delta_U, delta_W, delta_V = np.zeros_like(self.U), np.zeros_like(self.W), np.zeros_like(self.V)\n",
    "        delta_b, delta_c = np.zeros_like(self.b), np.zeros_like(self.c)\n",
    "        delta_h_next = np.zeros_like(self.h[0])\n",
    "        ###############START CODE HERE###############\n",
    "        for t in reversed(range(1, 4)):\n",
    "            delta_o = (self.outputs[t] - self.Y[:, t]) / float(batch_size)\n",
    "            # データ長（seq_length）で割る\n",
    "            delta_o /= seq_length\n",
    "            delta_V += np.dot(self.h[t].T, delta_o)\n",
    "            delta_c += np.sum(delta_o, axis = 0)\n",
    "            # delta_h_nextを足すのを忘れずに\n",
    "            delta_h = np.dot(delta_o, self.V.T) + delta_h_next\n",
    "            delta_a = (1 - self.h[t] * self.h[t]) * delta_h\n",
    "            delta_b += np.sum(delta_a, axis = 0)\n",
    "            delta_U += np.dot(self.outputs[t].T, delta_a)\n",
    "            delta_W += np.dot(self.h[t-1].T, delta_a)\n",
    "            delta_h_next =np.dot(delta_a, self.W.T)\n",
    "        t = 0\n",
    "        delta_o = (self.outputs[t] - self.Y[:, t]) / float(batch_size)\n",
    "        delta_o /= seq_length\n",
    "        delta_V += np.dot(self.h[0].T, delta_o)\n",
    "        delta_c += np.sum(delta_o, axis = 0)\n",
    "        delta_h = np.dot(delta_o, self.V.T) + delta_h_next\n",
    "        \n",
    "        ################END CODE HERE################\n",
    "        return delta_h, [delta_U, delta_W, delta_b, delta_V, delta_c]"
   ]
  },
  {
   "cell_type": "markdown",
   "metadata": {},
   "source": [
    "** ファイルを保存後 **、次のセルを実行（Shift+Enter）で採点を行います。"
   ]
  },
  {
   "cell_type": "code",
   "execution_count": 20,
   "metadata": {
    "collapsed": false
   },
   "outputs": [
    {
     "name": "stdout",
     "output_type": "stream",
     "text": [
      "Congratulations!\n",
      "We give you 10 points out of 10 points.\n",
      "\n"
     ]
    }
   ],
   "source": [
    "%%bash\n",
    "./validation_client.py dele-02 5 17 Step5_05.ipynb api.internal.zero2one.jp"
   ]
  },
  {
   "cell_type": "code",
   "execution_count": 21,
   "metadata": {
    "collapsed": false
   },
   "outputs": [
    {
     "name": "stdout",
     "output_type": "stream",
     "text": [
      "h_b[0,0, 0:4] =  [0.06090679 0.11617764 0.10710092 0.09172493]\n"
     ]
    }
   ],
   "source": [
    "decoder = Decoder(12, 4, 12)\n",
    "decoder.U = glorot_uniform((12, 4), 1234)\n",
    "decoder.W = glorot_uniform((4,4), 1234)\n",
    "decoder.V = glorot_uniform((4,12), 1234)\n",
    "h_b = decoder.forward(h_f, sample_Y, True)\n",
    "print('h_b[0,0, 0:4] = ', h_b[0,0, 0:4])"
   ]
  },
  {
   "cell_type": "markdown",
   "metadata": {},
   "source": [
    "**順伝播の出力**:\n",
    "\n",
    "h_b[0,0, 0:4] =  [0.06090679 0.11617764 0.10710092 0.09172493]\n"
   ]
  },
  {
   "cell_type": "code",
   "execution_count": 22,
   "metadata": {
    "collapsed": false,
    "scrolled": true
   },
   "outputs": [
    {
     "name": "stdout",
     "output_type": "stream",
     "text": [
      "delta_h[0] =  [-0.01244261  0.02151556 -0.0030168   0.01912854]\n"
     ]
    }
   ],
   "source": [
    "delta_h, deltas = decoder.backward(sample_Y)\n",
    "print('delta_h[0] = ', delta_h[0])"
   ]
  },
  {
   "cell_type": "markdown",
   "metadata": {},
   "source": [
    "**逆伝播の出力**:\n",
    "\n",
    "delta_h[0] =  [-0.01244261  0.02151556 -0.0030168   0.01912854]"
   ]
  },
  {
   "cell_type": "markdown",
   "metadata": {},
   "source": [
    "## モデルの準備"
   ]
  },
  {
   "cell_type": "markdown",
   "metadata": {},
   "source": [
    "### コスト関数の用意"
   ]
  },
  {
   "cell_type": "markdown",
   "metadata": {},
   "source": [
    "**【課題５】**　ここではコスト関数を実装します。\n",
    "\n",
    "コスト関数には交差エントロピーを使います。\n",
    "$$\n",
    "cost = - \\frac{1}{m}\\sum_x y(x) \\log{\\hat{y}(x)}\n",
    "$$"
   ]
  },
  {
   "cell_type": "code",
   "execution_count": 23,
   "metadata": {
    "collapsed": true
   },
   "outputs": [],
   "source": [
    "#Coursedele-02 Step5 QuestionNumber18 0c9e6a3b468028a6fafec89b31257de2\n",
    "def compute_cost(y_pred, targets, batch_size):\n",
    "    ###############START CODE HERE###############\n",
    "    cost = -np.sum(np.log(y_pred)*targets)/float(batch_size)\n",
    "    ################END CODE HERE################\n",
    "    return cost"
   ]
  },
  {
   "cell_type": "markdown",
   "metadata": {},
   "source": [
    "** ファイルを保存後 **、次のセルを実行（Shift+Enter）で採点を行います。"
   ]
  },
  {
   "cell_type": "code",
   "execution_count": 24,
   "metadata": {
    "collapsed": false
   },
   "outputs": [
    {
     "name": "stdout",
     "output_type": "stream",
     "text": [
      "Congratulations!\n",
      "We give you 10 points out of 10 points.\n",
      "\n"
     ]
    }
   ],
   "source": [
    "%%bash\n",
    "./validation_client.py dele-02 5 18 Step5_05.ipynb api.internal.zero2one.jp"
   ]
  },
  {
   "cell_type": "markdown",
   "metadata": {},
   "source": [
    "### モデルの作成"
   ]
  },
  {
   "cell_type": "markdown",
   "metadata": {},
   "source": [
    "ここからはCNNの演習の時に使ったコードを少し改良して使うだけです。まずはエンコーダ・デコーダのモデルを作ります。ここで隠れ層のユニット数は128とします。"
   ]
  },
  {
   "cell_type": "code",
   "execution_count": 25,
   "metadata": {
    "collapsed": true
   },
   "outputs": [],
   "source": [
    "def Make_Encoder_Decoder():\n",
    "    num_hidden = 128\n",
    "    enc = Encoder(12, num_hidden)\n",
    "    dec = Decoder(12, num_hidden, 12)\n",
    "    return [enc, dec]"
   ]
  },
  {
   "cell_type": "code",
   "execution_count": 26,
   "metadata": {
    "collapsed": true
   },
   "outputs": [],
   "source": [
    "class train_RNN:\n",
    "    def __init__(self, layers, cost_func, is_training):\n",
    "        self.layers = layers\n",
    "        self.params = []\n",
    "        for layer in self.layers:\n",
    "            self.params.append(layer.params)\n",
    "        self.cost_func = cost_func\n",
    "        self.is_training = is_training\n",
    "        self.cost = []\n",
    "        self.acc = []\n",
    "        self.val_cost = []\n",
    "        self.val_acc = []\n",
    "\n",
    "    def forward(self, X, Y):\n",
    "        output = self.layers[0].forward(X)\n",
    "        output = self.layers[1].forward(output, Y, self.is_training)\n",
    "        return output\n",
    "\n",
    "    def backward(self, Y):\n",
    "        grads = []\n",
    "        dout = Y\n",
    "        for layer in reversed(self.layers):\n",
    "            dout, grad = layer.backward(dout)\n",
    "            grads.append(grad)\n",
    "        return grads"
   ]
  },
  {
   "cell_type": "markdown",
   "metadata": {},
   "source": [
    "### ミニバッチの作成"
   ]
  },
  {
   "cell_type": "markdown",
   "metadata": {},
   "source": [
    "`get_minibatches`を使って入力`X`と出力`Y`をミニバッチに分割します。"
   ]
  },
  {
   "cell_type": "code",
   "execution_count": 27,
   "metadata": {
    "collapsed": true
   },
   "outputs": [],
   "source": [
    "def get_minibatches(X, Y, minibatch_size, shuffle=True):\n",
    "    m = X.shape[0]\n",
    "    minibatches = []\n",
    "    if shuffle:\n",
    "        np.random.seed(1234)\n",
    "        perm = np.random.permutation(m)\n",
    "        X, Y = X[perm], Y[perm]\n",
    "    for i in range(0, m, minibatch_size):\n",
    "        X_batch = X[i:i + minibatch_size, :]\n",
    "        Y_batch = Y[i:i + minibatch_size, :]\n",
    "        minibatches.append((X_batch, Y_batch))\n",
    "    return minibatches"
   ]
  },
  {
   "cell_type": "markdown",
   "metadata": {},
   "source": [
    "### 学習コードの作成"
   ]
  },
  {
   "cell_type": "code",
   "execution_count": 28,
   "metadata": {
    "collapsed": true
   },
   "outputs": [],
   "source": [
    "def get_acc(Y, Y_hat):\n",
    "    acc = np.sum(np.sum(np.argmax(Y, -1) == np.argmax(Y_hat, -1), 1) == Y.shape[1]) / Y.shape[0]\n",
    "    return acc\n",
    "\n",
    "def sgd_momentum(nnet, X, Y, minibatch_size, X_test, Y_test, max_epoch, learning_rate, mu=0.9):\n",
    "    #　入力をミニバッチに分割\n",
    "    minibatches = get_minibatches(X, Y, minibatch_size)\n",
    "    \n",
    "    # momentumの初期化\n",
    "    moments = []\n",
    "    for param_layer in nnet.params:\n",
    "        p = [np.zeros_like(param) for param in list(param_layer)]\n",
    "        moments.append(p)\n",
    "    \n",
    "    for epoch in range(max_epoch):\n",
    "        costs = []\n",
    "        accs = []\n",
    "        for num, (X_mini, y_mini) in enumerate(minibatches):\n",
    "            # 順伝搬 \n",
    "            out = nnet.forward(X_mini, y_mini)\n",
    "            # コスト関数の計算\n",
    "            cost = nnet.cost_func(out, y_mini, y_mini.shape[0]) / y_mini.shape[1]\n",
    "            costs.append(cost)\n",
    "            # 精度の計算\n",
    "            acc = get_acc(out, y_mini)\n",
    "            accs.append(acc)\n",
    "            # 勾配計算\n",
    "            grads = nnet.backward(y_mini)\n",
    "            \n",
    "            # パラメータの更新\n",
    "            for m, param, grad, in zip(moments, nnet.params, reversed(grads)):\n",
    "                for i in range(len(grad)):\n",
    "                    m[i] = mu * m[i] + learning_rate * grad[i]\n",
    "                    param[i] -= m[i]\n",
    "        \n",
    "        cost_mean = np.mean(costs)\n",
    "        acc_mean = np.mean(accs)\n",
    "        nnet.cost.append(cost_mean)\n",
    "        nnet.acc.append(acc_mean)\n",
    "        # テストデータ\n",
    "        nnet.is_traning = False\n",
    "        out = nnet.forward(X_test, Y_test)\n",
    "        val_cost = nnet.cost_func(out, Y_test, Y_test.shape[0]) / Y_test.shape[1]\n",
    "        val_acc = get_acc(out, Y_test)\n",
    "        nnet.val_cost.append(val_cost)\n",
    "        nnet.val_acc.append(val_acc)\n",
    "        nnet.is_traning = True\n",
    "        print('\\repoch: {}/{}, cost: {:.3}, acc: {:.3}, val_cost: {:.3}, val_acc: {:.3}'.format(\n",
    "                                                                epoch+1, max_epoch, \n",
    "                                                                cost_mean, acc_mean, \n",
    "                                                                val_cost, val_acc), end='', flush=True)\n",
    "        if (epoch+1)%10==0:\n",
    "            print('')\n",
    "        \n",
    "    return nnet"
   ]
  },
  {
   "cell_type": "markdown",
   "metadata": {},
   "source": [
    "## Sequence-to-Sequenceモデルの学習"
   ]
  },
  {
   "cell_type": "markdown",
   "metadata": {},
   "source": [
    "ではいよいりょ`train_RNN`で学習の準備を済まして、`sgd_momentum`で学習をスタートします。ここではまず学習率0.1で40エポック学習し、その後学習率を0.01に下げて10エポック学習しします。"
   ]
  },
  {
   "cell_type": "code",
   "execution_count": 29,
   "metadata": {
    "collapsed": true
   },
   "outputs": [],
   "source": [
    "autoencoder = train_RNN(Make_Encoder_Decoder(), compute_cost, True)"
   ]
  },
  {
   "cell_type": "code",
   "execution_count": 30,
   "metadata": {
    "collapsed": false,
    "scrolled": false
   },
   "outputs": [
    {
     "name": "stdout",
     "output_type": "stream",
     "text": [
      "Training\n",
      "epoch: 10/40, cost: 0.971, acc: 0.143, val_cost: 0.968, val_acc: 0.153\n",
      "epoch: 20/40, cost: 0.497, acc: 0.481, val_cost: 0.59, val_acc: 0.394\n",
      "epoch: 30/40, cost: 0.377, acc: 0.579, val_cost: 0.532, val_acc: 0.424\n",
      "epoch: 40/40, cost: 0.379, acc: 0.549, val_cost: 0.561, val_acc: 0.434\n",
      "epoch: 10/10, cost: 0.172, acc: 0.876, val_cost: 0.309, val_acc: 0.711\n",
      "CPU times: user 1min 55s, sys: 44.1 s, total: 2min 39s\n",
      "Wall time: 1min 20s\n"
     ]
    }
   ],
   "source": [
    "%%time\n",
    "print('Training')\n",
    "autoencoder = sgd_momentum(autoencoder, X_train, Y_train, minibatch_size=256, \n",
    "                           X_test=X_test, Y_test=Y_test, max_epoch=40, learning_rate=0.1)\n",
    "autoencoder = sgd_momentum(autoencoder, X_train, Y_train, minibatch_size=256, \n",
    "                           X_test=X_test, Y_test=Y_test, max_epoch=10, learning_rate=0.01)"
   ]
  },
  {
   "cell_type": "markdown",
   "metadata": {},
   "source": [
    "## ロスと精度の確認"
   ]
  },
  {
   "cell_type": "markdown",
   "metadata": {},
   "source": [
    "学習が進むに連れてコストと精度がどのように変化したのか確認しましょう。"
   ]
  },
  {
   "cell_type": "code",
   "execution_count": 31,
   "metadata": {
    "collapsed": false
   },
   "outputs": [
    {
     "data": {
      "image/png": "[encoded data removed]",
      "text/plain": [
       "<matplotlib.figure.Figure at 0x7feefeb2b898>"
      ]
     },
     "metadata": {},
     "output_type": "display_data"
    }
   ],
   "source": [
    "total_epoch = 50\n",
    "fig, ax1 = plt.subplots()\n",
    "lns1 = ax1.plot(range(total_epoch), autoencoder.cost, label='train_cost', color='b')\n",
    "lns2 = ax1.plot(range(total_epoch), autoencoder.val_cost, label='test_cost', color='r')\n",
    "ax1.set_xlabel('Epoch')\n",
    "ax1.set_ylabel('Cost')\n",
    "ax1.set_xticks(range(0,total_epoch+1,10))\n",
    "ax2 = ax1.twinx()\n",
    "lns3 = ax2.plot(range(total_epoch), autoencoder.acc, label='train_acc', color='g')\n",
    "lns4 = ax2.plot(range(total_epoch), autoencoder.val_acc, label='test_acc', color='m')\n",
    "ax2.set_ylabel('Accuracy')\n",
    "\n",
    "lns = lns1 + lns2 + lns3 + lns4\n",
    "labs = [l.get_label() for l in lns]\n",
    "ax1.legend(lns, labs, loc=2)\n",
    "fig.tight_layout()"
   ]
  },
  {
   "cell_type": "markdown",
   "metadata": {},
   "source": [
    "## テストデータにおける結果の確認"
   ]
  },
  {
   "cell_type": "markdown",
   "metadata": {},
   "source": [
    "テストデータのロスと精度最後に確認し、実際に足し算の結果を確認してみましょう。最後のセルを実行するたびに結果が変わるはずです。"
   ]
  },
  {
   "cell_type": "code",
   "execution_count": 32,
   "metadata": {
    "collapsed": false
   },
   "outputs": [
    {
     "name": "stdout",
     "output_type": "stream",
     "text": [
      "val_cost: 0.309, val_acc: 0.711\n"
     ]
    }
   ],
   "source": [
    "autoencoder.is_traning = False\n",
    "Y_pred = autoencoder.forward(X_test, Y_test)\n",
    "cost = autoencoder.cost_func(Y_pred, Y_test, Y_test.shape[0]) / Y_test.shape[1]\n",
    "acc = get_acc(Y_test, Y_pred)\n",
    "print('val_cost: {:.3}, val_acc: {:.3}'.format(cost, acc))"
   ]
  },
  {
   "cell_type": "code",
   "execution_count": 33,
   "metadata": {
    "collapsed": false
   },
   "outputs": [
    {
     "name": "stdout",
     "output_type": "stream",
     "text": [
      "input:807+430, output:1237, predict:1237\n"
     ]
    }
   ],
   "source": [
    "x_test = ''\n",
    "y_test = ''\n",
    "y_pred_test  = ''\n",
    "num = np.random.randint(len(Y_test)-1)\n",
    "for x in X_test[num]:\n",
    "    x_test += ix2char[np.argmax(x)]\n",
    "for y, y_pred in zip(Y_test[num], Y_pred[num]):\n",
    "    y_test += ix2char[np.argmax(y)]\n",
    "    y_pred_test += ix2char[np.argmax(y_pred)]\n",
    "print('input:{}, output:{}, predict:{}'.format(x_test, y_test, y_pred_test))"
   ]
  },
  {
   "cell_type": "code",
   "execution_count": null,
   "metadata": {
    "collapsed": true
   },
   "outputs": [],
   "source": []
  }
 ],
 "metadata": {
  "anaconda-cloud": {},
  "kernelspec": {
   "display_name": "Python [default]",
   "language": "python",
   "name": "python3"
  },
  "language_info": {
   "codemirror_mode": {
    "name": "ipython",
    "version": 3
   },
   "file_extension": ".py",
   "mimetype": "text/x-python",
   "name": "python",
   "nbconvert_exporter": "python",
   "pygments_lexer": "ipython3",
   "version": "3.5.2"
  },
  "toc": {
   "nav_menu": {
    "height": "279px",
    "width": "252px"
   },
   "navigate_menu": true,
   "number_sections": true,
   "sideBar": true,
   "threshold": 4,
   "toc_cell": false,
   "toc_section_display": "block",
   "toc_window_display": false
  }
 },
 "nbformat": 4,
 "nbformat_minor": 2
}
