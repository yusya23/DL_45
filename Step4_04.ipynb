{
 "cells": [
  {
   "cell_type": "markdown",
   "metadata": {},
   "source": [
    "# Step4 演習04 MNISTの分類\n",
    "---"
   ]
  },
  {
   "cell_type": "markdown",
   "metadata": {},
   "source": [
    "本演習では、Kerasを用いてMNISTの分類をおこないます。\n",
    "\n",
    "**はじめに**\n",
    "- for文やwhile文の利用は明示的な利用指示がない場所での利用は避けてください。\n",
    "\n",
    "**本演習の目的**\n",
    "- Kerasを用いて演習01と同じCNNの実装を行う"
   ]
  },
  {
   "cell_type": "markdown",
   "metadata": {},
   "source": [
    "**【課題１】** 採点を実行してください。"
   ]
  },
  {
   "cell_type": "code",
   "execution_count": 1,
   "metadata": {
    "collapsed": false
   },
   "outputs": [
    {
     "name": "stdout",
     "output_type": "stream",
     "text": [
      "この課題の採点は全員正解とします。\n"
     ]
    }
   ],
   "source": [
    "#Coursedele-02 Step4 QuestionNumber13 73fae3b054d083b91d3a570f08cfbcc8\n",
    "print(\"この課題の採点は全員正解とします。\")"
   ]
  },
  {
   "cell_type": "markdown",
   "metadata": {},
   "source": [
    "** ファイルを保存後 **、次のセルを実行（Shift+Enter）で採点を行います。"
   ]
  },
  {
   "cell_type": "code",
   "execution_count": 2,
   "metadata": {
    "collapsed": false
   },
   "outputs": [
    {
     "name": "stdout",
     "output_type": "stream",
     "text": [
      "Congratulations!\n",
      "We give you 10 points out of 10 points.\n",
      "\n"
     ]
    }
   ],
   "source": [
    "%%bash\n",
    "./validation_client.py dele-02 4 13 Step4_04.ipynb api.internal.zero2one.jp"
   ]
  },
  {
   "cell_type": "markdown",
   "metadata": {
    "collapsed": true
   },
   "source": [
    "## 2 Keras"
   ]
  },
  {
   "cell_type": "markdown",
   "metadata": {},
   "source": [
    "## 2-1 ライブラリのインポート\n",
    "\n",
    "まずはじめに、本演習で利用するライブラリのインポートを行います。\n",
    "\n",
    "- [numpy](http://www.numpy.org) 数値計算を行うための基本パッケージの公式ドキュメント\n",
    "- [matplotlib](http://matplotlib.org) グラフ描画ライブラリの基本パッケージの公式ドキュメント\n",
    "- [tensorflow](https://www.tensorflow.org/) 機械学習用のライブラリの公式ドキュメント\n",
    "- [keras](https://keras.io/) 機械学習用のライブラリ（tensorflowなどのラッパー）の公式ドキュメント\n",
    "\n",
    "`%matplotlib inline` はnotebook上で使える[magic function](http://ipython.readthedocs.io/en/stable/interactive/magics.html)の一つで、これによりmatplotlibをインタラクティブに使うことできます。\n",
    "\n",
    "`keras`を用いることでCNNやRNNを非常に簡単に作ることができるようになります。"
   ]
  },
  {
   "cell_type": "code",
   "execution_count": 3,
   "metadata": {
    "collapsed": true
   },
   "outputs": [],
   "source": [
    "%matplotlib inline\n",
    "import numpy as np\n",
    "import matplotlib.pyplot as plt\n",
    "import tensorflow as tf\n",
    "from tensorflow.examples.tutorials.mnist import input_data\n",
    "from tensorflow import keras"
   ]
  },
  {
   "cell_type": "markdown",
   "metadata": {},
   "source": [
    "## 2-2 データセット\n",
    "Step4 演習3と同様にMNISTを使います。"
   ]
  },
  {
   "cell_type": "code",
   "execution_count": 4,
   "metadata": {
    "collapsed": false
   },
   "outputs": [
    {
     "name": "stdout",
     "output_type": "stream",
     "text": [
      "Extracting MNIST_data/train-images-idx3-ubyte.gz\n",
      "Extracting MNIST_data/train-labels-idx1-ubyte.gz\n",
      "Extracting MNIST_data/t10k-images-idx3-ubyte.gz\n",
      "Extracting MNIST_data/t10k-labels-idx1-ubyte.gz\n"
     ]
    }
   ],
   "source": [
    "# ダウンロード元のURL\n",
    "mnist_ulr = 'http://yann.lecun.com/exdb/mnist/'\n",
    "\n",
    "# データの読み込み\n",
    "mnist = input_data.read_data_sets(\"MNIST_data/\", \n",
    "                                  one_hot=True, \n",
    "                                  validation_size=0, \n",
    "                                  source_url=mnist_ulr)\n",
    "\n",
    "# データのシャッフル\n",
    "permutation = np.random.permutation(mnist.train._images.shape[0])\n",
    "mnist.train._images = mnist.train.images[permutation]\n",
    "mnist.train._labels = mnist.train.labels[permutation]\n",
    "\n",
    "#データの正規化\n",
    "mean = np.mean(mnist.train.images)\n",
    "std = np.std(mnist.train.images)\n",
    "mnist.train._images = (mnist.train.images-mean)/std\n",
    "mnist.test._images = (mnist.test.images-mean)/std\n",
    "\n",
    "# データセットのサイズを制限\n",
    "train_size = 10000\n",
    "test_size = 1000\n",
    "mnist.train._images = mnist.train.images[:train_size]\n",
    "mnist.train._labels = mnist.train.labels[:train_size]\n",
    "mnist.train._num_examples = train_size\n",
    "mnist.test._images = mnist.test.images[:test_size]\n",
    "mnist.test._labels = mnist.test.labels[:test_size]\n",
    "mnist.test._num_examples = test_size"
   ]
  },
  {
   "cell_type": "markdown",
   "metadata": {},
   "source": [
    "## 2-3 モデルの構築"
   ]
  },
  {
   "cell_type": "markdown",
   "metadata": {},
   "source": [
    "**【確認１】**　演習01と全く同じ構造のCNNをKerasで構築します。\n",
    "\n",
    "- `KL`: 毎回`keras.layers`と書かずに済むようにします。\n",
    "- `REG`:上記と同様の理由です。これはL2正則化するために必要なものです。引数には1e-4を渡します。\n",
    "- `model`: kerasの[Sequential](https://keras.io/models/sequential/)という記述法でモデルを作成します。詳しくは[Sequential](https://keras.io/models/sequential/)を読んでください。\n",
    "この演習ではtensorflowからkerasを読み込んでいるので少しだけサイトとは違う記述をする必要があります。記述法はセルのコメントを読んでください。\n",
    "\n",
    "まずここで、kerasの[Conv2D](https://keras.io/layers/convolutional/#conv2d), [MaxPooling2D](https://keras.io/layers/pooling/#maxpooling2d)と[Dense](https://keras.io/layers/core/#dense)について説明します。\n",
    "- [Conv2D](https://keras.io/layers/convolutional/#conv2d): これには最低限フィルタ数（`filters`）とカーネルサイズ（`kernel_size`）を渡す必要があります。それ以外はデフォルトの値が入っています。例えば、`strides=(1,1)`, `padding='valid'`, `activation=None`, `kernel_initializer='glorot_uniform'` (演習01で使用した初期化方法）となっています。今回は`activation='relu'`, `padding='same'`, `kernel_regularizer=REG`とします。`kernel_size`と`strides`ですが縦横が同じ形であれば`(3,3)`ではなく`3`と書くこともできます\n",
    "- [MaxPooling2D](https://keras.io/layers/pooling/#maxpooling2d): これは引数なしでも使うことができますが、今回はストライド（`strides`）を設定します。フィルタサイズ（`pool_size`）はデフォルトで(2,2)になっているので今回は書かなくても問題ありません。\n",
    "- [Dense](https://keras.io/layers/core/#dense): これは全結合のことです。ノード数（`units`)を最低限記述する必要があります。今回は、畳み込み層同様に`activation`, `padding`, `kernel_regularizer`を設定してください。\n",
    "\n",
    "以上が簡単な説明でした。詳細はkerasのドキュメントを読んで確認してください。それでは実際にcnnを構築します。また、shift+tabでデフォルトで設定されている値を確認して見てください。\n",
    "- [Reshape](https://keras.io/layers/core/#reshape)を使って入力テンソルを（28,28,1）となるように変換します。ここで、`model`の一番始めの層ということで引数に`input=(28*28,)`を渡すようにしてください。\n",
    "- カーネルサイズ：３、フィルター数：１６、ストライド：１の畳み込み層, 活性関数はReLUとし、重みにL2正則化を追加します。\n",
    "- フィルターサイズ：２，ストライド：２のプーリング層を追加します。\n",
    "- カーネルサイズ：３、フィルター数：３２、ストライド：１の畳み込み層, 活性関数はReLUとし、重みにL2正則化を追加します。\n",
    "- 活性化関数\n",
    "- 入力テンソルを２Dに変換します。\n",
    "- ノード数１２８の全結合層, 活性関数はReLUとし、重みにL2正則化を追加します。\n",
    "- ドロップアウトは0.5とします。\n",
    "- ノード数１０の全結合層, 活性関数はsoftmaxとし、重みにL2正則化を追加します。"
   ]
  },
  {
   "cell_type": "code",
   "execution_count": 6,
   "metadata": {
    "collapsed": false
   },
   "outputs": [],
   "source": [
    "KL = keras.layers\n",
    "'''\n",
    "KLからkerasのlayerを取得します。\n",
    "[例]\n",
    "KL.Reshape, KL.Conv2D, KL.Maxpooling, KL.Flatten(), KL.Dense(), KL.Dropout()など\n",
    "'''\n",
    "REG = keras.regularizers.l2(1e-4)\n",
    "\n",
    "model = keras.models.Sequential()\n",
    "###############START CODE HERE###############\n",
    "#適切な 関数・変数・値 などにNoneを書き換えてください。\n",
    "model.add(KL.Reshape((28,28,1), input_shape=(28*28,)))\n",
    "model.add(KL.Conv2D(3, 16, activation='relu', \n",
    "                    padding='same',\n",
    "                    kernel_regularizer=REG))\n",
    "model.add(KL.MaxPooling2D(strides=2))\n",
    "model.add(KL.Conv2D(3, 32, activation='relu', \n",
    "                    padding='same',\n",
    "                    kernel_regularizer=REG))\n",
    "model.add(KL.Flatten())\n",
    "model.add(KL.Dense(128, activation='relu', \n",
    "                   kernel_regularizer=REG))\n",
    "model.add(KL.Dropout(0.5))\n",
    "model.add(KL.Dense(10, activation='relu', \n",
    "                   kernel_regularizer=REG))\n",
    "################END CODE HERE################\n",
    "# セルを実行するとWARNING（警告）がでるかもしれませんが、特に問題はないので無視してください。"
   ]
  },
  {
   "cell_type": "markdown",
   "metadata": {},
   "source": [
    "次に作成したモデルの構造を確認します。`model.summary()`を見ることで各層の出力サイズとパラメータ数が分かります。"
   ]
  },
  {
   "cell_type": "code",
   "execution_count": 7,
   "metadata": {
    "collapsed": false,
    "scrolled": false
   },
   "outputs": [
    {
     "name": "stdout",
     "output_type": "stream",
     "text": [
      "_________________________________________________________________\n",
      "Layer (type)                 Output Shape              Param #   \n",
      "=================================================================\n",
      "reshape_2 (Reshape)          (None, 28, 28, 1)         0         \n",
      "_________________________________________________________________\n",
      "conv2d_1 (Conv2D)            (None, 28, 28, 3)         771       \n",
      "_________________________________________________________________\n",
      "max_pooling2d_1 (MaxPooling2 (None, 14, 14, 3)         0         \n",
      "_________________________________________________________________\n",
      "conv2d_2 (Conv2D)            (None, 14, 14, 3)         9219      \n",
      "_________________________________________________________________\n",
      "flatten_1 (Flatten)          (None, 588)               0         \n",
      "_________________________________________________________________\n",
      "dense_1 (Dense)              (None, 128)               75392     \n",
      "_________________________________________________________________\n",
      "dropout_1 (Dropout)          (None, 128)               0         \n",
      "_________________________________________________________________\n",
      "dense_2 (Dense)              (None, 10)                1290      \n",
      "=================================================================\n",
      "Total params: 86,672\n",
      "Trainable params: 86,672\n",
      "Non-trainable params: 0\n",
      "_________________________________________________________________\n"
     ]
    }
   ],
   "source": [
    "model.summary()"
   ]
  },
  {
   "cell_type": "markdown",
   "metadata": {},
   "source": [
    "## 2-4 モデルの準備"
   ]
  },
  {
   "cell_type": "markdown",
   "metadata": {},
   "source": [
    "**【確認２】**　モデルをコンパイルします。\n",
    "\n",
    "`model`ができたら次に、ロスや最適化手法を設定し、[compile](https://keras.io/models/sequential/#compile)します。\n",
    "- `loss`: [categorical_crossentropy](https://keras.io/backend/#categorical_crossentropy)を使用します。\n",
    "- `optimizer`: [Adam](https://keras.io/optimizers/#adam)を使用します。\n",
    "- `metrics`: モデルのパフォーマンス評価関数を設定します。今回は`['accuracy']`とします。"
   ]
  },
  {
   "cell_type": "code",
   "execution_count": 10,
   "metadata": {
    "collapsed": false
   },
   "outputs": [],
   "source": [
    "# categorical_crossentropyはkeras.losses.categorical_crossentropyと書いてください。\n",
    "###############START CODE HERE###############\n",
    "#適切な 関数・変数・値 などにNoneを書き換えてください。\n",
    "model.compile(loss=keras.losses.categorical_crossentropy,\n",
    "              optimizer='Adam',\n",
    "              metrics=['accuracy'])\n",
    "################END CODE HERE################"
   ]
  },
  {
   "cell_type": "markdown",
   "metadata": {},
   "source": [
    "## 2-5 コールバックの準備"
   ]
  },
  {
   "cell_type": "markdown",
   "metadata": {},
   "source": [
    "**【確認３】**　ここではコールバックを１つ実装します。\n",
    "\n",
    "Kerasには[callback](https://keras.io/callbacks/)と呼ばれる関数が用意されています。これは学習時にモデルの内部情報を記録したり、変更したりする際に使用します。今回はモデルのパラメータを自動で保存してくれるコールバックを用意します。そのために、[ModelCheckpoint](https://keras.io/callbacks/#ModelCheckpoint)を用います。\n",
    "\n",
    "また、Kerasモデルのすべてに[Hisotry](https://keras.io/callbacks/#history)のコールバックがデフォルトで設定されています。"
   ]
  },
  {
   "cell_type": "code",
   "execution_count": 11,
   "metadata": {
    "collapsed": true
   },
   "outputs": [],
   "source": [
    "###############START CODE HERE###############\n",
    "filepath = './weights.{epoch:02d}-{val_loss:.2f}.hdf5'\n",
    "model_checkpoint = keras.callbacks.ModelCheckpoint(filepath)\n",
    "################END CODE HERE################"
   ]
  },
  {
   "cell_type": "markdown",
   "metadata": {},
   "source": [
    "ModelChekcpoint以外にも多くのコールバックがKerasには実装されています。時間があればこれ以外のコールバックも追加してみて下さい。"
   ]
  },
  {
   "cell_type": "markdown",
   "metadata": {},
   "source": [
    "## 2-5学習"
   ]
  },
  {
   "cell_type": "markdown",
   "metadata": {},
   "source": [
    "では実際に学習を行います。kerasでは[model.fit](https://keras.io/models/sequential/#fit)を使うことで簡単に学習を行うことができます。"
   ]
  },
  {
   "cell_type": "code",
   "execution_count": 12,
   "metadata": {
    "collapsed": false
   },
   "outputs": [
    {
     "name": "stdout",
     "output_type": "stream",
     "text": [
      "Train on 10000 samples, validate on 1000 samples\n",
      "Epoch 1/3\n",
      "10000/10000 [==============================] - 76s - loss: 3.5955 - acc: 0.1495 - val_loss: 2.1434 - val_acc: 0.3820\n",
      "Epoch 2/3\n",
      "10000/10000 [==============================] - 81s - loss: 2.0649 - acc: 0.2870 - val_loss: 1.6090 - val_acc: 0.6540\n",
      "Epoch 3/3\n",
      "10000/10000 [==============================] - 80s - loss: 1.8040 - acc: 0.4634 - val_loss: 1.4599 - val_acc: 0.7100\n",
      "Test loss: 1.459920166015625\n",
      "Test accuracy: 0.71\n",
      "CPU times: user 7min 8s, sys: 23 s, total: 7min 31s\n",
      "Wall time: 4min 2s\n"
     ]
    }
   ],
   "source": [
    "%%time\n",
    "batch_size = 200\n",
    "total_epoch = 3\n",
    "log = model.fit(mnist.train.images, mnist.train.labels,\n",
    "          batch_size=batch_size,\n",
    "          epochs=total_epoch,\n",
    "          verbose=1,\n",
    "          validation_data=(mnist.test.images, mnist.test.labels),\n",
    "          callbacks=[model_checkpoint])\n",
    "score = model.evaluate(mnist.test.images, mnist.test.labels, verbose=0)\n",
    "print('Test loss:', score[0])\n",
    "print('Test accuracy:', score[1])"
   ]
  },
  {
   "cell_type": "markdown",
   "metadata": {},
   "source": [
    "`log`には学習の履歴が保存されています。（コールバックのHistory）これを用いて学習ロスとテストロスをプロットしてみます。"
   ]
  },
  {
   "cell_type": "code",
   "execution_count": 13,
   "metadata": {
    "collapsed": false
   },
   "outputs": [
    {
     "data": {
      "image/png": "[encoded data removed]",
      "text/plain": [
       "<matplotlib.figure.Figure at 0x7f95ac092940>"
      ]
     },
     "metadata": {},
     "output_type": "display_data"
    }
   ],
   "source": [
    "fig, ax1 = plt.subplots()\n",
    "lns1 = ax1.plot(log.history['loss'], label='train_cost', color='b')\n",
    "lns2 = ax1.plot(log.history['val_loss'], label='test_cost', color='r')\n",
    "ax1.set_xlabel('Epoch')\n",
    "ax1.set_ylabel('Cost')\n",
    "ax1.set_xticks(range(total_epoch))\n",
    "\n",
    "ax2 = ax1.twinx()\n",
    "lns3 = ax2.plot(log.history['val_acc'], label='test_acc', color='g')\n",
    "ax2.set_ylabel('Accuracy')\n",
    "\n",
    "lns = lns1 + lns2 + lns3\n",
    "labs = [l.get_label() for l in lns]\n",
    "ax1.legend(lns, labs, loc=2)\n",
    "fig.tight_layout()"
   ]
  },
  {
   "cell_type": "code",
   "execution_count": null,
   "metadata": {
    "collapsed": true
   },
   "outputs": [],
   "source": []
  },
  {
   "cell_type": "code",
   "execution_count": null,
   "metadata": {
    "collapsed": true
   },
   "outputs": [],
   "source": []
  }
 ],
 "metadata": {
  "anaconda-cloud": {},
  "kernelspec": {
   "display_name": "Python [default]",
   "language": "python",
   "name": "python3"
  },
  "language_info": {
   "codemirror_mode": {
    "name": "ipython",
    "version": 3
   },
   "file_extension": ".py",
   "mimetype": "text/x-python",
   "name": "python",
   "nbconvert_exporter": "python",
   "pygments_lexer": "ipython3",
   "version": "3.5.2"
  },
  "toc": {
   "nav_menu": {
    "height": "156px",
    "width": "252px"
   },
   "navigate_menu": true,
   "number_sections": true,
   "sideBar": true,
   "threshold": 4,
   "toc_cell": false,
   "toc_section_display": "block",
   "toc_window_display": false
  }
 },
 "nbformat": 4,
 "nbformat_minor": 2
}
