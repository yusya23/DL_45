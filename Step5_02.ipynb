{
 "cells": [
  {
   "cell_type": "markdown",
   "metadata": {},
   "source": [
    "# Step5 演習02 MNISTの多クラス分類（TensorFlow）\n",
    "---"
   ]
  },
  {
   "cell_type": "markdown",
   "metadata": {},
   "source": [
    "本演習では、手書き数字のMNISTをRNNを用いて分類します。\n",
    "\n",
    "**はじめに**\n",
    "- for文やwhile文の利用は明示的な利用指示がない場所での利用は避けてください。\n",
    "\n",
    "**本演習の目的**\n",
    "- RNNをTensorFlowの関数を使って実装する"
   ]
  },
  {
   "cell_type": "markdown",
   "metadata": {},
   "source": [
    "**【課題１】** 採点を実行してください。"
   ]
  },
  {
   "cell_type": "code",
   "execution_count": 1,
   "metadata": {
    "collapsed": false
   },
   "outputs": [
    {
     "name": "stdout",
     "output_type": "stream",
     "text": [
      "この課題の採点は全員正解とします。\n"
     ]
    }
   ],
   "source": [
    "#Coursedele-02 Step5 QuestionNumber6 15cd7b9f15ccd5baee95171f0de7e962\n",
    "print(\"この課題の採点は全員正解とします。\")"
   ]
  },
  {
   "cell_type": "markdown",
   "metadata": {},
   "source": [
    "** ファイルを保存後 **、次のセルを実行（Shift+Enter）で採点を行います。"
   ]
  },
  {
   "cell_type": "code",
   "execution_count": 2,
   "metadata": {
    "collapsed": false
   },
   "outputs": [
    {
     "name": "stdout",
     "output_type": "stream",
     "text": [
      "Congratulations!\n",
      "We give you 10 points out of 10 points.\n",
      "\n"
     ]
    }
   ],
   "source": [
    "%%bash\n",
    "./validation_client.py dele-02 5 6 Step5_02.ipynb api.internal.zero2one.jp"
   ]
  },
  {
   "cell_type": "markdown",
   "metadata": {},
   "source": [
    "## ライブラリのインストール\n",
    "\n",
    "まずはじめに、本演習で利用するライブラリのインポートを行います。\n",
    "\n",
    "- [numpy](http://www.numpy.org) 数値計算を行うための基本パッケージの公式ドキュメント\n",
    "- [matplotlib](http://matplotlib.org) グラフ描画ライブラリの基本パッケージの公式ドキュメント\n",
    "- [tensorflow](https://www.tensorflow.org/) 機械学習用のライブラリの公式ドキュメント\n",
    "\n",
    "\n",
    "`%matplotlib inline` はnotebook上で使える[magic function](http://ipython.readthedocs.io/en/stable/interactive/magics.html)の一つで、これによりmatplotlibをインタラクティブに使うことできます。"
   ]
  },
  {
   "cell_type": "code",
   "execution_count": 3,
   "metadata": {
    "collapsed": true
   },
   "outputs": [],
   "source": [
    "import numpy as np\n",
    "%matplotlib inline \n",
    "import matplotlib.pyplot as plt\n",
    "import tensorflow as tf\n",
    "from tensorflow.examples.tutorials.mnist import input_data"
   ]
  },
  {
   "cell_type": "markdown",
   "metadata": {
    "collapsed": true
   },
   "source": [
    "## データセット"
   ]
  },
  {
   "cell_type": "markdown",
   "metadata": {},
   "source": [
    "いままでと同様にMNISTデータセットを読み込みます。"
   ]
  },
  {
   "cell_type": "code",
   "execution_count": 4,
   "metadata": {
    "collapsed": false
   },
   "outputs": [
    {
     "name": "stdout",
     "output_type": "stream",
     "text": [
      "Extracting MNIST_data/train-images-idx3-ubyte.gz\n",
      "Extracting MNIST_data/train-labels-idx1-ubyte.gz\n",
      "Extracting MNIST_data/t10k-images-idx3-ubyte.gz\n",
      "Extracting MNIST_data/t10k-labels-idx1-ubyte.gz\n"
     ]
    }
   ],
   "source": [
    "# データの読み込み\n",
    "mnist = input_data.read_data_sets(\"MNIST_data/\", \n",
    "                                  one_hot=True, \n",
    "                                  validation_size=0)\n",
    "\n",
    "# データのシャッフル\n",
    "permutation = np.random.permutation(mnist.train._images.shape[0])\n",
    "mnist.train._images = mnist.train.images[permutation]\n",
    "mnist.train._labels = mnist.train.labels[permutation]\n",
    "\n",
    "#データの正規化\n",
    "mean = np.mean(mnist.train.images)\n",
    "std = np.std(mnist.train.images)\n",
    "mnist.train._images = (mnist.train.images-mean)/std\n",
    "mnist.test._images = (mnist.test.images-mean)/std"
   ]
  },
  {
   "cell_type": "markdown",
   "metadata": {},
   "source": [
    "## モデルの構築"
   ]
  },
  {
   "cell_type": "markdown",
   "metadata": {},
   "source": [
    "**【確認１】**　ここでは演習01で実装したRNNをTensorFlowを用いて実装します。\n",
    "\n",
    "`def RNN`では、\n",
    "- 入力として`x`を受け取ります\n",
    "- `x`の形（batchsize, 縦、横）を[tf.reshape](https://www.tensorflow.org/api_docs/python/tf/reshape)を用いて変更します。\n",
    "- `x`を[tf.unstack](https://www.tensorflow.org/api_docs/python/tf/unstack)を用いて行毎に分割します。\n",
    "- `rnn_cell`: ここでは`tf.cotrib.rnn`から[BasicRNNCell](https://www.tensorflow.org/api_docs/python/tf/contrib/rnn/BasicRNNCell)を呼び設定を行います。ここでは引数として`num_units`と`activation`を与えます。`num_units`は隠れ層のユニット数です（100として下さい）。また`activation`は隠れ層の活性化関数です（ここでは`tf.tanh`）。\n",
    "- `outputs, states`:　用意した`x`と`rnn_cell`を`tf.nn`の[static_rnn](https://www.tensorflow.org/api_docs/python/tf/nn/static_rnn)に渡します。また、引数として`dtype=tf.float32`も渡して下さい。\n",
    "- `V`, `c`：　これまでで下の式で言う$\\boldsymbol{h}^{(t)}$まで計算しましたが、$\\boldsymbol{o}^{(t)}$は計算されていません。なのでここではこの式用に$\\boldsymbol{c}$と$\\boldsymbol{V}$を用意します。\n",
    "\n",
    "$$\n",
    "\\begin{eqnarray}\n",
    "\\boldsymbol{a}^{(t)}&=&\\boldsymbol{b}+\\boldsymbol{h}^{(t-1)}\\boldsymbol{W}+\\boldsymbol{x}^{(t)}\\boldsymbol{U}\\\\\n",
    "\\boldsymbol{h}^{(t)}&=&tanh(\\boldsymbol{a}^{(t)})\\\\\n",
    "\\boldsymbol{o}^{(t)}&=&\\boldsymbol{c}+\\boldsymbol{h}^{(t)}\\boldsymbol{V}\\\\\n",
    "\\boldsymbol{\\hat{y}}^{(t)}&=&softmax(\\boldsymbol{o}^{(t)})\n",
    "\\end{eqnarray}\n",
    "$$\n",
    "\n",
    "- `o`: 最後に`output[-1]`と`V`を[tf.matmul](https://www.tensorflow.org/api_docs/python/tf/matmul)でかけて`c`を足します。"
   ]
  },
  {
   "cell_type": "code",
   "execution_count": 18,
   "metadata": {
    "collapsed": true
   },
   "outputs": [],
   "source": [
    "def RNN(x):\n",
    "    ###############START CODE HERE###############\n",
    "    #適切な 関数・変数・値 などにNoneを書き換えてください。\n",
    "    # (batch_size, 28*28) -> (batch_size, 28, 28)\n",
    "    x = tf.reshape(x, (-1, 28, 28))\n",
    "    \n",
    "    # 行毎に分割\n",
    "    x = tf.unstack(x, 28, 1)\n",
    "    \n",
    "    # RNNの設定\n",
    "    rnn_cell = tf.contrib.rnn.BasicRNNCell(num_units=100, activation=tf.tanh)\n",
    "\n",
    "    # RNNモデルの作成\n",
    "    outputs, states = tf.nn.static_rnn(rnn_cell, x, dtype=tf.float32)\n",
    "\n",
    "    # 最終層用の重みとバイアス(V, c)\n",
    "    std = np.sqrt(6./(100+10))\n",
    "    V = tf.Variable(tf.random_uniform([100, 10], minval=-std, maxval=std))\n",
    "    c = tf.Variable(tf.zeros(10))\n",
    "\n",
    "    o = tf.matmul(outputs[-1], V) + c\n",
    "    ################END CODE HERE################\n",
    "    return o"
   ]
  },
  {
   "cell_type": "markdown",
   "metadata": {},
   "source": [
    "## モデルの準備"
   ]
  },
  {
   "cell_type": "markdown",
   "metadata": {},
   "source": [
    "### セッションの作成"
   ]
  },
  {
   "cell_type": "code",
   "execution_count": 19,
   "metadata": {
    "collapsed": true
   },
   "outputs": [],
   "source": [
    "tf.reset_default_graph()\n",
    "sess  = tf.InteractiveSession()"
   ]
  },
  {
   "cell_type": "markdown",
   "metadata": {},
   "source": [
    "### placeholderの用意"
   ]
  },
  {
   "cell_type": "code",
   "execution_count": 20,
   "metadata": {
    "collapsed": true
   },
   "outputs": [],
   "source": [
    "x = tf.placeholder(\"float\", [None, 28*28])\n",
    "y = tf.placeholder(\"float\", [None, 10])"
   ]
  },
  {
   "cell_type": "markdown",
   "metadata": {},
   "source": [
    "### モデルの読み込み\n"
   ]
  },
  {
   "cell_type": "markdown",
   "metadata": {},
   "source": [
    "上記で用意した`def rnn()`を呼びます"
   ]
  },
  {
   "cell_type": "code",
   "execution_count": 21,
   "metadata": {
    "collapsed": false
   },
   "outputs": [],
   "source": [
    "preds = RNN(x)"
   ]
  },
  {
   "cell_type": "markdown",
   "metadata": {},
   "source": [
    "### コスト関数の定義と最適化"
   ]
  },
  {
   "cell_type": "markdown",
   "metadata": {},
   "source": [
    "CNNの演習と同様にコスト関数にはクロスエントロピー誤差関数を使用します。\n",
    "- `cost`: ここでは [tf.nn.softmax_cross_entropy_with_logits](https://www.tensorflow.org/api_docs/python/tf/nn/softmax_cross_entropy_with_logits) を使用します。また、このままではクラス分の損失があるので [tf.reduce.mean](https://www.tensorflow.org/api_docs/python/tf/reduce_mean) を使って平均を求めます。\n",
    "\n",
    "次にこの`cost`をADAMを使って最小化します。\n",
    "- `optimizer`: [tf.train.AdamOptimzer](https://www.tensorflow.org/api_docs/python/tf/train/AdamOptimizer)を追加します。引数には`learning_rate`を渡します。また、これを`.mnimize(cost)`を後尾に書き加えます。"
   ]
  },
  {
   "cell_type": "code",
   "execution_count": 22,
   "metadata": {
    "collapsed": true
   },
   "outputs": [],
   "source": [
    "cost = tf.reduce_mean(tf.nn.softmax_cross_entropy_with_logits(logits=preds, labels=y))\n",
    "optimizer = tf.train.AdamOptimizer(learning_rate=0.001).minimize(cost)"
   ]
  },
  {
   "cell_type": "markdown",
   "metadata": {},
   "source": [
    "### 精度の計算"
   ]
  },
  {
   "cell_type": "markdown",
   "metadata": {},
   "source": [
    "ここでは精度を計算します。\n",
    "- `correct_pred`: [tf.equal](https://www.tensorflow.org/api_docs/python/tf/equal)を使い予測結果の`test_pred`と正解ラベルの`labels`を比較します。この際に、まず両方とも[tf.argmax](https://www.tensorflow.org/api_docs/python/tf/argmax)を使いone-hot-vectorの最大値のインデックスを返させます。ここで、`axis=1`とするのを忘れないようにしてください。\n",
    "- `accuracy`: `correct_pred`はbool型（[True, False, True...])となっているので[tf.cast](https://www.tensorflow.org/api_docs/python/tf/cast)を使ってtf.float32に変換させます。そして、[tf.reduce_mean](https://www.tensorflow.org/api_docs/python/tf/reduce_mean)を使って精度を求めます。"
   ]
  },
  {
   "cell_type": "code",
   "execution_count": 23,
   "metadata": {
    "collapsed": true
   },
   "outputs": [],
   "source": [
    "correct_pred = tf.equal(tf.argmax(preds, 1), tf.argmax(y, 1))\n",
    "accuracy = tf.reduce_mean(tf.cast(correct_pred, tf.float32))"
   ]
  },
  {
   "cell_type": "markdown",
   "metadata": {},
   "source": [
    "## 学習"
   ]
  },
  {
   "cell_type": "markdown",
   "metadata": {},
   "source": [
    "**【確認２】**　ここでは今までの演習のコードなどを参考にしながら学習のコードを作成します。\n",
    "\n",
    "- `mnist.train.next_batch`で次のミニバッチを取り出せます。\n",
    "- (任意）10ステップごとにログを出すコードを書いて下さい\n",
    "- 最後にテストデータをモデルに渡し精度を計算して下さい。"
   ]
  },
  {
   "cell_type": "code",
   "execution_count": 24,
   "metadata": {
    "collapsed": false
   },
   "outputs": [
    {
     "name": "stdout",
     "output_type": "stream",
     "text": [
      " step: 230 / cost: 0.137016 / acc: 0.96000\n",
      "Test Accuracy: 0.963\n",
      "CPU times: user 1min 21s, sys: 6.86 s, total: 1min 28s\n",
      "Wall time: 46.8 s\n"
     ]
    }
   ],
   "source": [
    "%%time\n",
    "sess.run(tf.global_variables_initializer())\n",
    "# バッチサイズ\n",
    "batch_size = 250\n",
    "# １エポックあたりのステップ数\n",
    "total_step_train = int(len(mnist.train.labels)/batch_size)\n",
    "for epoch in range(5):\n",
    "    for interation in range(total_step_train):\n",
    "        ###############START CODE HERE###############\n",
    "        #適切な 関数・変数・値 などにNoneを書き換えてください。\n",
    "        batch_x, batch_y = mnist.train.next_batch(batch_size)\n",
    "        sess.run(optimizer, feed_dict={x: batch_x, y: batch_y})\n",
    "        if interation % 10 == 0:\n",
    "            acc , _cost = sess.run([accuracy, cost], \n",
    "                                feed_dict={x: batch_x, y: batch_y})\n",
    "            print('\\r step: {} / cost: {:.6f} / acc: {:.5f}'.format(interation, _cost, acc), end='')\n",
    "        ################END CODE HERE################\n",
    "# テスト\n",
    "###############START CODE HERE###############\n",
    "#適切な 関数・変数・値 などにNoneを書き換えてください。\n",
    "test_acc = sess.run(accuracy, feed_dict={x: mnist.test.images, y: mnist.test.labels})\n",
    "################END CODE HERE################\n",
    "print(\"\\nTest Accuracy: {:.3f}\".format(test_acc))"
   ]
  },
  {
   "cell_type": "code",
   "execution_count": null,
   "metadata": {
    "collapsed": true
   },
   "outputs": [],
   "source": []
  },
  {
   "cell_type": "code",
   "execution_count": null,
   "metadata": {
    "collapsed": true
   },
   "outputs": [],
   "source": []
  }
 ],
 "metadata": {
  "anaconda-cloud": {},
  "kernelspec": {
   "display_name": "Python [default]",
   "language": "python",
   "name": "python3"
  },
  "language_info": {
   "codemirror_mode": {
    "name": "ipython",
    "version": 3
   },
   "file_extension": ".py",
   "mimetype": "text/x-python",
   "name": "python",
   "nbconvert_exporter": "python",
   "pygments_lexer": "ipython3",
   "version": "3.5.2"
  },
  "toc": {
   "nav_menu": {
    "height": "225px",
    "width": "252px"
   },
   "navigate_menu": true,
   "number_sections": true,
   "sideBar": true,
   "threshold": 4,
   "toc_cell": false,
   "toc_section_display": "block",
   "toc_window_display": false
  }
 },
 "nbformat": 4,
 "nbformat_minor": 2
}
